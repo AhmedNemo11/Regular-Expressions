{
 "cells": [
  {
   "cell_type": "markdown",
   "metadata": {},
   "source": [
    "### Today's Content"
   ]
  },
  {
   "cell_type": "markdown",
   "metadata": {},
   "source": [
    "#### Regular Expressions \n",
    "#### More questions and answers"
   ]
  },
  {
   "cell_type": "code",
   "execution_count": 14,
   "metadata": {
    "ExecuteTime": {
     "end_time": "2022-04-21T20:26:53.068285Z",
     "start_time": "2022-04-21T20:26:53.050286Z"
    }
   },
   "outputs": [],
   "source": [
    "# Composition \n",
    "class Composition:\n",
    "    \n",
    "    def __init__(self): # constructor\n",
    "        self.__attributes = dict() # key : attname, value: att value\n",
    "        self.__methods= dict() # key : function name , value : function \n",
    "    \n",
    "    def addAttribute(self, attname, attvalue):\n",
    "        self.__attributes[attname] = attvalue\n",
    "    \n",
    "    def removeAttribute(self, attname):\n",
    "        del self.__attributes[attname]\n",
    "    \n",
    "    def setAttribute(self, attname, attvalue):\n",
    "        self.__attributes[attname] = attvalue\n",
    "        \n",
    "    def getAttribute(self, attname):\n",
    "        return self.__attributes[attname] # return value of attname \n",
    "        \n",
    "    def printallAtt(self):\n",
    "        for i in self.__attributes:\n",
    "            print(i)\n",
    "    \n",
    "    def addMethod(self, methodname, method):\n",
    "        self.__methods[methodname] = method\n",
    "    \n",
    "    def removeMethod(self, methodname):\n",
    "        del self.__methods[methodname]\n",
    "    \n",
    "    def callMethod(self, methodname):\n",
    "        self.__methods[methodname]()\n",
    "        # function_name() call function\n",
    "        \n",
    "    def printallMethods(self):\n",
    "        for i in self.__methods:\n",
    "            print(i)"
   ]
  },
  {
   "cell_type": "code",
   "execution_count": 27,
   "metadata": {
    "ExecuteTime": {
     "end_time": "2022-04-21T20:28:03.450080Z",
     "start_time": "2022-04-21T20:28:03.439081Z"
    }
   },
   "outputs": [],
   "source": [
    "y = Composition()"
   ]
  },
  {
   "cell_type": "code",
   "execution_count": 28,
   "metadata": {
    "ExecuteTime": {
     "end_time": "2022-04-21T20:28:11.461822Z",
     "start_time": "2022-04-21T20:28:11.451824Z"
    }
   },
   "outputs": [],
   "source": [
    "y.printallAtt()"
   ]
  },
  {
   "cell_type": "code",
   "execution_count": 29,
   "metadata": {
    "ExecuteTime": {
     "end_time": "2022-04-21T20:29:25.643223Z",
     "start_time": "2022-04-21T20:29:25.632223Z"
    }
   },
   "outputs": [],
   "source": [
    "def printsquare():\n",
    "    x = int(input(\"please enter any number: \"))\n",
    "    print(x*x)\n",
    "\n",
    "y.addMethod(\"square\", printsquare)"
   ]
  },
  {
   "cell_type": "code",
   "execution_count": 30,
   "metadata": {
    "ExecuteTime": {
     "end_time": "2022-04-21T20:29:46.990831Z",
     "start_time": "2022-04-21T20:29:44.592471Z"
    }
   },
   "outputs": [
    {
     "name": "stdout",
     "output_type": "stream",
     "text": [
      "please enter any number: 4\n",
      "16\n"
     ]
    }
   ],
   "source": [
    "y.callMethod(\"square\")"
   ]
  },
  {
   "cell_type": "code",
   "execution_count": null,
   "metadata": {},
   "outputs": [],
   "source": []
  },
  {
   "cell_type": "code",
   "execution_count": null,
   "metadata": {
    "ExecuteTime": {
     "end_time": "2021-08-09T16:49:45.841098Z",
     "start_time": "2021-08-09T16:49:45.834116Z"
    }
   },
   "outputs": [],
   "source": [
    "AI : \n",
    "    80% Data\n",
    "    20% Model (Actual AI)\n",
    "\n",
    "80% Data:\n",
    "    90% : Data Cleaning, Filtering\n",
    "    10% : Apply Data Analysis Algorithms (i.e. Understand Data )"
   ]
  },
  {
   "cell_type": "code",
   "execution_count": null,
   "metadata": {},
   "outputs": [],
   "source": [
    "31/3/1998 \n",
    "31/03/1998\n",
    "03/31/1998\n",
    "31.3.1998 \n",
    "3131998\n",
    "31st Mar. 1998"
   ]
  },
  {
   "cell_type": "code",
   "execution_count": 1,
   "metadata": {
    "ExecuteTime": {
     "end_time": "2023-05-22T15:10:33.492387Z",
     "start_time": "2023-05-22T15:10:33.481561Z"
    }
   },
   "outputs": [],
   "source": [
    "# Regular Expressions ? (Advanced String manipulation)"
   ]
  },
  {
   "cell_type": "code",
   "execution_count": 1,
   "metadata": {
    "ExecuteTime": {
     "end_time": "2023-07-18T20:18:53.430772Z",
     "start_time": "2023-07-18T20:18:53.411604Z"
    }
   },
   "outputs": [],
   "source": [
    "import re # ( Regular expression )"
   ]
  },
  {
   "cell_type": "code",
   "execution_count": 5,
   "metadata": {
    "ExecuteTime": {
     "end_time": "2023-07-18T20:25:25.705625Z",
     "start_time": "2023-07-18T20:25:25.694109Z"
    }
   },
   "outputs": [],
   "source": [
    "text_to_search = '''abcdefghijklmnopqurtuvwxyz\n",
    "ABCDEFGHIJKLMNOPQRSTUVWXYZ\n",
    "123456789010\n",
    "Ha HaHa\n",
    "MetaCharacters (Need to be escaped):\n",
    ". ^ $ * + ? { } [ ] \\ | ( )\n",
    "abc\n",
    "cat\n",
    "mat \n",
    "hat\n",
    "bat\n",
    "fat\n",
    "sat\n",
    "01092329340\n",
    "01123234355\n",
    "01023455411\n",
    "01234567875\n",
    "01534567456\n",
    "01134567856\n",
    "coreyms-com\n",
    "321-555-4321\n",
    "123.555.1234\n",
    "123*555*1234\n",
    "800-555-1234\n",
    "900-555-1234\n",
    "100a121C4543\n",
    "Mr. Schafer\n",
    "Mr Smith\n",
    "Ms Davis\n",
    "Mrs. Robinson\n",
    "Mr. T\n",
    "'''\n",
    "\n",
    "sentence = 'Start a sentence and then bring it to an end'"
   ]
  },
  {
   "cell_type": "markdown",
   "metadata": {},
   "source": [
    "### Rules:\n",
    "\n",
    ".       - Any Character Except New Line <br>\n",
    "\\d      - Digit (0-9)<br>\n",
    "\\D      - Not a Digit (0-9)<br>\n",
    "\\w      - Word Character (a-z, A-Z, 0-9, _) <br>\n",
    "\\W      - Not a Word Character<br>\n",
    "\\s      - Whitespace (space, tab, newline) <br>\n",
    "\\S      - Not Whitespace (space, tab, newline)<br>\n",
    "\n",
    "\\b      - Word Boundary <br>\n",
    "\\B      - Not a Word Boundary <br>\n",
    "^       - Beginning of a String <br>\n",
    "$       - End of a String <br>\n",
    "\n",
    "[]      - Matches Characters in brackets <br>\n",
    "[^ ]    - Matches Characters NOT in brackets <br>\n",
    "|       - Either Or <br>\n",
    "( )     - Group <br>\n",
    "\n",
    "Quantifiers:\n",
    "<br>\n",
    " {*}       - 0 or More <br>\n",
    " {+}       - 1 or More <br>\n",
    " ?       - 0 or One <br>\n",
    "{3}     - Exact Number <br>\n",
    "{3,4}   - Range of Numbers (Minimum, Maximum) <br>\n",
    "\n",
    "\n",
    "#### Sample Regexs ####\n",
    "\n",
    "[a-zA-Z0-9_.+-]+@[a-zA-Z0-9-]+\\.[a-zA-Z0-9-.]+\n"
   ]
  },
  {
   "cell_type": "code",
   "execution_count": 4,
   "metadata": {
    "ExecuteTime": {
     "end_time": "2022-08-28T18:13:58.279026Z",
     "start_time": "2022-08-28T18:13:58.275028Z"
    }
   },
   "outputs": [
    {
     "name": "stdout",
     "output_type": "stream",
     "text": [
      "\tTab\n",
      "tab\n",
      "\\tTab\n"
     ]
    }
   ],
   "source": [
    "print (\"\\tTab\") # special character (\\t, \\n)\n",
    "print (\"tab\")\n",
    "print (r\"\\tTab\") # raw print"
   ]
  },
  {
   "cell_type": "code",
   "execution_count": 2,
   "metadata": {
    "ExecuteTime": {
     "end_time": "2023-05-22T15:14:11.532105Z",
     "start_time": "2023-05-22T15:14:11.513420Z"
    },
    "scrolled": false
   },
   "outputs": [
    {
     "name": "stdout",
     "output_type": "stream",
     "text": [
      "Ahmed\n",
      "Ahmed\n",
      "----------------\n",
      "Ahmed\\nAhmed\n"
     ]
    }
   ],
   "source": [
    "print(\"Ahmed\\nAhmed\") # new line \n",
    "print(\"----------------\")\n",
    "print(r\"Ahmed\\nAhmed\")"
   ]
  },
  {
   "cell_type": "code",
   "execution_count": 3,
   "metadata": {
    "ExecuteTime": {
     "end_time": "2023-06-15T16:45:33.448979Z",
     "start_time": "2023-06-15T16:45:33.430462Z"
    }
   },
   "outputs": [
    {
     "data": {
      "text/plain": [
       "6"
      ]
     },
     "execution_count": 3,
     "metadata": {},
     "output_type": "execute_result"
    }
   ],
   "source": [
    "string = \"ahmed amr ali hossam amr\" # string\n",
    "string.find(\"amr\") # Search substring: return index first substring"
   ]
  },
  {
   "cell_type": "code",
   "execution_count": 4,
   "metadata": {
    "ExecuteTime": {
     "end_time": "2023-06-15T16:46:19.507343Z",
     "start_time": "2023-06-15T16:46:19.493588Z"
    }
   },
   "outputs": [
    {
     "data": {
      "text/plain": [
       "-1"
      ]
     },
     "execution_count": 4,
     "metadata": {},
     "output_type": "execute_result"
    }
   ],
   "source": [
    "string = \"ahm5d\"\n",
    "string.find(\"med\") # -1 = not found"
   ]
  },
  {
   "cell_type": "code",
   "execution_count": 5,
   "metadata": {
    "ExecuteTime": {
     "end_time": "2023-06-15T16:47:26.513599Z",
     "start_time": "2023-06-15T16:47:26.500821Z"
    }
   },
   "outputs": [
    {
     "name": "stdout",
     "output_type": "stream",
     "text": [
      "<re.Match object; span=(0, 3), match='abc'>\n",
      "<re.Match object; span=(140, 143), match='abc'>\n"
     ]
    }
   ],
   "source": [
    "pattern = re.compile(r\"abc\") # search for abc \n",
    "matches = pattern.finditer(text_to_search) # store all the \"abc\" you found (could be a list )\n",
    "\n",
    "for match in matches: \n",
    "    print(match)"
   ]
  },
  {
   "cell_type": "code",
   "execution_count": 3,
   "metadata": {
    "ExecuteTime": {
     "end_time": "2023-07-18T20:24:55.990670Z",
     "start_time": "2023-07-18T20:24:55.982277Z"
    }
   },
   "outputs": [
    {
     "data": {
      "text/plain": [
       "'Ahm'"
      ]
     },
     "execution_count": 3,
     "metadata": {},
     "output_type": "execute_result"
    }
   ],
   "source": [
    "string = \"Ahmed\"\n",
    "start = 0\n",
    "end = 3\n",
    "string[0 : 3]"
   ]
  },
  {
   "cell_type": "code",
   "execution_count": 6,
   "metadata": {
    "ExecuteTime": {
     "end_time": "2023-07-18T20:25:29.860227Z",
     "start_time": "2023-07-18T20:25:29.842440Z"
    }
   },
   "outputs": [
    {
     "data": {
      "text/plain": [
       "['abc', 'abc']"
      ]
     },
     "execution_count": 6,
     "metadata": {},
     "output_type": "execute_result"
    }
   ],
   "source": [
    "pattern = re.compile(r\"abc\") # search for abc \n",
    "matches = pattern.finditer(text_to_search) # store all the \"abc\" you found (could be a list )\n",
    "\n",
    "results = [ ]\n",
    "for match in matches: \n",
    "    start = match.span()[0]\n",
    "    end = match.span()[1]\n",
    "    results.append(text_to_search[start:end])\n",
    "results"
   ]
  },
  {
   "cell_type": "code",
   "execution_count": 23,
   "metadata": {
    "ExecuteTime": {
     "end_time": "2023-05-22T15:27:12.747009Z",
     "start_time": "2023-05-22T15:27:12.735177Z"
    }
   },
   "outputs": [
    {
     "name": "stdout",
     "output_type": "stream",
     "text": [
      "0 3\n",
      "140 143\n",
      "number of matches:  2\n"
     ]
    }
   ],
   "source": [
    "import re\n",
    "pattern = re.compile(r\"abc\") # search for abc \n",
    "matches = pattern.finditer(text_to_search) # store all the \"abc\" you found (could be a list )\n",
    "counter = 0\n",
    "for elment in matches:\n",
    "    print(elment.span()[0] , elment.span()[1] )\n",
    "    counter+=1\n",
    "print(\"number of matches: \",counter)"
   ]
  },
  {
   "cell_type": "code",
   "execution_count": 8,
   "metadata": {
    "ExecuteTime": {
     "end_time": "2023-06-15T16:50:43.445889Z",
     "start_time": "2023-06-15T16:50:43.430466Z"
    },
    "scrolled": true
   },
   "outputs": [
    {
     "name": "stdout",
     "output_type": "stream",
     "text": [
      "Found 0 matches\n"
     ]
    }
   ],
   "source": [
    "pattern = re.compile(\"bca\")\n",
    "matches = pattern.finditer(text_to_search)\n",
    "counter = 0\n",
    "for match in matches:\n",
    "    print(match)\n",
    "    counter+=1\n",
    "print(f\"Found {counter} matches\")"
   ]
  },
  {
   "cell_type": "code",
   "execution_count": 9,
   "metadata": {
    "ExecuteTime": {
     "end_time": "2023-06-15T16:50:58.095447Z",
     "start_time": "2023-06-15T16:50:58.087038Z"
    }
   },
   "outputs": [
    {
     "name": "stdout",
     "output_type": "stream",
     "text": [
      "<callable_iterator object at 0x7f9011356220>\n"
     ]
    }
   ],
   "source": [
    "pattern = re.compile(r\"bca\")\n",
    "matches = pattern.finditer(text_to_search)\n",
    "print(matches)"
   ]
  },
  {
   "cell_type": "code",
   "execution_count": 10,
   "metadata": {
    "ExecuteTime": {
     "end_time": "2023-06-15T16:52:30.956320Z",
     "start_time": "2023-06-15T16:52:30.943982Z"
    }
   },
   "outputs": [
    {
     "name": "stdout",
     "output_type": "stream",
     "text": [
      "<re.Match object; span=(0, 1), match='a'>\n",
      "<re.Match object; span=(1, 2), match='b'>\n",
      "<re.Match object; span=(2, 3), match='c'>\n",
      "<re.Match object; span=(3, 4), match='d'>\n",
      "<re.Match object; span=(4, 5), match='e'>\n",
      "<re.Match object; span=(5, 6), match='f'>\n",
      "<re.Match object; span=(6, 7), match='g'>\n",
      "<re.Match object; span=(7, 8), match='h'>\n",
      "<re.Match object; span=(8, 9), match='i'>\n",
      "<re.Match object; span=(9, 10), match='j'>\n",
      "<re.Match object; span=(10, 11), match='k'>\n",
      "<re.Match object; span=(11, 12), match='l'>\n",
      "<re.Match object; span=(12, 13), match='m'>\n",
      "<re.Match object; span=(13, 14), match='n'>\n",
      "<re.Match object; span=(14, 15), match='o'>\n",
      "<re.Match object; span=(15, 16), match='p'>\n",
      "<re.Match object; span=(16, 17), match='q'>\n",
      "<re.Match object; span=(17, 18), match='u'>\n",
      "<re.Match object; span=(18, 19), match='r'>\n",
      "<re.Match object; span=(19, 20), match='t'>\n",
      "<re.Match object; span=(20, 21), match='u'>\n",
      "<re.Match object; span=(21, 22), match='v'>\n",
      "<re.Match object; span=(22, 23), match='w'>\n",
      "<re.Match object; span=(23, 24), match='x'>\n",
      "<re.Match object; span=(24, 25), match='y'>\n",
      "<re.Match object; span=(25, 26), match='z'>\n",
      "<re.Match object; span=(27, 28), match='A'>\n",
      "<re.Match object; span=(28, 29), match='B'>\n",
      "<re.Match object; span=(29, 30), match='C'>\n",
      "<re.Match object; span=(30, 31), match='D'>\n",
      "<re.Match object; span=(31, 32), match='E'>\n",
      "<re.Match object; span=(32, 33), match='F'>\n",
      "<re.Match object; span=(33, 34), match='G'>\n",
      "<re.Match object; span=(34, 35), match='H'>\n",
      "<re.Match object; span=(35, 36), match='I'>\n",
      "<re.Match object; span=(36, 37), match='J'>\n",
      "<re.Match object; span=(37, 38), match='K'>\n",
      "<re.Match object; span=(38, 39), match='L'>\n",
      "<re.Match object; span=(39, 40), match='M'>\n",
      "<re.Match object; span=(40, 41), match='N'>\n",
      "<re.Match object; span=(41, 42), match='O'>\n",
      "<re.Match object; span=(42, 43), match='P'>\n",
      "<re.Match object; span=(43, 44), match='Q'>\n",
      "<re.Match object; span=(44, 45), match='R'>\n",
      "<re.Match object; span=(45, 46), match='S'>\n",
      "<re.Match object; span=(46, 47), match='T'>\n",
      "<re.Match object; span=(47, 48), match='U'>\n",
      "<re.Match object; span=(48, 49), match='V'>\n",
      "<re.Match object; span=(49, 50), match='W'>\n",
      "<re.Match object; span=(50, 51), match='X'>\n",
      "<re.Match object; span=(51, 52), match='Y'>\n",
      "<re.Match object; span=(52, 53), match='Z'>\n",
      "<re.Match object; span=(54, 55), match='1'>\n",
      "<re.Match object; span=(55, 56), match='2'>\n",
      "<re.Match object; span=(56, 57), match='3'>\n",
      "<re.Match object; span=(57, 58), match='4'>\n",
      "<re.Match object; span=(58, 59), match='5'>\n",
      "<re.Match object; span=(59, 60), match='6'>\n",
      "<re.Match object; span=(60, 61), match='7'>\n",
      "<re.Match object; span=(61, 62), match='8'>\n",
      "<re.Match object; span=(62, 63), match='9'>\n",
      "<re.Match object; span=(63, 64), match='0'>\n",
      "<re.Match object; span=(64, 65), match='1'>\n",
      "<re.Match object; span=(65, 66), match='0'>\n",
      "<re.Match object; span=(67, 68), match='H'>\n",
      "<re.Match object; span=(68, 69), match='a'>\n",
      "<re.Match object; span=(69, 70), match=' '>\n",
      "<re.Match object; span=(70, 71), match='H'>\n",
      "<re.Match object; span=(71, 72), match='a'>\n",
      "<re.Match object; span=(72, 73), match='H'>\n",
      "<re.Match object; span=(73, 74), match='a'>\n",
      "<re.Match object; span=(75, 76), match='M'>\n",
      "<re.Match object; span=(76, 77), match='e'>\n",
      "<re.Match object; span=(77, 78), match='t'>\n",
      "<re.Match object; span=(78, 79), match='a'>\n",
      "<re.Match object; span=(79, 80), match='C'>\n",
      "<re.Match object; span=(80, 81), match='h'>\n",
      "<re.Match object; span=(81, 82), match='a'>\n",
      "<re.Match object; span=(82, 83), match='r'>\n",
      "<re.Match object; span=(83, 84), match='a'>\n",
      "<re.Match object; span=(84, 85), match='c'>\n",
      "<re.Match object; span=(85, 86), match='t'>\n",
      "<re.Match object; span=(86, 87), match='e'>\n",
      "<re.Match object; span=(87, 88), match='r'>\n",
      "<re.Match object; span=(88, 89), match='s'>\n",
      "<re.Match object; span=(89, 90), match=' '>\n",
      "<re.Match object; span=(90, 91), match='('>\n",
      "<re.Match object; span=(91, 92), match='N'>\n",
      "<re.Match object; span=(92, 93), match='e'>\n",
      "<re.Match object; span=(93, 94), match='e'>\n",
      "<re.Match object; span=(94, 95), match='d'>\n",
      "<re.Match object; span=(95, 96), match=' '>\n",
      "<re.Match object; span=(96, 97), match='t'>\n",
      "<re.Match object; span=(97, 98), match='o'>\n",
      "<re.Match object; span=(98, 99), match=' '>\n",
      "<re.Match object; span=(99, 100), match='b'>\n",
      "<re.Match object; span=(100, 101), match='e'>\n",
      "<re.Match object; span=(101, 102), match=' '>\n",
      "<re.Match object; span=(102, 103), match='e'>\n",
      "<re.Match object; span=(103, 104), match='s'>\n",
      "<re.Match object; span=(104, 105), match='c'>\n",
      "<re.Match object; span=(105, 106), match='a'>\n",
      "<re.Match object; span=(106, 107), match='p'>\n",
      "<re.Match object; span=(107, 108), match='e'>\n",
      "<re.Match object; span=(108, 109), match='d'>\n",
      "<re.Match object; span=(109, 110), match=')'>\n",
      "<re.Match object; span=(110, 111), match=':'>\n",
      "<re.Match object; span=(112, 113), match='.'>\n",
      "<re.Match object; span=(113, 114), match=' '>\n",
      "<re.Match object; span=(114, 115), match='^'>\n",
      "<re.Match object; span=(115, 116), match=' '>\n",
      "<re.Match object; span=(116, 117), match='$'>\n",
      "<re.Match object; span=(117, 118), match=' '>\n",
      "<re.Match object; span=(118, 119), match='*'>\n",
      "<re.Match object; span=(119, 120), match=' '>\n",
      "<re.Match object; span=(120, 121), match='+'>\n",
      "<re.Match object; span=(121, 122), match=' '>\n",
      "<re.Match object; span=(122, 123), match='?'>\n",
      "<re.Match object; span=(123, 124), match=' '>\n",
      "<re.Match object; span=(124, 125), match='{'>\n",
      "<re.Match object; span=(125, 126), match=' '>\n",
      "<re.Match object; span=(126, 127), match='}'>\n",
      "<re.Match object; span=(127, 128), match=' '>\n",
      "<re.Match object; span=(128, 129), match='['>\n",
      "<re.Match object; span=(129, 130), match=' '>\n",
      "<re.Match object; span=(130, 131), match=']'>\n",
      "<re.Match object; span=(131, 132), match=' '>\n",
      "<re.Match object; span=(132, 133), match='\\\\'>\n",
      "<re.Match object; span=(133, 134), match=' '>\n",
      "<re.Match object; span=(134, 135), match='|'>\n",
      "<re.Match object; span=(135, 136), match=' '>\n",
      "<re.Match object; span=(136, 137), match='('>\n",
      "<re.Match object; span=(137, 138), match=' '>\n",
      "<re.Match object; span=(138, 139), match=')'>\n",
      "<re.Match object; span=(140, 141), match='a'>\n",
      "<re.Match object; span=(141, 142), match='b'>\n",
      "<re.Match object; span=(142, 143), match='c'>\n",
      "<re.Match object; span=(144, 145), match='c'>\n",
      "<re.Match object; span=(145, 146), match='a'>\n",
      "<re.Match object; span=(146, 147), match='t'>\n",
      "<re.Match object; span=(148, 149), match='m'>\n",
      "<re.Match object; span=(149, 150), match='a'>\n",
      "<re.Match object; span=(150, 151), match='t'>\n",
      "<re.Match object; span=(151, 152), match=' '>\n",
      "<re.Match object; span=(153, 154), match='h'>\n",
      "<re.Match object; span=(154, 155), match='a'>\n",
      "<re.Match object; span=(155, 156), match='t'>\n",
      "<re.Match object; span=(157, 158), match='b'>\n",
      "<re.Match object; span=(158, 159), match='a'>\n",
      "<re.Match object; span=(159, 160), match='t'>\n",
      "<re.Match object; span=(161, 162), match='f'>\n",
      "<re.Match object; span=(162, 163), match='a'>\n",
      "<re.Match object; span=(163, 164), match='t'>\n",
      "<re.Match object; span=(165, 166), match='s'>\n",
      "<re.Match object; span=(166, 167), match='a'>\n",
      "<re.Match object; span=(167, 168), match='t'>\n",
      "<re.Match object; span=(169, 170), match='0'>\n",
      "<re.Match object; span=(170, 171), match='1'>\n",
      "<re.Match object; span=(171, 172), match='0'>\n",
      "<re.Match object; span=(172, 173), match='9'>\n",
      "<re.Match object; span=(173, 174), match='2'>\n",
      "<re.Match object; span=(174, 175), match='3'>\n",
      "<re.Match object; span=(175, 176), match='2'>\n",
      "<re.Match object; span=(176, 177), match='9'>\n",
      "<re.Match object; span=(177, 178), match='3'>\n",
      "<re.Match object; span=(178, 179), match='4'>\n",
      "<re.Match object; span=(179, 180), match='0'>\n",
      "<re.Match object; span=(181, 182), match='0'>\n",
      "<re.Match object; span=(182, 183), match='1'>\n",
      "<re.Match object; span=(183, 184), match='1'>\n",
      "<re.Match object; span=(184, 185), match='2'>\n",
      "<re.Match object; span=(185, 186), match='3'>\n",
      "<re.Match object; span=(186, 187), match='2'>\n",
      "<re.Match object; span=(187, 188), match='3'>\n",
      "<re.Match object; span=(188, 189), match='4'>\n",
      "<re.Match object; span=(189, 190), match='3'>\n",
      "<re.Match object; span=(190, 191), match='5'>\n",
      "<re.Match object; span=(191, 192), match='5'>\n",
      "<re.Match object; span=(193, 194), match='0'>\n",
      "<re.Match object; span=(194, 195), match='1'>\n",
      "<re.Match object; span=(195, 196), match='0'>\n",
      "<re.Match object; span=(196, 197), match='2'>\n",
      "<re.Match object; span=(197, 198), match='3'>\n",
      "<re.Match object; span=(198, 199), match='4'>\n",
      "<re.Match object; span=(199, 200), match='5'>\n",
      "<re.Match object; span=(200, 201), match='5'>\n",
      "<re.Match object; span=(201, 202), match='4'>\n",
      "<re.Match object; span=(202, 203), match='1'>\n",
      "<re.Match object; span=(203, 204), match='1'>\n",
      "<re.Match object; span=(205, 206), match='0'>\n",
      "<re.Match object; span=(206, 207), match='1'>\n",
      "<re.Match object; span=(207, 208), match='2'>\n",
      "<re.Match object; span=(208, 209), match='3'>\n",
      "<re.Match object; span=(209, 210), match='4'>\n",
      "<re.Match object; span=(210, 211), match='5'>\n",
      "<re.Match object; span=(211, 212), match='6'>\n",
      "<re.Match object; span=(212, 213), match='7'>\n",
      "<re.Match object; span=(213, 214), match='8'>\n",
      "<re.Match object; span=(214, 215), match='7'>\n",
      "<re.Match object; span=(215, 216), match='5'>\n",
      "<re.Match object; span=(217, 218), match='0'>\n",
      "<re.Match object; span=(218, 219), match='1'>\n",
      "<re.Match object; span=(219, 220), match='5'>\n",
      "<re.Match object; span=(220, 221), match='3'>\n",
      "<re.Match object; span=(221, 222), match='4'>\n",
      "<re.Match object; span=(222, 223), match='5'>\n",
      "<re.Match object; span=(223, 224), match='6'>\n",
      "<re.Match object; span=(224, 225), match='7'>\n",
      "<re.Match object; span=(225, 226), match='4'>\n",
      "<re.Match object; span=(226, 227), match='5'>\n",
      "<re.Match object; span=(227, 228), match='6'>\n",
      "<re.Match object; span=(229, 230), match='0'>\n",
      "<re.Match object; span=(230, 231), match='1'>\n",
      "<re.Match object; span=(231, 232), match='1'>\n",
      "<re.Match object; span=(232, 233), match='3'>\n",
      "<re.Match object; span=(233, 234), match='4'>\n",
      "<re.Match object; span=(234, 235), match='5'>\n",
      "<re.Match object; span=(235, 236), match='6'>\n",
      "<re.Match object; span=(236, 237), match='7'>\n",
      "<re.Match object; span=(237, 238), match='8'>\n",
      "<re.Match object; span=(238, 239), match='5'>\n",
      "<re.Match object; span=(239, 240), match='6'>\n",
      "<re.Match object; span=(241, 242), match='c'>\n",
      "<re.Match object; span=(242, 243), match='o'>\n",
      "<re.Match object; span=(243, 244), match='r'>\n",
      "<re.Match object; span=(244, 245), match='e'>\n",
      "<re.Match object; span=(245, 246), match='y'>\n",
      "<re.Match object; span=(246, 247), match='m'>\n",
      "<re.Match object; span=(247, 248), match='s'>\n",
      "<re.Match object; span=(248, 249), match='-'>\n",
      "<re.Match object; span=(249, 250), match='c'>\n",
      "<re.Match object; span=(250, 251), match='o'>\n",
      "<re.Match object; span=(251, 252), match='m'>\n",
      "<re.Match object; span=(253, 254), match='3'>\n",
      "<re.Match object; span=(254, 255), match='2'>\n",
      "<re.Match object; span=(255, 256), match='1'>\n",
      "<re.Match object; span=(256, 257), match='-'>\n",
      "<re.Match object; span=(257, 258), match='5'>\n",
      "<re.Match object; span=(258, 259), match='5'>\n",
      "<re.Match object; span=(259, 260), match='5'>\n",
      "<re.Match object; span=(260, 261), match='-'>\n",
      "<re.Match object; span=(261, 262), match='4'>\n",
      "<re.Match object; span=(262, 263), match='3'>\n",
      "<re.Match object; span=(263, 264), match='2'>\n",
      "<re.Match object; span=(264, 265), match='1'>\n",
      "<re.Match object; span=(266, 267), match='1'>\n",
      "<re.Match object; span=(267, 268), match='2'>\n",
      "<re.Match object; span=(268, 269), match='3'>\n",
      "<re.Match object; span=(269, 270), match='.'>\n",
      "<re.Match object; span=(270, 271), match='5'>\n",
      "<re.Match object; span=(271, 272), match='5'>\n",
      "<re.Match object; span=(272, 273), match='5'>\n",
      "<re.Match object; span=(273, 274), match='.'>\n",
      "<re.Match object; span=(274, 275), match='1'>\n",
      "<re.Match object; span=(275, 276), match='2'>\n",
      "<re.Match object; span=(276, 277), match='3'>\n",
      "<re.Match object; span=(277, 278), match='4'>\n",
      "<re.Match object; span=(279, 280), match='1'>\n",
      "<re.Match object; span=(280, 281), match='2'>\n",
      "<re.Match object; span=(281, 282), match='3'>\n",
      "<re.Match object; span=(282, 283), match='*'>\n",
      "<re.Match object; span=(283, 284), match='5'>\n",
      "<re.Match object; span=(284, 285), match='5'>\n",
      "<re.Match object; span=(285, 286), match='5'>\n",
      "<re.Match object; span=(286, 287), match='*'>\n",
      "<re.Match object; span=(287, 288), match='1'>\n",
      "<re.Match object; span=(288, 289), match='2'>\n",
      "<re.Match object; span=(289, 290), match='3'>\n",
      "<re.Match object; span=(290, 291), match='4'>\n",
      "<re.Match object; span=(292, 293), match='8'>\n",
      "<re.Match object; span=(293, 294), match='0'>\n",
      "<re.Match object; span=(294, 295), match='0'>\n",
      "<re.Match object; span=(295, 296), match='-'>\n",
      "<re.Match object; span=(296, 297), match='5'>\n",
      "<re.Match object; span=(297, 298), match='5'>\n",
      "<re.Match object; span=(298, 299), match='5'>\n",
      "<re.Match object; span=(299, 300), match='-'>\n",
      "<re.Match object; span=(300, 301), match='1'>\n",
      "<re.Match object; span=(301, 302), match='2'>\n",
      "<re.Match object; span=(302, 303), match='3'>\n",
      "<re.Match object; span=(303, 304), match='4'>\n",
      "<re.Match object; span=(305, 306), match='9'>\n",
      "<re.Match object; span=(306, 307), match='0'>\n",
      "<re.Match object; span=(307, 308), match='0'>\n",
      "<re.Match object; span=(308, 309), match='-'>\n",
      "<re.Match object; span=(309, 310), match='5'>\n",
      "<re.Match object; span=(310, 311), match='5'>\n",
      "<re.Match object; span=(311, 312), match='5'>\n",
      "<re.Match object; span=(312, 313), match='-'>\n",
      "<re.Match object; span=(313, 314), match='1'>\n",
      "<re.Match object; span=(314, 315), match='2'>\n",
      "<re.Match object; span=(315, 316), match='3'>\n",
      "<re.Match object; span=(316, 317), match='4'>\n",
      "<re.Match object; span=(318, 319), match='1'>\n",
      "<re.Match object; span=(319, 320), match='0'>\n",
      "<re.Match object; span=(320, 321), match='0'>\n",
      "<re.Match object; span=(321, 322), match='a'>\n",
      "<re.Match object; span=(322, 323), match='1'>\n",
      "<re.Match object; span=(323, 324), match='2'>\n",
      "<re.Match object; span=(324, 325), match='1'>\n",
      "<re.Match object; span=(325, 326), match='C'>\n",
      "<re.Match object; span=(326, 327), match='4'>\n",
      "<re.Match object; span=(327, 328), match='5'>\n",
      "<re.Match object; span=(328, 329), match='4'>\n",
      "<re.Match object; span=(329, 330), match='3'>\n",
      "<re.Match object; span=(331, 332), match='M'>\n",
      "<re.Match object; span=(332, 333), match='r'>\n",
      "<re.Match object; span=(333, 334), match='.'>\n",
      "<re.Match object; span=(334, 335), match=' '>\n",
      "<re.Match object; span=(335, 336), match='S'>\n",
      "<re.Match object; span=(336, 337), match='c'>\n",
      "<re.Match object; span=(337, 338), match='h'>\n",
      "<re.Match object; span=(338, 339), match='a'>\n",
      "<re.Match object; span=(339, 340), match='f'>\n",
      "<re.Match object; span=(340, 341), match='e'>\n",
      "<re.Match object; span=(341, 342), match='r'>\n",
      "<re.Match object; span=(343, 344), match='M'>\n",
      "<re.Match object; span=(344, 345), match='r'>\n",
      "<re.Match object; span=(345, 346), match=' '>\n",
      "<re.Match object; span=(346, 347), match='S'>\n",
      "<re.Match object; span=(347, 348), match='m'>\n",
      "<re.Match object; span=(348, 349), match='i'>\n",
      "<re.Match object; span=(349, 350), match='t'>\n",
      "<re.Match object; span=(350, 351), match='h'>\n",
      "<re.Match object; span=(352, 353), match='M'>\n",
      "<re.Match object; span=(353, 354), match='s'>\n",
      "<re.Match object; span=(354, 355), match=' '>\n",
      "<re.Match object; span=(355, 356), match='D'>\n",
      "<re.Match object; span=(356, 357), match='a'>\n",
      "<re.Match object; span=(357, 358), match='v'>\n",
      "<re.Match object; span=(358, 359), match='i'>\n",
      "<re.Match object; span=(359, 360), match='s'>\n",
      "<re.Match object; span=(361, 362), match='M'>\n",
      "<re.Match object; span=(362, 363), match='r'>\n",
      "<re.Match object; span=(363, 364), match='s'>\n",
      "<re.Match object; span=(364, 365), match='.'>\n",
      "<re.Match object; span=(365, 366), match=' '>\n",
      "<re.Match object; span=(366, 367), match='R'>\n",
      "<re.Match object; span=(367, 368), match='o'>\n",
      "<re.Match object; span=(368, 369), match='b'>\n",
      "<re.Match object; span=(369, 370), match='i'>\n",
      "<re.Match object; span=(370, 371), match='n'>\n",
      "<re.Match object; span=(371, 372), match='s'>\n",
      "<re.Match object; span=(372, 373), match='o'>\n",
      "<re.Match object; span=(373, 374), match='n'>\n",
      "<re.Match object; span=(375, 376), match='M'>\n",
      "<re.Match object; span=(376, 377), match='r'>\n",
      "<re.Match object; span=(377, 378), match='.'>\n",
      "<re.Match object; span=(378, 379), match=' '>\n",
      "<re.Match object; span=(379, 380), match='T'>\n"
     ]
    }
   ],
   "source": [
    "pattern = re.compile(\".\") # matches everything ( excpet new lines )\n",
    "matches = pattern.finditer(text_to_search)\n",
    "for match in matches:\n",
    "    print(match)"
   ]
  },
  {
   "cell_type": "code",
   "execution_count": 12,
   "metadata": {
    "ExecuteTime": {
     "end_time": "2022-08-30T17:53:48.801549Z",
     "start_time": "2022-08-30T17:53:48.790549Z"
    },
    "scrolled": true
   },
   "outputs": [
    {
     "name": "stdout",
     "output_type": "stream",
     "text": [
      "<re.Match object; span=(0, 1), match='a'>\n",
      "<re.Match object; span=(1, 2), match='b'>\n",
      "<re.Match object; span=(2, 3), match='c'>\n",
      "<re.Match object; span=(3, 4), match='d'>\n",
      "<re.Match object; span=(4, 5), match='e'>\n",
      "<re.Match object; span=(5, 6), match='f'>\n",
      "<re.Match object; span=(6, 7), match='g'>\n",
      "<re.Match object; span=(7, 8), match='h'>\n",
      "<re.Match object; span=(8, 9), match='i'>\n",
      "<re.Match object; span=(9, 10), match='j'>\n",
      "<re.Match object; span=(10, 11), match='k'>\n",
      "<re.Match object; span=(11, 12), match='l'>\n",
      "<re.Match object; span=(12, 13), match='m'>\n",
      "<re.Match object; span=(13, 14), match='n'>\n",
      "<re.Match object; span=(14, 15), match='o'>\n",
      "<re.Match object; span=(15, 16), match='p'>\n",
      "<re.Match object; span=(16, 17), match='q'>\n",
      "<re.Match object; span=(17, 18), match='u'>\n",
      "<re.Match object; span=(18, 19), match='r'>\n",
      "<re.Match object; span=(19, 20), match='t'>\n",
      "<re.Match object; span=(20, 21), match='u'>\n",
      "<re.Match object; span=(21, 22), match='v'>\n",
      "<re.Match object; span=(22, 23), match='w'>\n",
      "<re.Match object; span=(23, 24), match='x'>\n",
      "<re.Match object; span=(24, 25), match='y'>\n",
      "<re.Match object; span=(25, 26), match='z'>\n",
      "<re.Match object; span=(27, 28), match='A'>\n",
      "<re.Match object; span=(28, 29), match='B'>\n",
      "<re.Match object; span=(29, 30), match='C'>\n",
      "<re.Match object; span=(30, 31), match='D'>\n",
      "<re.Match object; span=(31, 32), match='E'>\n",
      "<re.Match object; span=(32, 33), match='F'>\n",
      "<re.Match object; span=(33, 34), match='G'>\n",
      "<re.Match object; span=(34, 35), match='H'>\n",
      "<re.Match object; span=(35, 36), match='I'>\n",
      "<re.Match object; span=(36, 37), match='J'>\n",
      "<re.Match object; span=(37, 38), match='K'>\n",
      "<re.Match object; span=(38, 39), match='L'>\n",
      "<re.Match object; span=(39, 40), match='M'>\n",
      "<re.Match object; span=(40, 41), match='N'>\n",
      "<re.Match object; span=(41, 42), match='O'>\n",
      "<re.Match object; span=(42, 43), match='P'>\n",
      "<re.Match object; span=(43, 44), match='Q'>\n",
      "<re.Match object; span=(44, 45), match='R'>\n",
      "<re.Match object; span=(45, 46), match='S'>\n",
      "<re.Match object; span=(46, 47), match='T'>\n",
      "<re.Match object; span=(47, 48), match='U'>\n",
      "<re.Match object; span=(48, 49), match='V'>\n",
      "<re.Match object; span=(49, 50), match='W'>\n",
      "<re.Match object; span=(50, 51), match='X'>\n",
      "<re.Match object; span=(51, 52), match='Y'>\n",
      "<re.Match object; span=(52, 53), match='Z'>\n",
      "<re.Match object; span=(54, 55), match='1'>\n",
      "<re.Match object; span=(55, 56), match='2'>\n",
      "<re.Match object; span=(56, 57), match='3'>\n",
      "<re.Match object; span=(57, 58), match='4'>\n",
      "<re.Match object; span=(58, 59), match='5'>\n",
      "<re.Match object; span=(59, 60), match='6'>\n",
      "<re.Match object; span=(60, 61), match='7'>\n",
      "<re.Match object; span=(61, 62), match='8'>\n",
      "<re.Match object; span=(62, 63), match='9'>\n",
      "<re.Match object; span=(63, 64), match='0'>\n",
      "<re.Match object; span=(64, 65), match='1'>\n",
      "<re.Match object; span=(65, 66), match='0'>\n",
      "<re.Match object; span=(67, 68), match='H'>\n",
      "<re.Match object; span=(68, 69), match='a'>\n",
      "<re.Match object; span=(69, 70), match=' '>\n",
      "<re.Match object; span=(70, 71), match='H'>\n",
      "<re.Match object; span=(71, 72), match='a'>\n",
      "<re.Match object; span=(72, 73), match='H'>\n",
      "<re.Match object; span=(73, 74), match='a'>\n",
      "<re.Match object; span=(75, 76), match='M'>\n",
      "<re.Match object; span=(76, 77), match='e'>\n",
      "<re.Match object; span=(77, 78), match='t'>\n",
      "<re.Match object; span=(78, 79), match='a'>\n",
      "<re.Match object; span=(79, 80), match='C'>\n",
      "<re.Match object; span=(80, 81), match='h'>\n",
      "<re.Match object; span=(81, 82), match='a'>\n",
      "<re.Match object; span=(82, 83), match='r'>\n",
      "<re.Match object; span=(83, 84), match='a'>\n",
      "<re.Match object; span=(84, 85), match='c'>\n",
      "<re.Match object; span=(85, 86), match='t'>\n",
      "<re.Match object; span=(86, 87), match='e'>\n",
      "<re.Match object; span=(87, 88), match='r'>\n",
      "<re.Match object; span=(88, 89), match='s'>\n",
      "<re.Match object; span=(89, 90), match=' '>\n",
      "<re.Match object; span=(90, 91), match='('>\n",
      "<re.Match object; span=(91, 92), match='N'>\n",
      "<re.Match object; span=(92, 93), match='e'>\n",
      "<re.Match object; span=(93, 94), match='e'>\n",
      "<re.Match object; span=(94, 95), match='d'>\n",
      "<re.Match object; span=(95, 96), match=' '>\n",
      "<re.Match object; span=(96, 97), match='t'>\n",
      "<re.Match object; span=(97, 98), match='o'>\n",
      "<re.Match object; span=(98, 99), match=' '>\n",
      "<re.Match object; span=(99, 100), match='b'>\n",
      "<re.Match object; span=(100, 101), match='e'>\n",
      "<re.Match object; span=(101, 102), match=' '>\n",
      "<re.Match object; span=(102, 103), match='e'>\n",
      "<re.Match object; span=(103, 104), match='s'>\n",
      "<re.Match object; span=(104, 105), match='c'>\n",
      "<re.Match object; span=(105, 106), match='a'>\n",
      "<re.Match object; span=(106, 107), match='p'>\n",
      "<re.Match object; span=(107, 108), match='e'>\n",
      "<re.Match object; span=(108, 109), match='d'>\n",
      "<re.Match object; span=(109, 110), match=')'>\n",
      "<re.Match object; span=(110, 111), match=':'>\n",
      "<re.Match object; span=(112, 113), match='.'>\n",
      "<re.Match object; span=(113, 114), match=' '>\n",
      "<re.Match object; span=(114, 115), match='^'>\n",
      "<re.Match object; span=(115, 116), match=' '>\n",
      "<re.Match object; span=(116, 117), match='$'>\n",
      "<re.Match object; span=(117, 118), match=' '>\n",
      "<re.Match object; span=(118, 119), match='*'>\n",
      "<re.Match object; span=(119, 120), match=' '>\n",
      "<re.Match object; span=(120, 121), match='+'>\n",
      "<re.Match object; span=(121, 122), match=' '>\n",
      "<re.Match object; span=(122, 123), match='?'>\n",
      "<re.Match object; span=(123, 124), match=' '>\n",
      "<re.Match object; span=(124, 125), match='{'>\n",
      "<re.Match object; span=(125, 126), match=' '>\n",
      "<re.Match object; span=(126, 127), match='}'>\n",
      "<re.Match object; span=(127, 128), match=' '>\n",
      "<re.Match object; span=(128, 129), match='['>\n",
      "<re.Match object; span=(129, 130), match=' '>\n",
      "<re.Match object; span=(130, 131), match=']'>\n",
      "<re.Match object; span=(131, 132), match=' '>\n",
      "<re.Match object; span=(132, 133), match='\\\\'>\n",
      "<re.Match object; span=(133, 134), match=' '>\n",
      "<re.Match object; span=(134, 135), match='|'>\n",
      "<re.Match object; span=(135, 136), match=' '>\n",
      "<re.Match object; span=(136, 137), match='('>\n",
      "<re.Match object; span=(137, 138), match=' '>\n",
      "<re.Match object; span=(138, 139), match=')'>\n",
      "<re.Match object; span=(140, 141), match='a'>\n",
      "<re.Match object; span=(141, 142), match='b'>\n",
      "<re.Match object; span=(142, 143), match='c'>\n",
      "<re.Match object; span=(144, 145), match='c'>\n",
      "<re.Match object; span=(145, 146), match='a'>\n",
      "<re.Match object; span=(146, 147), match='t'>\n",
      "<re.Match object; span=(148, 149), match='m'>\n",
      "<re.Match object; span=(149, 150), match='a'>\n",
      "<re.Match object; span=(150, 151), match='t'>\n",
      "<re.Match object; span=(151, 152), match=' '>\n",
      "<re.Match object; span=(153, 154), match='h'>\n",
      "<re.Match object; span=(154, 155), match='a'>\n",
      "<re.Match object; span=(155, 156), match='t'>\n",
      "<re.Match object; span=(157, 158), match='b'>\n",
      "<re.Match object; span=(158, 159), match='a'>\n",
      "<re.Match object; span=(159, 160), match='t'>\n",
      "<re.Match object; span=(161, 162), match='f'>\n",
      "<re.Match object; span=(162, 163), match='a'>\n",
      "<re.Match object; span=(163, 164), match='t'>\n",
      "<re.Match object; span=(165, 166), match='s'>\n",
      "<re.Match object; span=(166, 167), match='a'>\n",
      "<re.Match object; span=(167, 168), match='t'>\n",
      "<re.Match object; span=(169, 170), match='0'>\n",
      "<re.Match object; span=(170, 171), match='1'>\n",
      "<re.Match object; span=(171, 172), match='0'>\n",
      "<re.Match object; span=(172, 173), match='9'>\n",
      "<re.Match object; span=(173, 174), match='2'>\n",
      "<re.Match object; span=(174, 175), match='3'>\n",
      "<re.Match object; span=(175, 176), match='2'>\n",
      "<re.Match object; span=(176, 177), match='9'>\n",
      "<re.Match object; span=(177, 178), match='3'>\n",
      "<re.Match object; span=(178, 179), match='4'>\n",
      "<re.Match object; span=(179, 180), match='0'>\n",
      "<re.Match object; span=(181, 182), match='0'>\n",
      "<re.Match object; span=(182, 183), match='1'>\n",
      "<re.Match object; span=(183, 184), match='1'>\n",
      "<re.Match object; span=(184, 185), match='2'>\n",
      "<re.Match object; span=(185, 186), match='3'>\n",
      "<re.Match object; span=(186, 187), match='2'>\n",
      "<re.Match object; span=(187, 188), match='3'>\n",
      "<re.Match object; span=(188, 189), match='4'>\n",
      "<re.Match object; span=(189, 190), match='3'>\n",
      "<re.Match object; span=(190, 191), match='5'>\n",
      "<re.Match object; span=(191, 192), match='5'>\n",
      "<re.Match object; span=(193, 194), match='0'>\n",
      "<re.Match object; span=(194, 195), match='1'>\n",
      "<re.Match object; span=(195, 196), match='0'>\n",
      "<re.Match object; span=(196, 197), match='2'>\n",
      "<re.Match object; span=(197, 198), match='3'>\n",
      "<re.Match object; span=(198, 199), match='4'>\n",
      "<re.Match object; span=(199, 200), match='5'>\n",
      "<re.Match object; span=(200, 201), match='5'>\n",
      "<re.Match object; span=(201, 202), match='4'>\n",
      "<re.Match object; span=(202, 203), match='1'>\n",
      "<re.Match object; span=(203, 204), match='1'>\n",
      "<re.Match object; span=(205, 206), match='0'>\n",
      "<re.Match object; span=(206, 207), match='1'>\n",
      "<re.Match object; span=(207, 208), match='2'>\n",
      "<re.Match object; span=(208, 209), match='3'>\n",
      "<re.Match object; span=(209, 210), match='4'>\n",
      "<re.Match object; span=(210, 211), match='5'>\n",
      "<re.Match object; span=(211, 212), match='6'>\n",
      "<re.Match object; span=(212, 213), match='7'>\n",
      "<re.Match object; span=(213, 214), match='8'>\n",
      "<re.Match object; span=(214, 215), match='7'>\n",
      "<re.Match object; span=(215, 216), match='5'>\n",
      "<re.Match object; span=(217, 218), match='0'>\n",
      "<re.Match object; span=(218, 219), match='1'>\n",
      "<re.Match object; span=(219, 220), match='5'>\n",
      "<re.Match object; span=(220, 221), match='3'>\n",
      "<re.Match object; span=(221, 222), match='4'>\n",
      "<re.Match object; span=(222, 223), match='5'>\n",
      "<re.Match object; span=(223, 224), match='6'>\n",
      "<re.Match object; span=(224, 225), match='7'>\n",
      "<re.Match object; span=(225, 226), match='4'>\n",
      "<re.Match object; span=(226, 227), match='5'>\n",
      "<re.Match object; span=(227, 228), match='6'>\n",
      "<re.Match object; span=(229, 230), match='0'>\n",
      "<re.Match object; span=(230, 231), match='1'>\n",
      "<re.Match object; span=(231, 232), match='1'>\n",
      "<re.Match object; span=(232, 233), match='3'>\n",
      "<re.Match object; span=(233, 234), match='4'>\n",
      "<re.Match object; span=(234, 235), match='5'>\n",
      "<re.Match object; span=(235, 236), match='6'>\n",
      "<re.Match object; span=(236, 237), match='7'>\n",
      "<re.Match object; span=(237, 238), match='8'>\n",
      "<re.Match object; span=(238, 239), match='5'>\n",
      "<re.Match object; span=(239, 240), match='6'>\n",
      "<re.Match object; span=(241, 242), match='c'>\n",
      "<re.Match object; span=(242, 243), match='o'>\n",
      "<re.Match object; span=(243, 244), match='r'>\n",
      "<re.Match object; span=(244, 245), match='e'>\n",
      "<re.Match object; span=(245, 246), match='y'>\n",
      "<re.Match object; span=(246, 247), match='m'>\n",
      "<re.Match object; span=(247, 248), match='s'>\n",
      "<re.Match object; span=(248, 249), match='-'>\n",
      "<re.Match object; span=(249, 250), match='c'>\n",
      "<re.Match object; span=(250, 251), match='o'>\n",
      "<re.Match object; span=(251, 252), match='m'>\n",
      "<re.Match object; span=(253, 254), match='3'>\n",
      "<re.Match object; span=(254, 255), match='2'>\n",
      "<re.Match object; span=(255, 256), match='1'>\n",
      "<re.Match object; span=(256, 257), match='-'>\n",
      "<re.Match object; span=(257, 258), match='5'>\n",
      "<re.Match object; span=(258, 259), match='5'>\n",
      "<re.Match object; span=(259, 260), match='5'>\n",
      "<re.Match object; span=(260, 261), match='-'>\n",
      "<re.Match object; span=(261, 262), match='4'>\n",
      "<re.Match object; span=(262, 263), match='3'>\n",
      "<re.Match object; span=(263, 264), match='2'>\n",
      "<re.Match object; span=(264, 265), match='1'>\n",
      "<re.Match object; span=(266, 267), match='1'>\n",
      "<re.Match object; span=(267, 268), match='2'>\n",
      "<re.Match object; span=(268, 269), match='3'>\n",
      "<re.Match object; span=(269, 270), match='.'>\n",
      "<re.Match object; span=(270, 271), match='5'>\n",
      "<re.Match object; span=(271, 272), match='5'>\n",
      "<re.Match object; span=(272, 273), match='5'>\n",
      "<re.Match object; span=(273, 274), match='.'>\n",
      "<re.Match object; span=(274, 275), match='1'>\n",
      "<re.Match object; span=(275, 276), match='2'>\n",
      "<re.Match object; span=(276, 277), match='3'>\n",
      "<re.Match object; span=(277, 278), match='4'>\n",
      "<re.Match object; span=(279, 280), match='1'>\n",
      "<re.Match object; span=(280, 281), match='2'>\n",
      "<re.Match object; span=(281, 282), match='3'>\n",
      "<re.Match object; span=(282, 283), match='*'>\n",
      "<re.Match object; span=(283, 284), match='5'>\n",
      "<re.Match object; span=(284, 285), match='5'>\n",
      "<re.Match object; span=(285, 286), match='5'>\n",
      "<re.Match object; span=(286, 287), match='*'>\n",
      "<re.Match object; span=(287, 288), match='1'>\n",
      "<re.Match object; span=(288, 289), match='2'>\n",
      "<re.Match object; span=(289, 290), match='3'>\n",
      "<re.Match object; span=(290, 291), match='4'>\n",
      "<re.Match object; span=(292, 293), match='8'>\n",
      "<re.Match object; span=(293, 294), match='0'>\n",
      "<re.Match object; span=(294, 295), match='0'>\n",
      "<re.Match object; span=(295, 296), match='-'>\n",
      "<re.Match object; span=(296, 297), match='5'>\n",
      "<re.Match object; span=(297, 298), match='5'>\n",
      "<re.Match object; span=(298, 299), match='5'>\n",
      "<re.Match object; span=(299, 300), match='-'>\n",
      "<re.Match object; span=(300, 301), match='1'>\n",
      "<re.Match object; span=(301, 302), match='2'>\n",
      "<re.Match object; span=(302, 303), match='3'>\n",
      "<re.Match object; span=(303, 304), match='4'>\n",
      "<re.Match object; span=(305, 306), match='9'>\n",
      "<re.Match object; span=(306, 307), match='0'>\n",
      "<re.Match object; span=(307, 308), match='0'>\n",
      "<re.Match object; span=(308, 309), match='-'>\n",
      "<re.Match object; span=(309, 310), match='5'>\n",
      "<re.Match object; span=(310, 311), match='5'>\n",
      "<re.Match object; span=(311, 312), match='5'>\n",
      "<re.Match object; span=(312, 313), match='-'>\n",
      "<re.Match object; span=(313, 314), match='1'>\n",
      "<re.Match object; span=(314, 315), match='2'>\n",
      "<re.Match object; span=(315, 316), match='3'>\n",
      "<re.Match object; span=(316, 317), match='4'>\n",
      "<re.Match object; span=(318, 319), match='1'>\n",
      "<re.Match object; span=(319, 320), match='0'>\n",
      "<re.Match object; span=(320, 321), match='0'>\n",
      "<re.Match object; span=(321, 322), match='a'>\n",
      "<re.Match object; span=(322, 323), match='1'>\n",
      "<re.Match object; span=(323, 324), match='2'>\n",
      "<re.Match object; span=(324, 325), match='1'>\n",
      "<re.Match object; span=(325, 326), match='C'>\n",
      "<re.Match object; span=(326, 327), match='4'>\n",
      "<re.Match object; span=(327, 328), match='5'>\n",
      "<re.Match object; span=(328, 329), match='4'>\n",
      "<re.Match object; span=(329, 330), match='3'>\n",
      "<re.Match object; span=(331, 332), match='M'>\n",
      "<re.Match object; span=(332, 333), match='r'>\n",
      "<re.Match object; span=(333, 334), match='.'>\n",
      "<re.Match object; span=(334, 335), match=' '>\n",
      "<re.Match object; span=(335, 336), match='S'>\n",
      "<re.Match object; span=(336, 337), match='c'>\n",
      "<re.Match object; span=(337, 338), match='h'>\n",
      "<re.Match object; span=(338, 339), match='a'>\n",
      "<re.Match object; span=(339, 340), match='f'>\n",
      "<re.Match object; span=(340, 341), match='e'>\n",
      "<re.Match object; span=(341, 342), match='r'>\n",
      "<re.Match object; span=(343, 344), match='M'>\n",
      "<re.Match object; span=(344, 345), match='r'>\n",
      "<re.Match object; span=(345, 346), match=' '>\n",
      "<re.Match object; span=(346, 347), match='S'>\n",
      "<re.Match object; span=(347, 348), match='m'>\n",
      "<re.Match object; span=(348, 349), match='i'>\n",
      "<re.Match object; span=(349, 350), match='t'>\n",
      "<re.Match object; span=(350, 351), match='h'>\n",
      "<re.Match object; span=(352, 353), match='M'>\n",
      "<re.Match object; span=(353, 354), match='s'>\n",
      "<re.Match object; span=(354, 355), match=' '>\n",
      "<re.Match object; span=(355, 356), match='D'>\n",
      "<re.Match object; span=(356, 357), match='a'>\n",
      "<re.Match object; span=(357, 358), match='v'>\n",
      "<re.Match object; span=(358, 359), match='i'>\n",
      "<re.Match object; span=(359, 360), match='s'>\n",
      "<re.Match object; span=(361, 362), match='M'>\n",
      "<re.Match object; span=(362, 363), match='r'>\n",
      "<re.Match object; span=(363, 364), match='s'>\n",
      "<re.Match object; span=(364, 365), match='.'>\n",
      "<re.Match object; span=(365, 366), match=' '>\n",
      "<re.Match object; span=(366, 367), match='R'>\n",
      "<re.Match object; span=(367, 368), match='o'>\n",
      "<re.Match object; span=(368, 369), match='b'>\n",
      "<re.Match object; span=(369, 370), match='i'>\n",
      "<re.Match object; span=(370, 371), match='n'>\n",
      "<re.Match object; span=(371, 372), match='s'>\n",
      "<re.Match object; span=(372, 373), match='o'>\n",
      "<re.Match object; span=(373, 374), match='n'>\n",
      "<re.Match object; span=(375, 376), match='M'>\n",
      "<re.Match object; span=(376, 377), match='r'>\n",
      "<re.Match object; span=(377, 378), match='.'>\n",
      "<re.Match object; span=(378, 379), match=' '>\n",
      "<re.Match object; span=(379, 380), match='T'>\n"
     ]
    }
   ],
   "source": [
    "pattern = re.compile(r\".\") #matches everything ( excpet new lines )\n",
    "matches = pattern.finditer(text_to_search)\n",
    "for match in matches:\n",
    "    print(match)"
   ]
  },
  {
   "cell_type": "code",
   "execution_count": 11,
   "metadata": {
    "ExecuteTime": {
     "end_time": "2023-06-15T16:53:15.889892Z",
     "start_time": "2023-06-15T16:53:15.876212Z"
    }
   },
   "outputs": [
    {
     "name": "stdout",
     "output_type": "stream",
     "text": [
      "start index: 112 and end index is:  112\n",
      "start index: 269 and end index is:  269\n",
      "start index: 273 and end index is:  273\n",
      "start index: 333 and end index is:  333\n",
      "start index: 364 and end index is:  364\n",
      "start index: 377 and end index is:  377\n",
      ".\n",
      ".\n"
     ]
    }
   ],
   "source": [
    "pattern = re.compile(r\"\\.\") #matches only dots \n",
    "matches = pattern.finditer(text_to_search)\n",
    "\n",
    "for match in matches:\n",
    "    print(\"start index:\", match.span()[0] , \"and end index is: \", (match.span()[1])-1) \n",
    "    \n",
    "print(text_to_search[112])  \n",
    "print(text_to_search[269])  "
   ]
  },
  {
   "cell_type": "code",
   "execution_count": 12,
   "metadata": {
    "ExecuteTime": {
     "end_time": "2023-06-15T16:54:14.106956Z",
     "start_time": "2023-06-15T16:54:14.097474Z"
    }
   },
   "outputs": [
    {
     "data": {
      "text/plain": [
       "'abcdefghijklmnopqurtuvwxyz\\nABCDEFGHIJKLMNOPQRSTUVWXYZ\\n123456789010\\nHa HaHa\\nMetaCharacters (Need to be escaped):\\n. ^ $ * + ? { } [ ] \\\\ | ( )\\nabc\\ncat\\nmat \\nhat\\nbat\\nfat\\nsat\\n01092329340\\n01123234355\\n01023455411\\n01234567875\\n01534567456\\n01134567856\\ncoreyms-com\\n321-555-4321\\n123.555.1234\\n123*555*1234\\n800-555-1234\\n900-555-1234\\n100a121C4543\\nMr. Schafer\\nMr Smith\\nMs Davis\\nMrs. Robinson\\nMr. T\\n'"
      ]
     },
     "execution_count": 12,
     "metadata": {},
     "output_type": "execute_result"
    }
   ],
   "source": [
    "text_to_search"
   ]
  },
  {
   "cell_type": "code",
   "execution_count": 13,
   "metadata": {
    "ExecuteTime": {
     "end_time": "2023-06-15T16:54:43.084158Z",
     "start_time": "2023-06-15T16:54:43.074052Z"
    }
   },
   "outputs": [
    {
     "name": "stdout",
     "output_type": "stream",
     "text": [
      "<re.Match object; span=(241, 252), match='coreyms-com'>\n"
     ]
    }
   ],
   "source": [
    "pattern = re.compile(r\"coreyms.com\") \n",
    "matches = pattern.finditer(text_to_search)\n",
    "l = [ ]\n",
    "for match in matches:\n",
    "    print(match)\n",
    "\n",
    "#print(text_to_search[181:193])"
   ]
  },
  {
   "cell_type": "code",
   "execution_count": 7,
   "metadata": {
    "ExecuteTime": {
     "end_time": "2023-07-18T20:28:38.934982Z",
     "start_time": "2023-07-18T20:28:38.927843Z"
    }
   },
   "outputs": [],
   "source": [
    "pattern = re.compile(r\"coreyms\\.com\") #matches only dots \n",
    "matches = pattern.finditer(text_to_search)\n",
    "for match in matches:\n",
    "    print(match)"
   ]
  },
  {
   "cell_type": "code",
   "execution_count": 16,
   "metadata": {
    "ExecuteTime": {
     "end_time": "2023-06-15T16:55:31.136564Z",
     "start_time": "2023-06-15T16:55:31.127289Z"
    }
   },
   "outputs": [
    {
     "name": "stdout",
     "output_type": "stream",
     "text": [
      "<re.Match object; span=(3, 4), match='d'>\n",
      "<re.Match object; span=(94, 95), match='d'>\n",
      "<re.Match object; span=(108, 109), match='d'>\n"
     ]
    }
   ],
   "source": [
    "pattern = re.compile(r\"d\")   \n",
    "matches = pattern.finditer(text_to_search)\n",
    "for match in matches:\n",
    "    print(match)"
   ]
  },
  {
   "cell_type": "code",
   "execution_count": 17,
   "metadata": {
    "ExecuteTime": {
     "end_time": "2023-06-15T16:55:42.474532Z",
     "start_time": "2023-06-15T16:55:42.456071Z"
    }
   },
   "outputs": [
    {
     "name": "stdout",
     "output_type": "stream",
     "text": [
      "<re.Match object; span=(54, 55), match='1'>\n",
      "<re.Match object; span=(55, 56), match='2'>\n",
      "<re.Match object; span=(56, 57), match='3'>\n",
      "<re.Match object; span=(57, 58), match='4'>\n",
      "<re.Match object; span=(58, 59), match='5'>\n",
      "<re.Match object; span=(59, 60), match='6'>\n",
      "<re.Match object; span=(60, 61), match='7'>\n",
      "<re.Match object; span=(61, 62), match='8'>\n",
      "<re.Match object; span=(62, 63), match='9'>\n",
      "<re.Match object; span=(63, 64), match='0'>\n",
      "<re.Match object; span=(64, 65), match='1'>\n",
      "<re.Match object; span=(65, 66), match='0'>\n",
      "<re.Match object; span=(169, 170), match='0'>\n",
      "<re.Match object; span=(170, 171), match='1'>\n",
      "<re.Match object; span=(171, 172), match='0'>\n",
      "<re.Match object; span=(172, 173), match='9'>\n",
      "<re.Match object; span=(173, 174), match='2'>\n",
      "<re.Match object; span=(174, 175), match='3'>\n",
      "<re.Match object; span=(175, 176), match='2'>\n",
      "<re.Match object; span=(176, 177), match='9'>\n",
      "<re.Match object; span=(177, 178), match='3'>\n",
      "<re.Match object; span=(178, 179), match='4'>\n",
      "<re.Match object; span=(179, 180), match='0'>\n",
      "<re.Match object; span=(181, 182), match='0'>\n",
      "<re.Match object; span=(182, 183), match='1'>\n",
      "<re.Match object; span=(183, 184), match='1'>\n",
      "<re.Match object; span=(184, 185), match='2'>\n",
      "<re.Match object; span=(185, 186), match='3'>\n",
      "<re.Match object; span=(186, 187), match='2'>\n",
      "<re.Match object; span=(187, 188), match='3'>\n",
      "<re.Match object; span=(188, 189), match='4'>\n",
      "<re.Match object; span=(189, 190), match='3'>\n",
      "<re.Match object; span=(190, 191), match='5'>\n",
      "<re.Match object; span=(191, 192), match='5'>\n",
      "<re.Match object; span=(193, 194), match='0'>\n",
      "<re.Match object; span=(194, 195), match='1'>\n",
      "<re.Match object; span=(195, 196), match='0'>\n",
      "<re.Match object; span=(196, 197), match='2'>\n",
      "<re.Match object; span=(197, 198), match='3'>\n",
      "<re.Match object; span=(198, 199), match='4'>\n",
      "<re.Match object; span=(199, 200), match='5'>\n",
      "<re.Match object; span=(200, 201), match='5'>\n",
      "<re.Match object; span=(201, 202), match='4'>\n",
      "<re.Match object; span=(202, 203), match='1'>\n",
      "<re.Match object; span=(203, 204), match='1'>\n",
      "<re.Match object; span=(205, 206), match='0'>\n",
      "<re.Match object; span=(206, 207), match='1'>\n",
      "<re.Match object; span=(207, 208), match='2'>\n",
      "<re.Match object; span=(208, 209), match='3'>\n",
      "<re.Match object; span=(209, 210), match='4'>\n",
      "<re.Match object; span=(210, 211), match='5'>\n",
      "<re.Match object; span=(211, 212), match='6'>\n",
      "<re.Match object; span=(212, 213), match='7'>\n",
      "<re.Match object; span=(213, 214), match='8'>\n",
      "<re.Match object; span=(214, 215), match='7'>\n",
      "<re.Match object; span=(215, 216), match='5'>\n",
      "<re.Match object; span=(217, 218), match='0'>\n",
      "<re.Match object; span=(218, 219), match='1'>\n",
      "<re.Match object; span=(219, 220), match='5'>\n",
      "<re.Match object; span=(220, 221), match='3'>\n",
      "<re.Match object; span=(221, 222), match='4'>\n",
      "<re.Match object; span=(222, 223), match='5'>\n",
      "<re.Match object; span=(223, 224), match='6'>\n",
      "<re.Match object; span=(224, 225), match='7'>\n",
      "<re.Match object; span=(225, 226), match='4'>\n",
      "<re.Match object; span=(226, 227), match='5'>\n",
      "<re.Match object; span=(227, 228), match='6'>\n",
      "<re.Match object; span=(229, 230), match='0'>\n",
      "<re.Match object; span=(230, 231), match='1'>\n",
      "<re.Match object; span=(231, 232), match='1'>\n",
      "<re.Match object; span=(232, 233), match='3'>\n",
      "<re.Match object; span=(233, 234), match='4'>\n",
      "<re.Match object; span=(234, 235), match='5'>\n",
      "<re.Match object; span=(235, 236), match='6'>\n",
      "<re.Match object; span=(236, 237), match='7'>\n",
      "<re.Match object; span=(237, 238), match='8'>\n",
      "<re.Match object; span=(238, 239), match='5'>\n",
      "<re.Match object; span=(239, 240), match='6'>\n",
      "<re.Match object; span=(253, 254), match='3'>\n",
      "<re.Match object; span=(254, 255), match='2'>\n",
      "<re.Match object; span=(255, 256), match='1'>\n",
      "<re.Match object; span=(257, 258), match='5'>\n",
      "<re.Match object; span=(258, 259), match='5'>\n",
      "<re.Match object; span=(259, 260), match='5'>\n",
      "<re.Match object; span=(261, 262), match='4'>\n",
      "<re.Match object; span=(262, 263), match='3'>\n",
      "<re.Match object; span=(263, 264), match='2'>\n",
      "<re.Match object; span=(264, 265), match='1'>\n",
      "<re.Match object; span=(266, 267), match='1'>\n",
      "<re.Match object; span=(267, 268), match='2'>\n",
      "<re.Match object; span=(268, 269), match='3'>\n",
      "<re.Match object; span=(270, 271), match='5'>\n",
      "<re.Match object; span=(271, 272), match='5'>\n",
      "<re.Match object; span=(272, 273), match='5'>\n",
      "<re.Match object; span=(274, 275), match='1'>\n",
      "<re.Match object; span=(275, 276), match='2'>\n",
      "<re.Match object; span=(276, 277), match='3'>\n",
      "<re.Match object; span=(277, 278), match='4'>\n",
      "<re.Match object; span=(279, 280), match='1'>\n",
      "<re.Match object; span=(280, 281), match='2'>\n",
      "<re.Match object; span=(281, 282), match='3'>\n",
      "<re.Match object; span=(283, 284), match='5'>\n",
      "<re.Match object; span=(284, 285), match='5'>\n",
      "<re.Match object; span=(285, 286), match='5'>\n",
      "<re.Match object; span=(287, 288), match='1'>\n",
      "<re.Match object; span=(288, 289), match='2'>\n",
      "<re.Match object; span=(289, 290), match='3'>\n",
      "<re.Match object; span=(290, 291), match='4'>\n",
      "<re.Match object; span=(292, 293), match='8'>\n",
      "<re.Match object; span=(293, 294), match='0'>\n",
      "<re.Match object; span=(294, 295), match='0'>\n",
      "<re.Match object; span=(296, 297), match='5'>\n",
      "<re.Match object; span=(297, 298), match='5'>\n",
      "<re.Match object; span=(298, 299), match='5'>\n",
      "<re.Match object; span=(300, 301), match='1'>\n",
      "<re.Match object; span=(301, 302), match='2'>\n",
      "<re.Match object; span=(302, 303), match='3'>\n",
      "<re.Match object; span=(303, 304), match='4'>\n",
      "<re.Match object; span=(305, 306), match='9'>\n",
      "<re.Match object; span=(306, 307), match='0'>\n",
      "<re.Match object; span=(307, 308), match='0'>\n",
      "<re.Match object; span=(309, 310), match='5'>\n",
      "<re.Match object; span=(310, 311), match='5'>\n",
      "<re.Match object; span=(311, 312), match='5'>\n",
      "<re.Match object; span=(313, 314), match='1'>\n",
      "<re.Match object; span=(314, 315), match='2'>\n",
      "<re.Match object; span=(315, 316), match='3'>\n",
      "<re.Match object; span=(316, 317), match='4'>\n",
      "<re.Match object; span=(318, 319), match='1'>\n",
      "<re.Match object; span=(319, 320), match='0'>\n",
      "<re.Match object; span=(320, 321), match='0'>\n",
      "<re.Match object; span=(322, 323), match='1'>\n",
      "<re.Match object; span=(323, 324), match='2'>\n",
      "<re.Match object; span=(324, 325), match='1'>\n",
      "<re.Match object; span=(326, 327), match='4'>\n",
      "<re.Match object; span=(327, 328), match='5'>\n",
      "<re.Match object; span=(328, 329), match='4'>\n",
      "<re.Match object; span=(329, 330), match='3'>\n"
     ]
    }
   ],
   "source": [
    "pattern = re.compile(r\"\\d\") #matches only digits  \n",
    "matches = pattern.finditer(text_to_search)\n",
    "for match in matches:\n",
    "    print(match)"
   ]
  },
  {
   "cell_type": "code",
   "execution_count": 18,
   "metadata": {
    "ExecuteTime": {
     "end_time": "2023-06-15T16:56:13.306767Z",
     "start_time": "2023-06-15T16:56:13.293439Z"
    }
   },
   "outputs": [
    {
     "name": "stdout",
     "output_type": "stream",
     "text": [
      "<re.Match object; span=(0, 1), match='a'>\n",
      "<re.Match object; span=(1, 2), match='b'>\n",
      "<re.Match object; span=(2, 3), match='c'>\n",
      "<re.Match object; span=(3, 4), match='d'>\n",
      "<re.Match object; span=(4, 5), match='e'>\n",
      "<re.Match object; span=(5, 6), match='f'>\n",
      "<re.Match object; span=(6, 7), match='g'>\n",
      "<re.Match object; span=(7, 8), match='h'>\n",
      "<re.Match object; span=(8, 9), match='i'>\n",
      "<re.Match object; span=(9, 10), match='j'>\n",
      "<re.Match object; span=(10, 11), match='k'>\n",
      "<re.Match object; span=(11, 12), match='l'>\n",
      "<re.Match object; span=(12, 13), match='m'>\n",
      "<re.Match object; span=(13, 14), match='n'>\n",
      "<re.Match object; span=(14, 15), match='o'>\n",
      "<re.Match object; span=(15, 16), match='p'>\n",
      "<re.Match object; span=(16, 17), match='q'>\n",
      "<re.Match object; span=(17, 18), match='u'>\n",
      "<re.Match object; span=(18, 19), match='r'>\n",
      "<re.Match object; span=(19, 20), match='t'>\n",
      "<re.Match object; span=(20, 21), match='u'>\n",
      "<re.Match object; span=(21, 22), match='v'>\n",
      "<re.Match object; span=(22, 23), match='w'>\n",
      "<re.Match object; span=(23, 24), match='x'>\n",
      "<re.Match object; span=(24, 25), match='y'>\n",
      "<re.Match object; span=(25, 26), match='z'>\n",
      "<re.Match object; span=(26, 27), match='\\n'>\n",
      "<re.Match object; span=(27, 28), match='A'>\n",
      "<re.Match object; span=(28, 29), match='B'>\n",
      "<re.Match object; span=(29, 30), match='C'>\n",
      "<re.Match object; span=(30, 31), match='D'>\n",
      "<re.Match object; span=(31, 32), match='E'>\n",
      "<re.Match object; span=(32, 33), match='F'>\n",
      "<re.Match object; span=(33, 34), match='G'>\n",
      "<re.Match object; span=(34, 35), match='H'>\n",
      "<re.Match object; span=(35, 36), match='I'>\n",
      "<re.Match object; span=(36, 37), match='J'>\n",
      "<re.Match object; span=(37, 38), match='K'>\n",
      "<re.Match object; span=(38, 39), match='L'>\n",
      "<re.Match object; span=(39, 40), match='M'>\n",
      "<re.Match object; span=(40, 41), match='N'>\n",
      "<re.Match object; span=(41, 42), match='O'>\n",
      "<re.Match object; span=(42, 43), match='P'>\n",
      "<re.Match object; span=(43, 44), match='Q'>\n",
      "<re.Match object; span=(44, 45), match='R'>\n",
      "<re.Match object; span=(45, 46), match='S'>\n",
      "<re.Match object; span=(46, 47), match='T'>\n",
      "<re.Match object; span=(47, 48), match='U'>\n",
      "<re.Match object; span=(48, 49), match='V'>\n",
      "<re.Match object; span=(49, 50), match='W'>\n",
      "<re.Match object; span=(50, 51), match='X'>\n",
      "<re.Match object; span=(51, 52), match='Y'>\n",
      "<re.Match object; span=(52, 53), match='Z'>\n",
      "<re.Match object; span=(53, 54), match='\\n'>\n",
      "<re.Match object; span=(66, 67), match='\\n'>\n",
      "<re.Match object; span=(67, 68), match='H'>\n",
      "<re.Match object; span=(68, 69), match='a'>\n",
      "<re.Match object; span=(69, 70), match=' '>\n",
      "<re.Match object; span=(70, 71), match='H'>\n",
      "<re.Match object; span=(71, 72), match='a'>\n",
      "<re.Match object; span=(72, 73), match='H'>\n",
      "<re.Match object; span=(73, 74), match='a'>\n",
      "<re.Match object; span=(74, 75), match='\\n'>\n",
      "<re.Match object; span=(75, 76), match='M'>\n",
      "<re.Match object; span=(76, 77), match='e'>\n",
      "<re.Match object; span=(77, 78), match='t'>\n",
      "<re.Match object; span=(78, 79), match='a'>\n",
      "<re.Match object; span=(79, 80), match='C'>\n",
      "<re.Match object; span=(80, 81), match='h'>\n",
      "<re.Match object; span=(81, 82), match='a'>\n",
      "<re.Match object; span=(82, 83), match='r'>\n",
      "<re.Match object; span=(83, 84), match='a'>\n",
      "<re.Match object; span=(84, 85), match='c'>\n",
      "<re.Match object; span=(85, 86), match='t'>\n",
      "<re.Match object; span=(86, 87), match='e'>\n",
      "<re.Match object; span=(87, 88), match='r'>\n",
      "<re.Match object; span=(88, 89), match='s'>\n",
      "<re.Match object; span=(89, 90), match=' '>\n",
      "<re.Match object; span=(90, 91), match='('>\n",
      "<re.Match object; span=(91, 92), match='N'>\n",
      "<re.Match object; span=(92, 93), match='e'>\n",
      "<re.Match object; span=(93, 94), match='e'>\n",
      "<re.Match object; span=(94, 95), match='d'>\n",
      "<re.Match object; span=(95, 96), match=' '>\n",
      "<re.Match object; span=(96, 97), match='t'>\n",
      "<re.Match object; span=(97, 98), match='o'>\n",
      "<re.Match object; span=(98, 99), match=' '>\n",
      "<re.Match object; span=(99, 100), match='b'>\n",
      "<re.Match object; span=(100, 101), match='e'>\n",
      "<re.Match object; span=(101, 102), match=' '>\n",
      "<re.Match object; span=(102, 103), match='e'>\n",
      "<re.Match object; span=(103, 104), match='s'>\n",
      "<re.Match object; span=(104, 105), match='c'>\n",
      "<re.Match object; span=(105, 106), match='a'>\n",
      "<re.Match object; span=(106, 107), match='p'>\n",
      "<re.Match object; span=(107, 108), match='e'>\n",
      "<re.Match object; span=(108, 109), match='d'>\n",
      "<re.Match object; span=(109, 110), match=')'>\n",
      "<re.Match object; span=(110, 111), match=':'>\n",
      "<re.Match object; span=(111, 112), match='\\n'>\n",
      "<re.Match object; span=(112, 113), match='.'>\n",
      "<re.Match object; span=(113, 114), match=' '>\n",
      "<re.Match object; span=(114, 115), match='^'>\n",
      "<re.Match object; span=(115, 116), match=' '>\n",
      "<re.Match object; span=(116, 117), match='$'>\n",
      "<re.Match object; span=(117, 118), match=' '>\n",
      "<re.Match object; span=(118, 119), match='*'>\n",
      "<re.Match object; span=(119, 120), match=' '>\n",
      "<re.Match object; span=(120, 121), match='+'>\n",
      "<re.Match object; span=(121, 122), match=' '>\n",
      "<re.Match object; span=(122, 123), match='?'>\n",
      "<re.Match object; span=(123, 124), match=' '>\n",
      "<re.Match object; span=(124, 125), match='{'>\n",
      "<re.Match object; span=(125, 126), match=' '>\n",
      "<re.Match object; span=(126, 127), match='}'>\n",
      "<re.Match object; span=(127, 128), match=' '>\n",
      "<re.Match object; span=(128, 129), match='['>\n",
      "<re.Match object; span=(129, 130), match=' '>\n",
      "<re.Match object; span=(130, 131), match=']'>\n",
      "<re.Match object; span=(131, 132), match=' '>\n",
      "<re.Match object; span=(132, 133), match='\\\\'>\n",
      "<re.Match object; span=(133, 134), match=' '>\n",
      "<re.Match object; span=(134, 135), match='|'>\n",
      "<re.Match object; span=(135, 136), match=' '>\n",
      "<re.Match object; span=(136, 137), match='('>\n",
      "<re.Match object; span=(137, 138), match=' '>\n",
      "<re.Match object; span=(138, 139), match=')'>\n",
      "<re.Match object; span=(139, 140), match='\\n'>\n",
      "<re.Match object; span=(140, 141), match='a'>\n",
      "<re.Match object; span=(141, 142), match='b'>\n",
      "<re.Match object; span=(142, 143), match='c'>\n",
      "<re.Match object; span=(143, 144), match='\\n'>\n",
      "<re.Match object; span=(144, 145), match='c'>\n",
      "<re.Match object; span=(145, 146), match='a'>\n",
      "<re.Match object; span=(146, 147), match='t'>\n",
      "<re.Match object; span=(147, 148), match='\\n'>\n",
      "<re.Match object; span=(148, 149), match='m'>\n",
      "<re.Match object; span=(149, 150), match='a'>\n",
      "<re.Match object; span=(150, 151), match='t'>\n",
      "<re.Match object; span=(151, 152), match=' '>\n",
      "<re.Match object; span=(152, 153), match='\\n'>\n",
      "<re.Match object; span=(153, 154), match='h'>\n",
      "<re.Match object; span=(154, 155), match='a'>\n",
      "<re.Match object; span=(155, 156), match='t'>\n",
      "<re.Match object; span=(156, 157), match='\\n'>\n",
      "<re.Match object; span=(157, 158), match='b'>\n",
      "<re.Match object; span=(158, 159), match='a'>\n",
      "<re.Match object; span=(159, 160), match='t'>\n",
      "<re.Match object; span=(160, 161), match='\\n'>\n",
      "<re.Match object; span=(161, 162), match='f'>\n",
      "<re.Match object; span=(162, 163), match='a'>\n",
      "<re.Match object; span=(163, 164), match='t'>\n",
      "<re.Match object; span=(164, 165), match='\\n'>\n",
      "<re.Match object; span=(165, 166), match='s'>\n",
      "<re.Match object; span=(166, 167), match='a'>\n",
      "<re.Match object; span=(167, 168), match='t'>\n",
      "<re.Match object; span=(168, 169), match='\\n'>\n",
      "<re.Match object; span=(180, 181), match='\\n'>\n",
      "<re.Match object; span=(192, 193), match='\\n'>\n",
      "<re.Match object; span=(204, 205), match='\\n'>\n",
      "<re.Match object; span=(216, 217), match='\\n'>\n",
      "<re.Match object; span=(228, 229), match='\\n'>\n",
      "<re.Match object; span=(240, 241), match='\\n'>\n",
      "<re.Match object; span=(241, 242), match='c'>\n",
      "<re.Match object; span=(242, 243), match='o'>\n",
      "<re.Match object; span=(243, 244), match='r'>\n",
      "<re.Match object; span=(244, 245), match='e'>\n",
      "<re.Match object; span=(245, 246), match='y'>\n",
      "<re.Match object; span=(246, 247), match='m'>\n",
      "<re.Match object; span=(247, 248), match='s'>\n",
      "<re.Match object; span=(248, 249), match='-'>\n",
      "<re.Match object; span=(249, 250), match='c'>\n",
      "<re.Match object; span=(250, 251), match='o'>\n",
      "<re.Match object; span=(251, 252), match='m'>\n",
      "<re.Match object; span=(252, 253), match='\\n'>\n",
      "<re.Match object; span=(256, 257), match='-'>\n",
      "<re.Match object; span=(260, 261), match='-'>\n",
      "<re.Match object; span=(265, 266), match='\\n'>\n",
      "<re.Match object; span=(269, 270), match='.'>\n",
      "<re.Match object; span=(273, 274), match='.'>\n",
      "<re.Match object; span=(278, 279), match='\\n'>\n",
      "<re.Match object; span=(282, 283), match='*'>\n",
      "<re.Match object; span=(286, 287), match='*'>\n",
      "<re.Match object; span=(291, 292), match='\\n'>\n",
      "<re.Match object; span=(295, 296), match='-'>\n",
      "<re.Match object; span=(299, 300), match='-'>\n",
      "<re.Match object; span=(304, 305), match='\\n'>\n",
      "<re.Match object; span=(308, 309), match='-'>\n",
      "<re.Match object; span=(312, 313), match='-'>\n",
      "<re.Match object; span=(317, 318), match='\\n'>\n",
      "<re.Match object; span=(321, 322), match='a'>\n",
      "<re.Match object; span=(325, 326), match='C'>\n",
      "<re.Match object; span=(330, 331), match='\\n'>\n",
      "<re.Match object; span=(331, 332), match='M'>\n",
      "<re.Match object; span=(332, 333), match='r'>\n",
      "<re.Match object; span=(333, 334), match='.'>\n",
      "<re.Match object; span=(334, 335), match=' '>\n",
      "<re.Match object; span=(335, 336), match='S'>\n",
      "<re.Match object; span=(336, 337), match='c'>\n",
      "<re.Match object; span=(337, 338), match='h'>\n",
      "<re.Match object; span=(338, 339), match='a'>\n",
      "<re.Match object; span=(339, 340), match='f'>\n",
      "<re.Match object; span=(340, 341), match='e'>\n",
      "<re.Match object; span=(341, 342), match='r'>\n",
      "<re.Match object; span=(342, 343), match='\\n'>\n",
      "<re.Match object; span=(343, 344), match='M'>\n",
      "<re.Match object; span=(344, 345), match='r'>\n",
      "<re.Match object; span=(345, 346), match=' '>\n",
      "<re.Match object; span=(346, 347), match='S'>\n",
      "<re.Match object; span=(347, 348), match='m'>\n",
      "<re.Match object; span=(348, 349), match='i'>\n",
      "<re.Match object; span=(349, 350), match='t'>\n",
      "<re.Match object; span=(350, 351), match='h'>\n",
      "<re.Match object; span=(351, 352), match='\\n'>\n",
      "<re.Match object; span=(352, 353), match='M'>\n",
      "<re.Match object; span=(353, 354), match='s'>\n",
      "<re.Match object; span=(354, 355), match=' '>\n",
      "<re.Match object; span=(355, 356), match='D'>\n",
      "<re.Match object; span=(356, 357), match='a'>\n",
      "<re.Match object; span=(357, 358), match='v'>\n",
      "<re.Match object; span=(358, 359), match='i'>\n",
      "<re.Match object; span=(359, 360), match='s'>\n",
      "<re.Match object; span=(360, 361), match='\\n'>\n",
      "<re.Match object; span=(361, 362), match='M'>\n",
      "<re.Match object; span=(362, 363), match='r'>\n",
      "<re.Match object; span=(363, 364), match='s'>\n",
      "<re.Match object; span=(364, 365), match='.'>\n",
      "<re.Match object; span=(365, 366), match=' '>\n",
      "<re.Match object; span=(366, 367), match='R'>\n",
      "<re.Match object; span=(367, 368), match='o'>\n",
      "<re.Match object; span=(368, 369), match='b'>\n",
      "<re.Match object; span=(369, 370), match='i'>\n",
      "<re.Match object; span=(370, 371), match='n'>\n",
      "<re.Match object; span=(371, 372), match='s'>\n",
      "<re.Match object; span=(372, 373), match='o'>\n",
      "<re.Match object; span=(373, 374), match='n'>\n",
      "<re.Match object; span=(374, 375), match='\\n'>\n",
      "<re.Match object; span=(375, 376), match='M'>\n",
      "<re.Match object; span=(376, 377), match='r'>\n",
      "<re.Match object; span=(377, 378), match='.'>\n",
      "<re.Match object; span=(378, 379), match=' '>\n",
      "<re.Match object; span=(379, 380), match='T'>\n",
      "<re.Match object; span=(380, 381), match='\\n'>\n"
     ]
    }
   ],
   "source": [
    "pattern = re.compile(r\"\\D\") #matches only digits  \n",
    "matches = pattern.finditer(text_to_search)\n",
    "for match in matches:\n",
    "    print(match)"
   ]
  },
  {
   "cell_type": "code",
   "execution_count": 19,
   "metadata": {
    "ExecuteTime": {
     "end_time": "2023-06-15T16:56:45.330712Z",
     "start_time": "2023-06-15T16:56:45.322456Z"
    }
   },
   "outputs": [
    {
     "name": "stdout",
     "output_type": "stream",
     "text": [
      "<re.Match object; span=(54, 56), match='12'>\n",
      "<re.Match object; span=(56, 58), match='34'>\n",
      "<re.Match object; span=(58, 60), match='56'>\n",
      "<re.Match object; span=(60, 62), match='78'>\n",
      "<re.Match object; span=(62, 64), match='90'>\n",
      "<re.Match object; span=(64, 66), match='10'>\n",
      "<re.Match object; span=(169, 171), match='01'>\n",
      "<re.Match object; span=(171, 173), match='09'>\n",
      "<re.Match object; span=(173, 175), match='23'>\n",
      "<re.Match object; span=(175, 177), match='29'>\n",
      "<re.Match object; span=(177, 179), match='34'>\n",
      "<re.Match object; span=(181, 183), match='01'>\n",
      "<re.Match object; span=(183, 185), match='12'>\n",
      "<re.Match object; span=(185, 187), match='32'>\n",
      "<re.Match object; span=(187, 189), match='34'>\n",
      "<re.Match object; span=(189, 191), match='35'>\n",
      "<re.Match object; span=(193, 195), match='01'>\n",
      "<re.Match object; span=(195, 197), match='02'>\n",
      "<re.Match object; span=(197, 199), match='34'>\n",
      "<re.Match object; span=(199, 201), match='55'>\n",
      "<re.Match object; span=(201, 203), match='41'>\n",
      "<re.Match object; span=(205, 207), match='01'>\n",
      "<re.Match object; span=(207, 209), match='23'>\n",
      "<re.Match object; span=(209, 211), match='45'>\n",
      "<re.Match object; span=(211, 213), match='67'>\n",
      "<re.Match object; span=(213, 215), match='87'>\n",
      "<re.Match object; span=(217, 219), match='01'>\n",
      "<re.Match object; span=(219, 221), match='53'>\n",
      "<re.Match object; span=(221, 223), match='45'>\n",
      "<re.Match object; span=(223, 225), match='67'>\n",
      "<re.Match object; span=(225, 227), match='45'>\n",
      "<re.Match object; span=(229, 231), match='01'>\n",
      "<re.Match object; span=(231, 233), match='13'>\n",
      "<re.Match object; span=(233, 235), match='45'>\n",
      "<re.Match object; span=(235, 237), match='67'>\n",
      "<re.Match object; span=(237, 239), match='85'>\n",
      "<re.Match object; span=(253, 255), match='32'>\n",
      "<re.Match object; span=(257, 259), match='55'>\n",
      "<re.Match object; span=(261, 263), match='43'>\n",
      "<re.Match object; span=(263, 265), match='21'>\n",
      "<re.Match object; span=(266, 268), match='12'>\n",
      "<re.Match object; span=(270, 272), match='55'>\n",
      "<re.Match object; span=(274, 276), match='12'>\n",
      "<re.Match object; span=(276, 278), match='34'>\n",
      "<re.Match object; span=(279, 281), match='12'>\n",
      "<re.Match object; span=(283, 285), match='55'>\n",
      "<re.Match object; span=(287, 289), match='12'>\n",
      "<re.Match object; span=(289, 291), match='34'>\n",
      "<re.Match object; span=(292, 294), match='80'>\n",
      "<re.Match object; span=(296, 298), match='55'>\n",
      "<re.Match object; span=(300, 302), match='12'>\n",
      "<re.Match object; span=(302, 304), match='34'>\n",
      "<re.Match object; span=(305, 307), match='90'>\n",
      "<re.Match object; span=(309, 311), match='55'>\n",
      "<re.Match object; span=(313, 315), match='12'>\n",
      "<re.Match object; span=(315, 317), match='34'>\n",
      "<re.Match object; span=(318, 320), match='10'>\n",
      "<re.Match object; span=(322, 324), match='12'>\n",
      "<re.Match object; span=(326, 328), match='45'>\n",
      "<re.Match object; span=(328, 330), match='43'>\n"
     ]
    }
   ],
   "source": [
    "pattern = re.compile(\"\\d\\d\") #matches only two digits  \n",
    "matches = pattern.finditer(text_to_search)\n",
    "for match in matches:\n",
    "    print(match)"
   ]
  },
  {
   "cell_type": "code",
   "execution_count": 21,
   "metadata": {
    "ExecuteTime": {
     "end_time": "2023-06-15T17:00:55.315283Z",
     "start_time": "2023-06-15T17:00:55.301493Z"
    }
   },
   "outputs": [
    {
     "name": "stdout",
     "output_type": "stream",
     "text": [
      "<re.Match object; span=(0, 1), match='a'>\n",
      "<re.Match object; span=(1, 2), match='b'>\n",
      "<re.Match object; span=(2, 3), match='c'>\n",
      "<re.Match object; span=(3, 4), match='d'>\n",
      "<re.Match object; span=(4, 5), match='e'>\n",
      "<re.Match object; span=(5, 6), match='f'>\n",
      "<re.Match object; span=(6, 7), match='g'>\n",
      "<re.Match object; span=(7, 8), match='h'>\n",
      "<re.Match object; span=(8, 9), match='i'>\n",
      "<re.Match object; span=(9, 10), match='j'>\n",
      "<re.Match object; span=(10, 11), match='k'>\n",
      "<re.Match object; span=(11, 12), match='l'>\n",
      "<re.Match object; span=(12, 13), match='m'>\n",
      "<re.Match object; span=(13, 14), match='n'>\n",
      "<re.Match object; span=(14, 15), match='o'>\n",
      "<re.Match object; span=(15, 16), match='p'>\n",
      "<re.Match object; span=(16, 17), match='q'>\n",
      "<re.Match object; span=(17, 18), match='u'>\n",
      "<re.Match object; span=(18, 19), match='r'>\n",
      "<re.Match object; span=(19, 20), match='t'>\n",
      "<re.Match object; span=(20, 21), match='u'>\n",
      "<re.Match object; span=(21, 22), match='v'>\n",
      "<re.Match object; span=(22, 23), match='w'>\n",
      "<re.Match object; span=(23, 24), match='x'>\n",
      "<re.Match object; span=(24, 25), match='y'>\n",
      "<re.Match object; span=(25, 26), match='z'>\n",
      "<re.Match object; span=(27, 28), match='A'>\n",
      "<re.Match object; span=(28, 29), match='B'>\n",
      "<re.Match object; span=(29, 30), match='C'>\n",
      "<re.Match object; span=(30, 31), match='D'>\n",
      "<re.Match object; span=(31, 32), match='E'>\n",
      "<re.Match object; span=(32, 33), match='F'>\n",
      "<re.Match object; span=(33, 34), match='G'>\n",
      "<re.Match object; span=(34, 35), match='H'>\n",
      "<re.Match object; span=(35, 36), match='I'>\n",
      "<re.Match object; span=(36, 37), match='J'>\n",
      "<re.Match object; span=(37, 38), match='K'>\n",
      "<re.Match object; span=(38, 39), match='L'>\n",
      "<re.Match object; span=(39, 40), match='M'>\n",
      "<re.Match object; span=(40, 41), match='N'>\n",
      "<re.Match object; span=(41, 42), match='O'>\n",
      "<re.Match object; span=(42, 43), match='P'>\n",
      "<re.Match object; span=(43, 44), match='Q'>\n",
      "<re.Match object; span=(44, 45), match='R'>\n",
      "<re.Match object; span=(45, 46), match='S'>\n",
      "<re.Match object; span=(46, 47), match='T'>\n",
      "<re.Match object; span=(47, 48), match='U'>\n",
      "<re.Match object; span=(48, 49), match='V'>\n",
      "<re.Match object; span=(49, 50), match='W'>\n",
      "<re.Match object; span=(50, 51), match='X'>\n",
      "<re.Match object; span=(51, 52), match='Y'>\n",
      "<re.Match object; span=(52, 53), match='Z'>\n",
      "<re.Match object; span=(54, 55), match='1'>\n",
      "<re.Match object; span=(55, 56), match='2'>\n",
      "<re.Match object; span=(56, 57), match='3'>\n",
      "<re.Match object; span=(57, 58), match='4'>\n",
      "<re.Match object; span=(58, 59), match='5'>\n",
      "<re.Match object; span=(59, 60), match='6'>\n",
      "<re.Match object; span=(60, 61), match='7'>\n",
      "<re.Match object; span=(61, 62), match='8'>\n",
      "<re.Match object; span=(62, 63), match='9'>\n",
      "<re.Match object; span=(63, 64), match='0'>\n",
      "<re.Match object; span=(64, 65), match='1'>\n",
      "<re.Match object; span=(65, 66), match='0'>\n",
      "<re.Match object; span=(67, 68), match='H'>\n",
      "<re.Match object; span=(68, 69), match='a'>\n",
      "<re.Match object; span=(70, 71), match='H'>\n",
      "<re.Match object; span=(71, 72), match='a'>\n",
      "<re.Match object; span=(72, 73), match='H'>\n",
      "<re.Match object; span=(73, 74), match='a'>\n",
      "<re.Match object; span=(75, 76), match='M'>\n",
      "<re.Match object; span=(76, 77), match='e'>\n",
      "<re.Match object; span=(77, 78), match='t'>\n",
      "<re.Match object; span=(78, 79), match='a'>\n",
      "<re.Match object; span=(79, 80), match='C'>\n",
      "<re.Match object; span=(80, 81), match='h'>\n",
      "<re.Match object; span=(81, 82), match='a'>\n",
      "<re.Match object; span=(82, 83), match='r'>\n",
      "<re.Match object; span=(83, 84), match='a'>\n",
      "<re.Match object; span=(84, 85), match='c'>\n",
      "<re.Match object; span=(85, 86), match='t'>\n",
      "<re.Match object; span=(86, 87), match='e'>\n",
      "<re.Match object; span=(87, 88), match='r'>\n",
      "<re.Match object; span=(88, 89), match='s'>\n",
      "<re.Match object; span=(91, 92), match='N'>\n",
      "<re.Match object; span=(92, 93), match='e'>\n",
      "<re.Match object; span=(93, 94), match='e'>\n",
      "<re.Match object; span=(94, 95), match='d'>\n",
      "<re.Match object; span=(96, 97), match='t'>\n",
      "<re.Match object; span=(97, 98), match='o'>\n",
      "<re.Match object; span=(99, 100), match='b'>\n",
      "<re.Match object; span=(100, 101), match='e'>\n",
      "<re.Match object; span=(102, 103), match='e'>\n",
      "<re.Match object; span=(103, 104), match='s'>\n",
      "<re.Match object; span=(104, 105), match='c'>\n",
      "<re.Match object; span=(105, 106), match='a'>\n",
      "<re.Match object; span=(106, 107), match='p'>\n",
      "<re.Match object; span=(107, 108), match='e'>\n",
      "<re.Match object; span=(108, 109), match='d'>\n",
      "<re.Match object; span=(140, 141), match='a'>\n",
      "<re.Match object; span=(141, 142), match='b'>\n",
      "<re.Match object; span=(142, 143), match='c'>\n",
      "<re.Match object; span=(144, 145), match='c'>\n",
      "<re.Match object; span=(145, 146), match='a'>\n",
      "<re.Match object; span=(146, 147), match='t'>\n",
      "<re.Match object; span=(148, 149), match='m'>\n",
      "<re.Match object; span=(149, 150), match='a'>\n",
      "<re.Match object; span=(150, 151), match='t'>\n",
      "<re.Match object; span=(153, 154), match='h'>\n",
      "<re.Match object; span=(154, 155), match='a'>\n",
      "<re.Match object; span=(155, 156), match='t'>\n",
      "<re.Match object; span=(157, 158), match='b'>\n",
      "<re.Match object; span=(158, 159), match='a'>\n",
      "<re.Match object; span=(159, 160), match='t'>\n",
      "<re.Match object; span=(161, 162), match='f'>\n",
      "<re.Match object; span=(162, 163), match='a'>\n",
      "<re.Match object; span=(163, 164), match='t'>\n",
      "<re.Match object; span=(165, 166), match='s'>\n",
      "<re.Match object; span=(166, 167), match='a'>\n",
      "<re.Match object; span=(167, 168), match='t'>\n",
      "<re.Match object; span=(169, 170), match='0'>\n",
      "<re.Match object; span=(170, 171), match='1'>\n",
      "<re.Match object; span=(171, 172), match='0'>\n",
      "<re.Match object; span=(172, 173), match='9'>\n",
      "<re.Match object; span=(173, 174), match='2'>\n",
      "<re.Match object; span=(174, 175), match='3'>\n",
      "<re.Match object; span=(175, 176), match='2'>\n",
      "<re.Match object; span=(176, 177), match='9'>\n",
      "<re.Match object; span=(177, 178), match='3'>\n",
      "<re.Match object; span=(178, 179), match='4'>\n",
      "<re.Match object; span=(179, 180), match='0'>\n",
      "<re.Match object; span=(181, 182), match='0'>\n",
      "<re.Match object; span=(182, 183), match='1'>\n",
      "<re.Match object; span=(183, 184), match='1'>\n",
      "<re.Match object; span=(184, 185), match='2'>\n",
      "<re.Match object; span=(185, 186), match='3'>\n",
      "<re.Match object; span=(186, 187), match='2'>\n",
      "<re.Match object; span=(187, 188), match='3'>\n",
      "<re.Match object; span=(188, 189), match='4'>\n",
      "<re.Match object; span=(189, 190), match='3'>\n",
      "<re.Match object; span=(190, 191), match='5'>\n",
      "<re.Match object; span=(191, 192), match='5'>\n",
      "<re.Match object; span=(193, 194), match='0'>\n",
      "<re.Match object; span=(194, 195), match='1'>\n",
      "<re.Match object; span=(195, 196), match='0'>\n",
      "<re.Match object; span=(196, 197), match='2'>\n",
      "<re.Match object; span=(197, 198), match='3'>\n",
      "<re.Match object; span=(198, 199), match='4'>\n",
      "<re.Match object; span=(199, 200), match='5'>\n",
      "<re.Match object; span=(200, 201), match='5'>\n",
      "<re.Match object; span=(201, 202), match='4'>\n",
      "<re.Match object; span=(202, 203), match='1'>\n",
      "<re.Match object; span=(203, 204), match='1'>\n",
      "<re.Match object; span=(205, 206), match='0'>\n",
      "<re.Match object; span=(206, 207), match='1'>\n",
      "<re.Match object; span=(207, 208), match='2'>\n",
      "<re.Match object; span=(208, 209), match='3'>\n",
      "<re.Match object; span=(209, 210), match='4'>\n",
      "<re.Match object; span=(210, 211), match='5'>\n",
      "<re.Match object; span=(211, 212), match='6'>\n",
      "<re.Match object; span=(212, 213), match='7'>\n",
      "<re.Match object; span=(213, 214), match='8'>\n",
      "<re.Match object; span=(214, 215), match='7'>\n",
      "<re.Match object; span=(215, 216), match='5'>\n",
      "<re.Match object; span=(217, 218), match='0'>\n",
      "<re.Match object; span=(218, 219), match='1'>\n",
      "<re.Match object; span=(219, 220), match='5'>\n",
      "<re.Match object; span=(220, 221), match='3'>\n",
      "<re.Match object; span=(221, 222), match='4'>\n",
      "<re.Match object; span=(222, 223), match='5'>\n",
      "<re.Match object; span=(223, 224), match='6'>\n",
      "<re.Match object; span=(224, 225), match='7'>\n",
      "<re.Match object; span=(225, 226), match='4'>\n",
      "<re.Match object; span=(226, 227), match='5'>\n",
      "<re.Match object; span=(227, 228), match='6'>\n",
      "<re.Match object; span=(229, 230), match='0'>\n",
      "<re.Match object; span=(230, 231), match='1'>\n",
      "<re.Match object; span=(231, 232), match='1'>\n",
      "<re.Match object; span=(232, 233), match='3'>\n",
      "<re.Match object; span=(233, 234), match='4'>\n",
      "<re.Match object; span=(234, 235), match='5'>\n",
      "<re.Match object; span=(235, 236), match='6'>\n",
      "<re.Match object; span=(236, 237), match='7'>\n",
      "<re.Match object; span=(237, 238), match='8'>\n",
      "<re.Match object; span=(238, 239), match='5'>\n",
      "<re.Match object; span=(239, 240), match='6'>\n",
      "<re.Match object; span=(241, 242), match='c'>\n",
      "<re.Match object; span=(242, 243), match='o'>\n",
      "<re.Match object; span=(243, 244), match='r'>\n",
      "<re.Match object; span=(244, 245), match='e'>\n",
      "<re.Match object; span=(245, 246), match='y'>\n",
      "<re.Match object; span=(246, 247), match='m'>\n",
      "<re.Match object; span=(247, 248), match='s'>\n",
      "<re.Match object; span=(249, 250), match='c'>\n",
      "<re.Match object; span=(250, 251), match='o'>\n",
      "<re.Match object; span=(251, 252), match='m'>\n",
      "<re.Match object; span=(253, 254), match='3'>\n",
      "<re.Match object; span=(254, 255), match='2'>\n",
      "<re.Match object; span=(255, 256), match='1'>\n",
      "<re.Match object; span=(257, 258), match='5'>\n",
      "<re.Match object; span=(258, 259), match='5'>\n",
      "<re.Match object; span=(259, 260), match='5'>\n",
      "<re.Match object; span=(261, 262), match='4'>\n",
      "<re.Match object; span=(262, 263), match='3'>\n",
      "<re.Match object; span=(263, 264), match='2'>\n",
      "<re.Match object; span=(264, 265), match='1'>\n",
      "<re.Match object; span=(266, 267), match='1'>\n",
      "<re.Match object; span=(267, 268), match='2'>\n",
      "<re.Match object; span=(268, 269), match='3'>\n",
      "<re.Match object; span=(270, 271), match='5'>\n",
      "<re.Match object; span=(271, 272), match='5'>\n",
      "<re.Match object; span=(272, 273), match='5'>\n",
      "<re.Match object; span=(274, 275), match='1'>\n",
      "<re.Match object; span=(275, 276), match='2'>\n",
      "<re.Match object; span=(276, 277), match='3'>\n",
      "<re.Match object; span=(277, 278), match='4'>\n",
      "<re.Match object; span=(279, 280), match='1'>\n",
      "<re.Match object; span=(280, 281), match='2'>\n",
      "<re.Match object; span=(281, 282), match='3'>\n",
      "<re.Match object; span=(283, 284), match='5'>\n",
      "<re.Match object; span=(284, 285), match='5'>\n",
      "<re.Match object; span=(285, 286), match='5'>\n",
      "<re.Match object; span=(287, 288), match='1'>\n",
      "<re.Match object; span=(288, 289), match='2'>\n",
      "<re.Match object; span=(289, 290), match='3'>\n",
      "<re.Match object; span=(290, 291), match='4'>\n",
      "<re.Match object; span=(292, 293), match='8'>\n",
      "<re.Match object; span=(293, 294), match='0'>\n",
      "<re.Match object; span=(294, 295), match='0'>\n",
      "<re.Match object; span=(296, 297), match='5'>\n",
      "<re.Match object; span=(297, 298), match='5'>\n",
      "<re.Match object; span=(298, 299), match='5'>\n",
      "<re.Match object; span=(300, 301), match='1'>\n",
      "<re.Match object; span=(301, 302), match='2'>\n",
      "<re.Match object; span=(302, 303), match='3'>\n",
      "<re.Match object; span=(303, 304), match='4'>\n",
      "<re.Match object; span=(305, 306), match='9'>\n",
      "<re.Match object; span=(306, 307), match='0'>\n",
      "<re.Match object; span=(307, 308), match='0'>\n",
      "<re.Match object; span=(309, 310), match='5'>\n",
      "<re.Match object; span=(310, 311), match='5'>\n",
      "<re.Match object; span=(311, 312), match='5'>\n",
      "<re.Match object; span=(313, 314), match='1'>\n",
      "<re.Match object; span=(314, 315), match='2'>\n",
      "<re.Match object; span=(315, 316), match='3'>\n",
      "<re.Match object; span=(316, 317), match='4'>\n",
      "<re.Match object; span=(318, 319), match='1'>\n",
      "<re.Match object; span=(319, 320), match='0'>\n",
      "<re.Match object; span=(320, 321), match='0'>\n",
      "<re.Match object; span=(321, 322), match='a'>\n",
      "<re.Match object; span=(322, 323), match='1'>\n",
      "<re.Match object; span=(323, 324), match='2'>\n",
      "<re.Match object; span=(324, 325), match='1'>\n",
      "<re.Match object; span=(325, 326), match='C'>\n",
      "<re.Match object; span=(326, 327), match='4'>\n",
      "<re.Match object; span=(327, 328), match='5'>\n",
      "<re.Match object; span=(328, 329), match='4'>\n",
      "<re.Match object; span=(329, 330), match='3'>\n",
      "<re.Match object; span=(331, 332), match='M'>\n",
      "<re.Match object; span=(332, 333), match='r'>\n",
      "<re.Match object; span=(335, 336), match='S'>\n",
      "<re.Match object; span=(336, 337), match='c'>\n",
      "<re.Match object; span=(337, 338), match='h'>\n",
      "<re.Match object; span=(338, 339), match='a'>\n",
      "<re.Match object; span=(339, 340), match='f'>\n",
      "<re.Match object; span=(340, 341), match='e'>\n",
      "<re.Match object; span=(341, 342), match='r'>\n",
      "<re.Match object; span=(343, 344), match='M'>\n",
      "<re.Match object; span=(344, 345), match='r'>\n",
      "<re.Match object; span=(346, 347), match='S'>\n",
      "<re.Match object; span=(347, 348), match='m'>\n",
      "<re.Match object; span=(348, 349), match='i'>\n",
      "<re.Match object; span=(349, 350), match='t'>\n",
      "<re.Match object; span=(350, 351), match='h'>\n",
      "<re.Match object; span=(352, 353), match='M'>\n",
      "<re.Match object; span=(353, 354), match='s'>\n",
      "<re.Match object; span=(355, 356), match='D'>\n",
      "<re.Match object; span=(356, 357), match='a'>\n",
      "<re.Match object; span=(357, 358), match='v'>\n",
      "<re.Match object; span=(358, 359), match='i'>\n",
      "<re.Match object; span=(359, 360), match='s'>\n",
      "<re.Match object; span=(361, 362), match='M'>\n",
      "<re.Match object; span=(362, 363), match='r'>\n",
      "<re.Match object; span=(363, 364), match='s'>\n",
      "<re.Match object; span=(366, 367), match='R'>\n",
      "<re.Match object; span=(367, 368), match='o'>\n",
      "<re.Match object; span=(368, 369), match='b'>\n",
      "<re.Match object; span=(369, 370), match='i'>\n",
      "<re.Match object; span=(370, 371), match='n'>\n",
      "<re.Match object; span=(371, 372), match='s'>\n",
      "<re.Match object; span=(372, 373), match='o'>\n",
      "<re.Match object; span=(373, 374), match='n'>\n",
      "<re.Match object; span=(375, 376), match='M'>\n",
      "<re.Match object; span=(376, 377), match='r'>\n",
      "<re.Match object; span=(379, 380), match='T'>\n"
     ]
    }
   ],
   "source": [
    "pattern = re.compile(r\"\\w\") #matches only lowercase, uppercase, digits, underscore  \n",
    "matches = pattern.finditer(text_to_search)\n",
    "for match in matches:\n",
    "    print(match)"
   ]
  },
  {
   "cell_type": "code",
   "execution_count": 23,
   "metadata": {
    "ExecuteTime": {
     "end_time": "2022-08-30T17:58:42.019550Z",
     "start_time": "2022-08-30T17:58:42.016551Z"
    }
   },
   "outputs": [
    {
     "data": {
      "text/plain": [
       "381"
      ]
     },
     "execution_count": 23,
     "metadata": {},
     "output_type": "execute_result"
    }
   ],
   "source": [
    "len(text_to_search)"
   ]
  },
  {
   "cell_type": "code",
   "execution_count": 4,
   "metadata": {
    "ExecuteTime": {
     "end_time": "2022-04-06T20:39:37.292321Z",
     "start_time": "2022-04-06T20:39:37.281323Z"
    }
   },
   "outputs": [
    {
     "name": "stdout",
     "output_type": "stream",
     "text": [
      "Start a sentence and then bring it to an end\n"
     ]
    }
   ],
   "source": [
    "print(sentence)"
   ]
  },
  {
   "cell_type": "code",
   "execution_count": 24,
   "metadata": {
    "ExecuteTime": {
     "end_time": "2023-06-15T17:02:36.448786Z",
     "start_time": "2023-06-15T17:02:36.439035Z"
    }
   },
   "outputs": [
    {
     "data": {
      "text/plain": [
       "'Start a sentence and then bring it to an end'"
      ]
     },
     "execution_count": 24,
     "metadata": {},
     "output_type": "execute_result"
    }
   ],
   "source": [
    "sentence"
   ]
  },
  {
   "cell_type": "code",
   "execution_count": 27,
   "metadata": {
    "ExecuteTime": {
     "end_time": "2023-06-15T17:02:53.730760Z",
     "start_time": "2023-06-15T17:02:53.719449Z"
    },
    "scrolled": true
   },
   "outputs": [
    {
     "name": "stdout",
     "output_type": "stream",
     "text": [
      "<re.Match object; span=(38, 44), match='an end'>\n"
     ]
    }
   ],
   "source": [
    "pattern = re.compile(r\"an end$\")   # if the word (an end) is at the end of the sentence ( string ) \n",
    "matches = pattern.finditer(sentence)\n",
    "\n",
    "for match in matches:\n",
    "    print(match)"
   ]
  },
  {
   "cell_type": "code",
   "execution_count": 28,
   "metadata": {
    "ExecuteTime": {
     "end_time": "2021-12-11T17:02:21.562290Z",
     "start_time": "2021-12-11T17:02:21.545293Z"
    }
   },
   "outputs": [
    {
     "name": "stdout",
     "output_type": "stream",
     "text": [
      "Start a sentence and then bring it to an end\n"
     ]
    }
   ],
   "source": [
    "print(sentence)"
   ]
  },
  {
   "cell_type": "code",
   "execution_count": 28,
   "metadata": {
    "ExecuteTime": {
     "end_time": "2023-06-15T17:03:23.651450Z",
     "start_time": "2023-06-15T17:03:23.643921Z"
    }
   },
   "outputs": [
    {
     "name": "stdout",
     "output_type": "stream",
     "text": [
      "<re.Match object; span=(54, 57), match='123'>\n",
      "<re.Match object; span=(57, 60), match='456'>\n",
      "<re.Match object; span=(60, 63), match='789'>\n",
      "<re.Match object; span=(63, 66), match='010'>\n",
      "<re.Match object; span=(169, 172), match='010'>\n",
      "<re.Match object; span=(172, 175), match='923'>\n",
      "<re.Match object; span=(175, 178), match='293'>\n",
      "<re.Match object; span=(181, 184), match='011'>\n",
      "<re.Match object; span=(184, 187), match='232'>\n",
      "<re.Match object; span=(187, 190), match='343'>\n",
      "<re.Match object; span=(193, 196), match='010'>\n",
      "<re.Match object; span=(196, 199), match='234'>\n",
      "<re.Match object; span=(199, 202), match='554'>\n",
      "<re.Match object; span=(205, 208), match='012'>\n",
      "<re.Match object; span=(208, 211), match='345'>\n",
      "<re.Match object; span=(211, 214), match='678'>\n",
      "<re.Match object; span=(217, 220), match='015'>\n",
      "<re.Match object; span=(220, 223), match='345'>\n",
      "<re.Match object; span=(223, 226), match='674'>\n",
      "<re.Match object; span=(229, 232), match='011'>\n",
      "<re.Match object; span=(232, 235), match='345'>\n",
      "<re.Match object; span=(235, 238), match='678'>\n",
      "<re.Match object; span=(253, 256), match='321'>\n",
      "<re.Match object; span=(257, 260), match='555'>\n",
      "<re.Match object; span=(261, 264), match='432'>\n",
      "<re.Match object; span=(266, 269), match='123'>\n",
      "<re.Match object; span=(270, 273), match='555'>\n",
      "<re.Match object; span=(274, 277), match='123'>\n",
      "<re.Match object; span=(279, 282), match='123'>\n",
      "<re.Match object; span=(283, 286), match='555'>\n",
      "<re.Match object; span=(287, 290), match='123'>\n",
      "<re.Match object; span=(292, 295), match='800'>\n",
      "<re.Match object; span=(296, 299), match='555'>\n",
      "<re.Match object; span=(300, 303), match='123'>\n",
      "<re.Match object; span=(305, 308), match='900'>\n",
      "<re.Match object; span=(309, 312), match='555'>\n",
      "<re.Match object; span=(313, 316), match='123'>\n",
      "<re.Match object; span=(318, 321), match='100'>\n",
      "<re.Match object; span=(322, 325), match='121'>\n",
      "<re.Match object; span=(326, 329), match='454'>\n"
     ]
    }
   ],
   "source": [
    "#match line numbers \n",
    "pattern = re.compile(\"\\d\\d\\d\")\n",
    "matches = pattern.finditer(text_to_search)\n",
    "for match in matches:\n",
    "    print(match)"
   ]
  },
  {
   "cell_type": "code",
   "execution_count": 36,
   "metadata": {
    "ExecuteTime": {
     "end_time": "2023-05-22T15:37:26.334575Z",
     "start_time": "2023-05-22T15:37:26.314096Z"
    }
   },
   "outputs": [
    {
     "name": "stdout",
     "output_type": "stream",
     "text": [
      "<re.Match object; span=(54, 66), match='123456789010'>\n",
      "<re.Match object; span=(253, 265), match='321-555-4321'>\n",
      "<re.Match object; span=(266, 278), match='123.555.1234'>\n",
      "<re.Match object; span=(279, 291), match='123*555*1234'>\n",
      "<re.Match object; span=(292, 304), match='800-555-1234'>\n",
      "<re.Match object; span=(305, 317), match='900-555-1234'>\n",
      "<re.Match object; span=(318, 330), match='100a121C4543'>\n"
     ]
    }
   ],
   "source": [
    "pattern = re.compile(r\"\\d\\d\\d.\\d\\d\\d.\\d\\d\\d\\d\")\n",
    "matches = pattern.finditer(text_to_search)\n",
    "for match in matches:\n",
    "    print(match)    "
   ]
  },
  {
   "cell_type": "code",
   "execution_count": 29,
   "metadata": {
    "ExecuteTime": {
     "end_time": "2023-06-15T17:05:55.321009Z",
     "start_time": "2023-06-15T17:05:55.309952Z"
    }
   },
   "outputs": [
    {
     "name": "stdout",
     "output_type": "stream",
     "text": [
      "<re.Match object; span=(253, 265), match='321-555-4321'>\n",
      "<re.Match object; span=(266, 278), match='123.555.1234'>\n",
      "<re.Match object; span=(292, 304), match='800-555-1234'>\n",
      "<re.Match object; span=(305, 317), match='900-555-1234'>\n"
     ]
    }
   ],
   "source": [
    "#character set \n",
    "pattern = re.compile(\"\\d\\d\\d[-.]\\d\\d\\d[-.]\\d\\d\\d\\d\")\n",
    "matches = pattern.finditer(text_to_search)\n",
    "for match in matches:\n",
    "    print(match)"
   ]
  },
  {
   "cell_type": "code",
   "execution_count": 31,
   "metadata": {
    "ExecuteTime": {
     "end_time": "2023-06-15T17:07:13.272242Z",
     "start_time": "2023-06-15T17:07:13.262921Z"
    }
   },
   "outputs": [
    {
     "name": "stdout",
     "output_type": "stream",
     "text": [
      "<re.Match object; span=(292, 304), match='800-555-1234'>\n",
      "<re.Match object; span=(305, 317), match='900-555-1234'>\n"
     ]
    }
   ],
   "source": [
    "#character set \n",
    "pattern = re.compile(r\"[89]00[-.]\\d\\d\\d[-.]\\d\\d\\d\\d\")\n",
    "matches = pattern.finditer(text_to_search)\n",
    "for match in matches:\n",
    "    print(match)"
   ]
  },
  {
   "cell_type": "code",
   "execution_count": 32,
   "metadata": {
    "ExecuteTime": {
     "end_time": "2023-06-15T17:07:43.805261Z",
     "start_time": "2023-06-15T17:07:43.795686Z"
    }
   },
   "outputs": [
    {
     "name": "stdout",
     "output_type": "stream",
     "text": [
      "<re.Match object; span=(253, 265), match='321-555-4321'>\n",
      "<re.Match object; span=(266, 278), match='123.555.1234'>\n",
      "<re.Match object; span=(279, 291), match='123*555*1234'>\n",
      "<re.Match object; span=(292, 304), match='800-555-1234'>\n",
      "<re.Match object; span=(305, 317), match='900-555-1234'>\n"
     ]
    }
   ],
   "source": [
    "#character set \n",
    "pattern = re.compile(r\"\\d\\d\\d[-.*]555[-.*]\\d\\d\\d\\d\")\n",
    "matches = pattern.finditer(text_to_search)\n",
    "for match in matches:\n",
    "    print(match)"
   ]
  },
  {
   "cell_type": "code",
   "execution_count": 33,
   "metadata": {
    "ExecuteTime": {
     "end_time": "2023-06-15T17:08:21.539364Z",
     "start_time": "2023-06-15T17:08:21.531107Z"
    }
   },
   "outputs": [
    {
     "name": "stdout",
     "output_type": "stream",
     "text": [
      "<re.Match object; span=(169, 180), match='01092329340'>\n",
      "<re.Match object; span=(193, 204), match='01023455411'>\n"
     ]
    }
   ],
   "source": [
    "#character set \n",
    "pattern = re.compile(r\"010\\d\\d\\d\\d\\d\\d\\d\\d\")\n",
    "matches = pattern.finditer(text_to_search)\n",
    "for match in matches:\n",
    "    print(match)"
   ]
  },
  {
   "cell_type": "code",
   "execution_count": 34,
   "metadata": {
    "ExecuteTime": {
     "end_time": "2023-06-15T17:08:24.298643Z",
     "start_time": "2023-06-15T17:08:24.289966Z"
    }
   },
   "outputs": [
    {
     "name": "stdout",
     "output_type": "stream",
     "text": [
      "<re.Match object; span=(181, 192), match='01123234355'>\n",
      "<re.Match object; span=(229, 240), match='01134567856'>\n"
     ]
    }
   ],
   "source": [
    "#character set \n",
    "pattern = re.compile(r\"011\\d\\d\\d\\d\\d\\d\\d\\d\")\n",
    "matches = pattern.finditer(text_to_search)\n",
    "for match in matches:\n",
    "    print(match)"
   ]
  },
  {
   "cell_type": "code",
   "execution_count": 35,
   "metadata": {
    "ExecuteTime": {
     "end_time": "2023-06-15T17:08:26.290820Z",
     "start_time": "2023-06-15T17:08:26.281964Z"
    },
    "scrolled": true
   },
   "outputs": [
    {
     "name": "stdout",
     "output_type": "stream",
     "text": [
      "<re.Match object; span=(205, 216), match='01234567875'>\n"
     ]
    }
   ],
   "source": [
    "#character set \n",
    "pattern = re.compile(r\"012\\d\\d\\d\\d\\d\\d\\d\\d\")\n",
    "matches = pattern.finditer(text_to_search)\n",
    "for match in matches:\n",
    "    print(match)"
   ]
  },
  {
   "cell_type": "code",
   "execution_count": 36,
   "metadata": {
    "ExecuteTime": {
     "end_time": "2023-06-15T17:08:29.179569Z",
     "start_time": "2023-06-15T17:08:29.170904Z"
    }
   },
   "outputs": [
    {
     "name": "stdout",
     "output_type": "stream",
     "text": [
      "<re.Match object; span=(217, 228), match='01534567456'>\n"
     ]
    }
   ],
   "source": [
    "#character set \n",
    "pattern = re.compile(r\"015\\d\\d\\d\\d\\d\\d\\d\\d\")\n",
    "matches = pattern.finditer(text_to_search)\n",
    "for match in matches:\n",
    "    print(match)"
   ]
  },
  {
   "cell_type": "code",
   "execution_count": 24,
   "metadata": {
    "ExecuteTime": {
     "end_time": "2022-05-09T19:58:48.803131Z",
     "start_time": "2022-05-09T19:58:48.793134Z"
    },
    "scrolled": true
   },
   "outputs": [
    {
     "name": "stdout",
     "output_type": "stream",
     "text": [
      "<re.Match object; span=(6, 17), match='01023456745'>\n",
      "Ahmed\n"
     ]
    }
   ],
   "source": [
    "contact = \"Ahmed:01023456745 , Ali:01134456784\"\n",
    "#character set \n",
    "pattern = re.compile(r\"010\\d\\d\\d\\d\\d\\d\\d\\d\")\n",
    "matches = pattern.finditer(contact)\n",
    "newstring = \" \"\n",
    "for match in matches:\n",
    "    \n",
    "    newstring = contact[int(match.span()[0])-6 : int(match.span()[0])-1]\n",
    "    print(match)\n",
    "    \n",
    "print(newstring)"
   ]
  },
  {
   "cell_type": "code",
   "execution_count": 37,
   "metadata": {
    "ExecuteTime": {
     "end_time": "2023-06-15T17:09:40.719446Z",
     "start_time": "2023-06-15T17:09:40.706438Z"
    }
   },
   "outputs": [
    {
     "data": {
      "text/plain": [
       "['01092329340', '01023455411']"
      ]
     },
     "execution_count": 37,
     "metadata": {},
     "output_type": "execute_result"
    }
   ],
   "source": [
    "pattern = re.compile(r\"010\\d\\d\\d\\d\\d\\d\\d\\d\")\n",
    "matches = pattern.finditer(text_to_search)\n",
    "\n",
    "vodafoneNumbers = [ ]\n",
    "for match in matches: \n",
    "    vodafoneNumbers.append(text_to_search[ match.span()[0]   : match.span()[1] ])\n",
    "vodafoneNumbers"
   ]
  },
  {
   "cell_type": "code",
   "execution_count": 38,
   "metadata": {
    "ExecuteTime": {
     "end_time": "2023-06-15T17:09:42.691520Z",
     "start_time": "2023-06-15T17:09:42.679563Z"
    }
   },
   "outputs": [
    {
     "data": {
      "text/plain": [
       "['01123234355', '01134567856']"
      ]
     },
     "execution_count": 38,
     "metadata": {},
     "output_type": "execute_result"
    }
   ],
   "source": [
    "pattern = re.compile(r\"011\\d\\d\\d\\d\\d\\d\\d\\d\")\n",
    "matches = pattern.finditer(text_to_search)\n",
    "\n",
    "EtisisalatNumbers = [ ]\n",
    "for match in matches: \n",
    "    EtisisalatNumbers.append(text_to_search[match.span()[0]   : match.span()[1]])\n",
    "EtisisalatNumbers"
   ]
  },
  {
   "cell_type": "code",
   "execution_count": 39,
   "metadata": {
    "ExecuteTime": {
     "end_time": "2023-06-15T17:13:39.930158Z",
     "start_time": "2023-06-15T17:13:39.922720Z"
    }
   },
   "outputs": [
    {
     "name": "stdout",
     "output_type": "stream",
     "text": [
      "<re.Match object; span=(54, 55), match='1'>\n",
      "<re.Match object; span=(55, 56), match='2'>\n",
      "<re.Match object; span=(56, 57), match='3'>\n",
      "<re.Match object; span=(57, 58), match='4'>\n",
      "<re.Match object; span=(58, 59), match='5'>\n",
      "<re.Match object; span=(64, 65), match='1'>\n",
      "<re.Match object; span=(170, 171), match='1'>\n",
      "<re.Match object; span=(173, 174), match='2'>\n",
      "<re.Match object; span=(174, 175), match='3'>\n",
      "<re.Match object; span=(175, 176), match='2'>\n",
      "<re.Match object; span=(177, 178), match='3'>\n",
      "<re.Match object; span=(178, 179), match='4'>\n",
      "<re.Match object; span=(182, 183), match='1'>\n",
      "<re.Match object; span=(183, 184), match='1'>\n",
      "<re.Match object; span=(184, 185), match='2'>\n",
      "<re.Match object; span=(185, 186), match='3'>\n",
      "<re.Match object; span=(186, 187), match='2'>\n",
      "<re.Match object; span=(187, 188), match='3'>\n",
      "<re.Match object; span=(188, 189), match='4'>\n",
      "<re.Match object; span=(189, 190), match='3'>\n",
      "<re.Match object; span=(190, 191), match='5'>\n",
      "<re.Match object; span=(191, 192), match='5'>\n",
      "<re.Match object; span=(194, 195), match='1'>\n",
      "<re.Match object; span=(196, 197), match='2'>\n",
      "<re.Match object; span=(197, 198), match='3'>\n",
      "<re.Match object; span=(198, 199), match='4'>\n",
      "<re.Match object; span=(199, 200), match='5'>\n",
      "<re.Match object; span=(200, 201), match='5'>\n",
      "<re.Match object; span=(201, 202), match='4'>\n",
      "<re.Match object; span=(202, 203), match='1'>\n",
      "<re.Match object; span=(203, 204), match='1'>\n",
      "<re.Match object; span=(206, 207), match='1'>\n",
      "<re.Match object; span=(207, 208), match='2'>\n",
      "<re.Match object; span=(208, 209), match='3'>\n",
      "<re.Match object; span=(209, 210), match='4'>\n",
      "<re.Match object; span=(210, 211), match='5'>\n",
      "<re.Match object; span=(215, 216), match='5'>\n",
      "<re.Match object; span=(218, 219), match='1'>\n",
      "<re.Match object; span=(219, 220), match='5'>\n",
      "<re.Match object; span=(220, 221), match='3'>\n",
      "<re.Match object; span=(221, 222), match='4'>\n",
      "<re.Match object; span=(222, 223), match='5'>\n",
      "<re.Match object; span=(225, 226), match='4'>\n",
      "<re.Match object; span=(226, 227), match='5'>\n",
      "<re.Match object; span=(230, 231), match='1'>\n",
      "<re.Match object; span=(231, 232), match='1'>\n",
      "<re.Match object; span=(232, 233), match='3'>\n",
      "<re.Match object; span=(233, 234), match='4'>\n",
      "<re.Match object; span=(234, 235), match='5'>\n",
      "<re.Match object; span=(238, 239), match='5'>\n",
      "<re.Match object; span=(253, 254), match='3'>\n",
      "<re.Match object; span=(254, 255), match='2'>\n",
      "<re.Match object; span=(255, 256), match='1'>\n",
      "<re.Match object; span=(257, 258), match='5'>\n",
      "<re.Match object; span=(258, 259), match='5'>\n",
      "<re.Match object; span=(259, 260), match='5'>\n",
      "<re.Match object; span=(261, 262), match='4'>\n",
      "<re.Match object; span=(262, 263), match='3'>\n",
      "<re.Match object; span=(263, 264), match='2'>\n",
      "<re.Match object; span=(264, 265), match='1'>\n",
      "<re.Match object; span=(266, 267), match='1'>\n",
      "<re.Match object; span=(267, 268), match='2'>\n",
      "<re.Match object; span=(268, 269), match='3'>\n",
      "<re.Match object; span=(270, 271), match='5'>\n",
      "<re.Match object; span=(271, 272), match='5'>\n",
      "<re.Match object; span=(272, 273), match='5'>\n",
      "<re.Match object; span=(274, 275), match='1'>\n",
      "<re.Match object; span=(275, 276), match='2'>\n",
      "<re.Match object; span=(276, 277), match='3'>\n",
      "<re.Match object; span=(277, 278), match='4'>\n",
      "<re.Match object; span=(279, 280), match='1'>\n",
      "<re.Match object; span=(280, 281), match='2'>\n",
      "<re.Match object; span=(281, 282), match='3'>\n",
      "<re.Match object; span=(283, 284), match='5'>\n",
      "<re.Match object; span=(284, 285), match='5'>\n",
      "<re.Match object; span=(285, 286), match='5'>\n",
      "<re.Match object; span=(287, 288), match='1'>\n",
      "<re.Match object; span=(288, 289), match='2'>\n",
      "<re.Match object; span=(289, 290), match='3'>\n",
      "<re.Match object; span=(290, 291), match='4'>\n",
      "<re.Match object; span=(296, 297), match='5'>\n",
      "<re.Match object; span=(297, 298), match='5'>\n",
      "<re.Match object; span=(298, 299), match='5'>\n",
      "<re.Match object; span=(300, 301), match='1'>\n",
      "<re.Match object; span=(301, 302), match='2'>\n",
      "<re.Match object; span=(302, 303), match='3'>\n",
      "<re.Match object; span=(303, 304), match='4'>\n",
      "<re.Match object; span=(309, 310), match='5'>\n",
      "<re.Match object; span=(310, 311), match='5'>\n",
      "<re.Match object; span=(311, 312), match='5'>\n",
      "<re.Match object; span=(313, 314), match='1'>\n",
      "<re.Match object; span=(314, 315), match='2'>\n",
      "<re.Match object; span=(315, 316), match='3'>\n",
      "<re.Match object; span=(316, 317), match='4'>\n",
      "<re.Match object; span=(318, 319), match='1'>\n",
      "<re.Match object; span=(322, 323), match='1'>\n",
      "<re.Match object; span=(323, 324), match='2'>\n",
      "<re.Match object; span=(324, 325), match='1'>\n",
      "<re.Match object; span=(326, 327), match='4'>\n",
      "<re.Match object; span=(327, 328), match='5'>\n",
      "<re.Match object; span=(328, 329), match='4'>\n",
      "<re.Match object; span=(329, 330), match='3'>\n"
     ]
    }
   ],
   "source": [
    "#character set \n",
    "pattern = re.compile(r\"[1-5]\")\n",
    "matches = pattern.finditer(text_to_search)\n",
    "for match in matches:\n",
    "    print(match)"
   ]
  },
  {
   "cell_type": "code",
   "execution_count": 8,
   "metadata": {
    "ExecuteTime": {
     "end_time": "2023-07-18T20:34:49.672736Z",
     "start_time": "2023-07-18T20:34:49.655552Z"
    }
   },
   "outputs": [
    {
     "name": "stdout",
     "output_type": "stream",
     "text": [
      "<re.Match object; span=(54, 55), match='1'>\n",
      "<re.Match object; span=(58, 59), match='5'>\n",
      "<re.Match object; span=(64, 65), match='1'>\n",
      "<re.Match object; span=(170, 171), match='1'>\n",
      "<re.Match object; span=(182, 183), match='1'>\n",
      "<re.Match object; span=(183, 184), match='1'>\n",
      "<re.Match object; span=(190, 191), match='5'>\n",
      "<re.Match object; span=(191, 192), match='5'>\n",
      "<re.Match object; span=(194, 195), match='1'>\n",
      "<re.Match object; span=(199, 200), match='5'>\n",
      "<re.Match object; span=(200, 201), match='5'>\n",
      "<re.Match object; span=(202, 203), match='1'>\n",
      "<re.Match object; span=(203, 204), match='1'>\n",
      "<re.Match object; span=(206, 207), match='1'>\n",
      "<re.Match object; span=(210, 211), match='5'>\n",
      "<re.Match object; span=(215, 216), match='5'>\n",
      "<re.Match object; span=(218, 219), match='1'>\n",
      "<re.Match object; span=(219, 220), match='5'>\n",
      "<re.Match object; span=(222, 223), match='5'>\n",
      "<re.Match object; span=(226, 227), match='5'>\n",
      "<re.Match object; span=(230, 231), match='1'>\n",
      "<re.Match object; span=(231, 232), match='1'>\n",
      "<re.Match object; span=(234, 235), match='5'>\n",
      "<re.Match object; span=(238, 239), match='5'>\n",
      "<re.Match object; span=(248, 249), match='-'>\n",
      "<re.Match object; span=(255, 256), match='1'>\n",
      "<re.Match object; span=(256, 257), match='-'>\n",
      "<re.Match object; span=(257, 258), match='5'>\n",
      "<re.Match object; span=(258, 259), match='5'>\n",
      "<re.Match object; span=(259, 260), match='5'>\n",
      "<re.Match object; span=(260, 261), match='-'>\n",
      "<re.Match object; span=(264, 265), match='1'>\n",
      "<re.Match object; span=(266, 267), match='1'>\n",
      "<re.Match object; span=(270, 271), match='5'>\n",
      "<re.Match object; span=(271, 272), match='5'>\n",
      "<re.Match object; span=(272, 273), match='5'>\n",
      "<re.Match object; span=(274, 275), match='1'>\n",
      "<re.Match object; span=(279, 280), match='1'>\n",
      "<re.Match object; span=(283, 284), match='5'>\n",
      "<re.Match object; span=(284, 285), match='5'>\n",
      "<re.Match object; span=(285, 286), match='5'>\n",
      "<re.Match object; span=(287, 288), match='1'>\n",
      "<re.Match object; span=(295, 296), match='-'>\n",
      "<re.Match object; span=(296, 297), match='5'>\n",
      "<re.Match object; span=(297, 298), match='5'>\n",
      "<re.Match object; span=(298, 299), match='5'>\n",
      "<re.Match object; span=(299, 300), match='-'>\n",
      "<re.Match object; span=(300, 301), match='1'>\n",
      "<re.Match object; span=(308, 309), match='-'>\n",
      "<re.Match object; span=(309, 310), match='5'>\n",
      "<re.Match object; span=(310, 311), match='5'>\n",
      "<re.Match object; span=(311, 312), match='5'>\n",
      "<re.Match object; span=(312, 313), match='-'>\n",
      "<re.Match object; span=(313, 314), match='1'>\n",
      "<re.Match object; span=(318, 319), match='1'>\n",
      "<re.Match object; span=(322, 323), match='1'>\n",
      "<re.Match object; span=(324, 325), match='1'>\n",
      "<re.Match object; span=(327, 328), match='5'>\n"
     ]
    }
   ],
   "source": [
    "#character set \n",
    "pattern = re.compile(r\"[15-]\")\n",
    "matches = pattern.finditer(text_to_search)\n",
    "for match in matches:\n",
    "    print(match)\n"
   ]
  },
  {
   "cell_type": "code",
   "execution_count": 41,
   "metadata": {
    "ExecuteTime": {
     "end_time": "2023-06-15T17:14:36.916944Z",
     "start_time": "2023-06-15T17:14:36.902880Z"
    },
    "scrolled": false
   },
   "outputs": [
    {
     "name": "stdout",
     "output_type": "stream",
     "text": [
      "<re.Match object; span=(54, 55), match='1'>\n",
      "<re.Match object; span=(55, 56), match='2'>\n",
      "<re.Match object; span=(56, 57), match='3'>\n",
      "<re.Match object; span=(57, 58), match='4'>\n",
      "<re.Match object; span=(58, 59), match='5'>\n",
      "<re.Match object; span=(64, 65), match='1'>\n",
      "<re.Match object; span=(170, 171), match='1'>\n",
      "<re.Match object; span=(173, 174), match='2'>\n",
      "<re.Match object; span=(174, 175), match='3'>\n",
      "<re.Match object; span=(175, 176), match='2'>\n",
      "<re.Match object; span=(177, 178), match='3'>\n",
      "<re.Match object; span=(178, 179), match='4'>\n",
      "<re.Match object; span=(182, 183), match='1'>\n",
      "<re.Match object; span=(183, 184), match='1'>\n",
      "<re.Match object; span=(184, 185), match='2'>\n",
      "<re.Match object; span=(185, 186), match='3'>\n",
      "<re.Match object; span=(186, 187), match='2'>\n",
      "<re.Match object; span=(187, 188), match='3'>\n",
      "<re.Match object; span=(188, 189), match='4'>\n",
      "<re.Match object; span=(189, 190), match='3'>\n",
      "<re.Match object; span=(190, 191), match='5'>\n",
      "<re.Match object; span=(191, 192), match='5'>\n",
      "<re.Match object; span=(194, 195), match='1'>\n",
      "<re.Match object; span=(196, 197), match='2'>\n",
      "<re.Match object; span=(197, 198), match='3'>\n",
      "<re.Match object; span=(198, 199), match='4'>\n",
      "<re.Match object; span=(199, 200), match='5'>\n",
      "<re.Match object; span=(200, 201), match='5'>\n",
      "<re.Match object; span=(201, 202), match='4'>\n",
      "<re.Match object; span=(202, 203), match='1'>\n",
      "<re.Match object; span=(203, 204), match='1'>\n",
      "<re.Match object; span=(206, 207), match='1'>\n",
      "<re.Match object; span=(207, 208), match='2'>\n",
      "<re.Match object; span=(208, 209), match='3'>\n",
      "<re.Match object; span=(209, 210), match='4'>\n",
      "<re.Match object; span=(210, 211), match='5'>\n",
      "<re.Match object; span=(215, 216), match='5'>\n",
      "<re.Match object; span=(218, 219), match='1'>\n",
      "<re.Match object; span=(219, 220), match='5'>\n",
      "<re.Match object; span=(220, 221), match='3'>\n",
      "<re.Match object; span=(221, 222), match='4'>\n",
      "<re.Match object; span=(222, 223), match='5'>\n",
      "<re.Match object; span=(225, 226), match='4'>\n",
      "<re.Match object; span=(226, 227), match='5'>\n",
      "<re.Match object; span=(230, 231), match='1'>\n",
      "<re.Match object; span=(231, 232), match='1'>\n",
      "<re.Match object; span=(232, 233), match='3'>\n",
      "<re.Match object; span=(233, 234), match='4'>\n",
      "<re.Match object; span=(234, 235), match='5'>\n",
      "<re.Match object; span=(238, 239), match='5'>\n",
      "<re.Match object; span=(248, 249), match='-'>\n",
      "<re.Match object; span=(253, 254), match='3'>\n",
      "<re.Match object; span=(254, 255), match='2'>\n",
      "<re.Match object; span=(255, 256), match='1'>\n",
      "<re.Match object; span=(256, 257), match='-'>\n",
      "<re.Match object; span=(257, 258), match='5'>\n",
      "<re.Match object; span=(258, 259), match='5'>\n",
      "<re.Match object; span=(259, 260), match='5'>\n",
      "<re.Match object; span=(260, 261), match='-'>\n",
      "<re.Match object; span=(261, 262), match='4'>\n",
      "<re.Match object; span=(262, 263), match='3'>\n",
      "<re.Match object; span=(263, 264), match='2'>\n",
      "<re.Match object; span=(264, 265), match='1'>\n",
      "<re.Match object; span=(266, 267), match='1'>\n",
      "<re.Match object; span=(267, 268), match='2'>\n",
      "<re.Match object; span=(268, 269), match='3'>\n",
      "<re.Match object; span=(270, 271), match='5'>\n",
      "<re.Match object; span=(271, 272), match='5'>\n",
      "<re.Match object; span=(272, 273), match='5'>\n",
      "<re.Match object; span=(274, 275), match='1'>\n",
      "<re.Match object; span=(275, 276), match='2'>\n",
      "<re.Match object; span=(276, 277), match='3'>\n",
      "<re.Match object; span=(277, 278), match='4'>\n",
      "<re.Match object; span=(279, 280), match='1'>\n",
      "<re.Match object; span=(280, 281), match='2'>\n",
      "<re.Match object; span=(281, 282), match='3'>\n",
      "<re.Match object; span=(283, 284), match='5'>\n",
      "<re.Match object; span=(284, 285), match='5'>\n",
      "<re.Match object; span=(285, 286), match='5'>\n",
      "<re.Match object; span=(287, 288), match='1'>\n",
      "<re.Match object; span=(288, 289), match='2'>\n",
      "<re.Match object; span=(289, 290), match='3'>\n",
      "<re.Match object; span=(290, 291), match='4'>\n",
      "<re.Match object; span=(295, 296), match='-'>\n",
      "<re.Match object; span=(296, 297), match='5'>\n",
      "<re.Match object; span=(297, 298), match='5'>\n",
      "<re.Match object; span=(298, 299), match='5'>\n",
      "<re.Match object; span=(299, 300), match='-'>\n",
      "<re.Match object; span=(300, 301), match='1'>\n",
      "<re.Match object; span=(301, 302), match='2'>\n",
      "<re.Match object; span=(302, 303), match='3'>\n",
      "<re.Match object; span=(303, 304), match='4'>\n",
      "<re.Match object; span=(308, 309), match='-'>\n",
      "<re.Match object; span=(309, 310), match='5'>\n",
      "<re.Match object; span=(310, 311), match='5'>\n",
      "<re.Match object; span=(311, 312), match='5'>\n",
      "<re.Match object; span=(312, 313), match='-'>\n",
      "<re.Match object; span=(313, 314), match='1'>\n",
      "<re.Match object; span=(314, 315), match='2'>\n",
      "<re.Match object; span=(315, 316), match='3'>\n",
      "<re.Match object; span=(316, 317), match='4'>\n",
      "<re.Match object; span=(318, 319), match='1'>\n",
      "<re.Match object; span=(322, 323), match='1'>\n",
      "<re.Match object; span=(323, 324), match='2'>\n",
      "<re.Match object; span=(324, 325), match='1'>\n",
      "<re.Match object; span=(326, 327), match='4'>\n",
      "<re.Match object; span=(327, 328), match='5'>\n",
      "<re.Match object; span=(328, 329), match='4'>\n",
      "<re.Match object; span=(329, 330), match='3'>\n"
     ]
    }
   ],
   "source": [
    "#character set \n",
    "pattern = re.compile(r\"[1-5-]\")\n",
    "matches = pattern.finditer(text_to_search)\n",
    "for match in matches:\n",
    "    print(match)"
   ]
  },
  {
   "cell_type": "code",
   "execution_count": 42,
   "metadata": {
    "ExecuteTime": {
     "end_time": "2023-06-15T17:16:13.890016Z",
     "start_time": "2023-06-15T17:16:13.865101Z"
    }
   },
   "outputs": [
    {
     "name": "stdout",
     "output_type": "stream",
     "text": [
      "<re.Match object; span=(0, 1), match='a'>\n",
      "<re.Match object; span=(25, 26), match='z'>\n",
      "<re.Match object; span=(68, 69), match='a'>\n",
      "<re.Match object; span=(71, 72), match='a'>\n",
      "<re.Match object; span=(73, 74), match='a'>\n",
      "<re.Match object; span=(78, 79), match='a'>\n",
      "<re.Match object; span=(81, 82), match='a'>\n",
      "<re.Match object; span=(83, 84), match='a'>\n",
      "<re.Match object; span=(105, 106), match='a'>\n",
      "<re.Match object; span=(140, 141), match='a'>\n",
      "<re.Match object; span=(145, 146), match='a'>\n",
      "<re.Match object; span=(149, 150), match='a'>\n",
      "<re.Match object; span=(154, 155), match='a'>\n",
      "<re.Match object; span=(158, 159), match='a'>\n",
      "<re.Match object; span=(162, 163), match='a'>\n",
      "<re.Match object; span=(166, 167), match='a'>\n",
      "<re.Match object; span=(248, 249), match='-'>\n",
      "<re.Match object; span=(256, 257), match='-'>\n",
      "<re.Match object; span=(260, 261), match='-'>\n",
      "<re.Match object; span=(295, 296), match='-'>\n",
      "<re.Match object; span=(299, 300), match='-'>\n",
      "<re.Match object; span=(308, 309), match='-'>\n",
      "<re.Match object; span=(312, 313), match='-'>\n",
      "<re.Match object; span=(321, 322), match='a'>\n",
      "<re.Match object; span=(338, 339), match='a'>\n",
      "<re.Match object; span=(356, 357), match='a'>\n"
     ]
    }
   ],
   "source": [
    "#character set \n",
    "pattern = re.compile(r\"[az-]\")\n",
    "matches = pattern.finditer(text_to_search)\n",
    "for match in matches:\n",
    "    print(match)"
   ]
  },
  {
   "cell_type": "code",
   "execution_count": 43,
   "metadata": {
    "ExecuteTime": {
     "end_time": "2023-06-15T17:16:31.613288Z",
     "start_time": "2023-06-15T17:16:31.602769Z"
    },
    "scrolled": false
   },
   "outputs": [
    {
     "name": "stdout",
     "output_type": "stream",
     "text": [
      "<re.Match object; span=(0, 1), match='a'>\n",
      "<re.Match object; span=(1, 2), match='b'>\n",
      "<re.Match object; span=(2, 3), match='c'>\n",
      "<re.Match object; span=(3, 4), match='d'>\n",
      "<re.Match object; span=(4, 5), match='e'>\n",
      "<re.Match object; span=(5, 6), match='f'>\n",
      "<re.Match object; span=(6, 7), match='g'>\n",
      "<re.Match object; span=(7, 8), match='h'>\n",
      "<re.Match object; span=(8, 9), match='i'>\n",
      "<re.Match object; span=(9, 10), match='j'>\n",
      "<re.Match object; span=(10, 11), match='k'>\n",
      "<re.Match object; span=(11, 12), match='l'>\n",
      "<re.Match object; span=(12, 13), match='m'>\n",
      "<re.Match object; span=(13, 14), match='n'>\n",
      "<re.Match object; span=(14, 15), match='o'>\n",
      "<re.Match object; span=(15, 16), match='p'>\n",
      "<re.Match object; span=(16, 17), match='q'>\n",
      "<re.Match object; span=(17, 18), match='u'>\n",
      "<re.Match object; span=(18, 19), match='r'>\n",
      "<re.Match object; span=(19, 20), match='t'>\n",
      "<re.Match object; span=(20, 21), match='u'>\n",
      "<re.Match object; span=(21, 22), match='v'>\n",
      "<re.Match object; span=(22, 23), match='w'>\n",
      "<re.Match object; span=(23, 24), match='x'>\n",
      "<re.Match object; span=(24, 25), match='y'>\n",
      "<re.Match object; span=(25, 26), match='z'>\n",
      "<re.Match object; span=(68, 69), match='a'>\n",
      "<re.Match object; span=(71, 72), match='a'>\n",
      "<re.Match object; span=(73, 74), match='a'>\n",
      "<re.Match object; span=(76, 77), match='e'>\n",
      "<re.Match object; span=(77, 78), match='t'>\n",
      "<re.Match object; span=(78, 79), match='a'>\n",
      "<re.Match object; span=(80, 81), match='h'>\n",
      "<re.Match object; span=(81, 82), match='a'>\n",
      "<re.Match object; span=(82, 83), match='r'>\n",
      "<re.Match object; span=(83, 84), match='a'>\n",
      "<re.Match object; span=(84, 85), match='c'>\n",
      "<re.Match object; span=(85, 86), match='t'>\n",
      "<re.Match object; span=(86, 87), match='e'>\n",
      "<re.Match object; span=(87, 88), match='r'>\n",
      "<re.Match object; span=(88, 89), match='s'>\n",
      "<re.Match object; span=(92, 93), match='e'>\n",
      "<re.Match object; span=(93, 94), match='e'>\n",
      "<re.Match object; span=(94, 95), match='d'>\n",
      "<re.Match object; span=(96, 97), match='t'>\n",
      "<re.Match object; span=(97, 98), match='o'>\n",
      "<re.Match object; span=(99, 100), match='b'>\n",
      "<re.Match object; span=(100, 101), match='e'>\n",
      "<re.Match object; span=(102, 103), match='e'>\n",
      "<re.Match object; span=(103, 104), match='s'>\n",
      "<re.Match object; span=(104, 105), match='c'>\n",
      "<re.Match object; span=(105, 106), match='a'>\n",
      "<re.Match object; span=(106, 107), match='p'>\n",
      "<re.Match object; span=(107, 108), match='e'>\n",
      "<re.Match object; span=(108, 109), match='d'>\n",
      "<re.Match object; span=(140, 141), match='a'>\n",
      "<re.Match object; span=(141, 142), match='b'>\n",
      "<re.Match object; span=(142, 143), match='c'>\n",
      "<re.Match object; span=(144, 145), match='c'>\n",
      "<re.Match object; span=(145, 146), match='a'>\n",
      "<re.Match object; span=(146, 147), match='t'>\n",
      "<re.Match object; span=(148, 149), match='m'>\n",
      "<re.Match object; span=(149, 150), match='a'>\n",
      "<re.Match object; span=(150, 151), match='t'>\n",
      "<re.Match object; span=(153, 154), match='h'>\n",
      "<re.Match object; span=(154, 155), match='a'>\n",
      "<re.Match object; span=(155, 156), match='t'>\n",
      "<re.Match object; span=(157, 158), match='b'>\n",
      "<re.Match object; span=(158, 159), match='a'>\n",
      "<re.Match object; span=(159, 160), match='t'>\n",
      "<re.Match object; span=(161, 162), match='f'>\n",
      "<re.Match object; span=(162, 163), match='a'>\n",
      "<re.Match object; span=(163, 164), match='t'>\n",
      "<re.Match object; span=(165, 166), match='s'>\n",
      "<re.Match object; span=(166, 167), match='a'>\n",
      "<re.Match object; span=(167, 168), match='t'>\n",
      "<re.Match object; span=(241, 242), match='c'>\n",
      "<re.Match object; span=(242, 243), match='o'>\n",
      "<re.Match object; span=(243, 244), match='r'>\n",
      "<re.Match object; span=(244, 245), match='e'>\n",
      "<re.Match object; span=(245, 246), match='y'>\n",
      "<re.Match object; span=(246, 247), match='m'>\n",
      "<re.Match object; span=(247, 248), match='s'>\n",
      "<re.Match object; span=(249, 250), match='c'>\n",
      "<re.Match object; span=(250, 251), match='o'>\n",
      "<re.Match object; span=(251, 252), match='m'>\n",
      "<re.Match object; span=(321, 322), match='a'>\n",
      "<re.Match object; span=(332, 333), match='r'>\n",
      "<re.Match object; span=(336, 337), match='c'>\n",
      "<re.Match object; span=(337, 338), match='h'>\n",
      "<re.Match object; span=(338, 339), match='a'>\n",
      "<re.Match object; span=(339, 340), match='f'>\n",
      "<re.Match object; span=(340, 341), match='e'>\n",
      "<re.Match object; span=(341, 342), match='r'>\n",
      "<re.Match object; span=(344, 345), match='r'>\n",
      "<re.Match object; span=(347, 348), match='m'>\n",
      "<re.Match object; span=(348, 349), match='i'>\n",
      "<re.Match object; span=(349, 350), match='t'>\n",
      "<re.Match object; span=(350, 351), match='h'>\n",
      "<re.Match object; span=(353, 354), match='s'>\n",
      "<re.Match object; span=(356, 357), match='a'>\n",
      "<re.Match object; span=(357, 358), match='v'>\n",
      "<re.Match object; span=(358, 359), match='i'>\n",
      "<re.Match object; span=(359, 360), match='s'>\n",
      "<re.Match object; span=(362, 363), match='r'>\n",
      "<re.Match object; span=(363, 364), match='s'>\n",
      "<re.Match object; span=(367, 368), match='o'>\n",
      "<re.Match object; span=(368, 369), match='b'>\n",
      "<re.Match object; span=(369, 370), match='i'>\n",
      "<re.Match object; span=(370, 371), match='n'>\n",
      "<re.Match object; span=(371, 372), match='s'>\n",
      "<re.Match object; span=(372, 373), match='o'>\n",
      "<re.Match object; span=(373, 374), match='n'>\n",
      "<re.Match object; span=(376, 377), match='r'>\n"
     ]
    }
   ],
   "source": [
    "#character set \n",
    "pattern = re.compile(\"[a-z]\")\n",
    "matches = pattern.finditer(text_to_search)\n",
    "for match in matches:\n",
    "    print(match)"
   ]
  },
  {
   "cell_type": "code",
   "execution_count": 44,
   "metadata": {
    "ExecuteTime": {
     "end_time": "2023-06-15T17:18:48.283504Z",
     "start_time": "2023-06-15T17:18:48.273613Z"
    },
    "scrolled": true
   },
   "outputs": [
    {
     "name": "stdout",
     "output_type": "stream",
     "text": [
      "<re.Match object; span=(0, 1), match='a'>\n",
      "<re.Match object; span=(1, 2), match='b'>\n",
      "<re.Match object; span=(2, 3), match='c'>\n",
      "<re.Match object; span=(3, 4), match='d'>\n",
      "<re.Match object; span=(4, 5), match='e'>\n",
      "<re.Match object; span=(5, 6), match='f'>\n",
      "<re.Match object; span=(6, 7), match='g'>\n",
      "<re.Match object; span=(7, 8), match='h'>\n",
      "<re.Match object; span=(8, 9), match='i'>\n",
      "<re.Match object; span=(9, 10), match='j'>\n",
      "<re.Match object; span=(10, 11), match='k'>\n",
      "<re.Match object; span=(11, 12), match='l'>\n",
      "<re.Match object; span=(12, 13), match='m'>\n",
      "<re.Match object; span=(13, 14), match='n'>\n",
      "<re.Match object; span=(14, 15), match='o'>\n",
      "<re.Match object; span=(15, 16), match='p'>\n",
      "<re.Match object; span=(16, 17), match='q'>\n",
      "<re.Match object; span=(17, 18), match='u'>\n",
      "<re.Match object; span=(18, 19), match='r'>\n",
      "<re.Match object; span=(19, 20), match='t'>\n",
      "<re.Match object; span=(20, 21), match='u'>\n",
      "<re.Match object; span=(21, 22), match='v'>\n",
      "<re.Match object; span=(22, 23), match='w'>\n",
      "<re.Match object; span=(23, 24), match='x'>\n",
      "<re.Match object; span=(24, 25), match='y'>\n",
      "<re.Match object; span=(25, 26), match='z'>\n",
      "<re.Match object; span=(27, 28), match='A'>\n",
      "<re.Match object; span=(28, 29), match='B'>\n",
      "<re.Match object; span=(29, 30), match='C'>\n",
      "<re.Match object; span=(30, 31), match='D'>\n",
      "<re.Match object; span=(31, 32), match='E'>\n",
      "<re.Match object; span=(32, 33), match='F'>\n",
      "<re.Match object; span=(33, 34), match='G'>\n",
      "<re.Match object; span=(34, 35), match='H'>\n",
      "<re.Match object; span=(35, 36), match='I'>\n",
      "<re.Match object; span=(36, 37), match='J'>\n",
      "<re.Match object; span=(37, 38), match='K'>\n",
      "<re.Match object; span=(38, 39), match='L'>\n",
      "<re.Match object; span=(39, 40), match='M'>\n",
      "<re.Match object; span=(40, 41), match='N'>\n",
      "<re.Match object; span=(41, 42), match='O'>\n",
      "<re.Match object; span=(42, 43), match='P'>\n",
      "<re.Match object; span=(43, 44), match='Q'>\n",
      "<re.Match object; span=(44, 45), match='R'>\n",
      "<re.Match object; span=(45, 46), match='S'>\n",
      "<re.Match object; span=(46, 47), match='T'>\n",
      "<re.Match object; span=(47, 48), match='U'>\n",
      "<re.Match object; span=(48, 49), match='V'>\n",
      "<re.Match object; span=(49, 50), match='W'>\n",
      "<re.Match object; span=(50, 51), match='X'>\n",
      "<re.Match object; span=(51, 52), match='Y'>\n",
      "<re.Match object; span=(52, 53), match='Z'>\n",
      "<re.Match object; span=(67, 68), match='H'>\n",
      "<re.Match object; span=(68, 69), match='a'>\n",
      "<re.Match object; span=(70, 71), match='H'>\n",
      "<re.Match object; span=(71, 72), match='a'>\n",
      "<re.Match object; span=(72, 73), match='H'>\n",
      "<re.Match object; span=(73, 74), match='a'>\n",
      "<re.Match object; span=(75, 76), match='M'>\n",
      "<re.Match object; span=(76, 77), match='e'>\n",
      "<re.Match object; span=(77, 78), match='t'>\n",
      "<re.Match object; span=(78, 79), match='a'>\n",
      "<re.Match object; span=(79, 80), match='C'>\n",
      "<re.Match object; span=(80, 81), match='h'>\n",
      "<re.Match object; span=(81, 82), match='a'>\n",
      "<re.Match object; span=(82, 83), match='r'>\n",
      "<re.Match object; span=(83, 84), match='a'>\n",
      "<re.Match object; span=(84, 85), match='c'>\n",
      "<re.Match object; span=(85, 86), match='t'>\n",
      "<re.Match object; span=(86, 87), match='e'>\n",
      "<re.Match object; span=(87, 88), match='r'>\n",
      "<re.Match object; span=(88, 89), match='s'>\n",
      "<re.Match object; span=(91, 92), match='N'>\n",
      "<re.Match object; span=(92, 93), match='e'>\n",
      "<re.Match object; span=(93, 94), match='e'>\n",
      "<re.Match object; span=(94, 95), match='d'>\n",
      "<re.Match object; span=(96, 97), match='t'>\n",
      "<re.Match object; span=(97, 98), match='o'>\n",
      "<re.Match object; span=(99, 100), match='b'>\n",
      "<re.Match object; span=(100, 101), match='e'>\n",
      "<re.Match object; span=(102, 103), match='e'>\n",
      "<re.Match object; span=(103, 104), match='s'>\n",
      "<re.Match object; span=(104, 105), match='c'>\n",
      "<re.Match object; span=(105, 106), match='a'>\n",
      "<re.Match object; span=(106, 107), match='p'>\n",
      "<re.Match object; span=(107, 108), match='e'>\n",
      "<re.Match object; span=(108, 109), match='d'>\n",
      "<re.Match object; span=(114, 115), match='^'>\n",
      "<re.Match object; span=(128, 129), match='['>\n",
      "<re.Match object; span=(130, 131), match=']'>\n",
      "<re.Match object; span=(132, 133), match='\\\\'>\n",
      "<re.Match object; span=(140, 141), match='a'>\n",
      "<re.Match object; span=(141, 142), match='b'>\n",
      "<re.Match object; span=(142, 143), match='c'>\n",
      "<re.Match object; span=(144, 145), match='c'>\n",
      "<re.Match object; span=(145, 146), match='a'>\n",
      "<re.Match object; span=(146, 147), match='t'>\n",
      "<re.Match object; span=(148, 149), match='m'>\n",
      "<re.Match object; span=(149, 150), match='a'>\n",
      "<re.Match object; span=(150, 151), match='t'>\n",
      "<re.Match object; span=(153, 154), match='h'>\n",
      "<re.Match object; span=(154, 155), match='a'>\n",
      "<re.Match object; span=(155, 156), match='t'>\n",
      "<re.Match object; span=(157, 158), match='b'>\n",
      "<re.Match object; span=(158, 159), match='a'>\n",
      "<re.Match object; span=(159, 160), match='t'>\n",
      "<re.Match object; span=(161, 162), match='f'>\n",
      "<re.Match object; span=(162, 163), match='a'>\n",
      "<re.Match object; span=(163, 164), match='t'>\n",
      "<re.Match object; span=(165, 166), match='s'>\n",
      "<re.Match object; span=(166, 167), match='a'>\n",
      "<re.Match object; span=(167, 168), match='t'>\n",
      "<re.Match object; span=(241, 242), match='c'>\n",
      "<re.Match object; span=(242, 243), match='o'>\n",
      "<re.Match object; span=(243, 244), match='r'>\n",
      "<re.Match object; span=(244, 245), match='e'>\n",
      "<re.Match object; span=(245, 246), match='y'>\n",
      "<re.Match object; span=(246, 247), match='m'>\n",
      "<re.Match object; span=(247, 248), match='s'>\n",
      "<re.Match object; span=(249, 250), match='c'>\n",
      "<re.Match object; span=(250, 251), match='o'>\n",
      "<re.Match object; span=(251, 252), match='m'>\n",
      "<re.Match object; span=(321, 322), match='a'>\n",
      "<re.Match object; span=(325, 326), match='C'>\n",
      "<re.Match object; span=(331, 332), match='M'>\n",
      "<re.Match object; span=(332, 333), match='r'>\n",
      "<re.Match object; span=(335, 336), match='S'>\n",
      "<re.Match object; span=(336, 337), match='c'>\n",
      "<re.Match object; span=(337, 338), match='h'>\n",
      "<re.Match object; span=(338, 339), match='a'>\n",
      "<re.Match object; span=(339, 340), match='f'>\n",
      "<re.Match object; span=(340, 341), match='e'>\n",
      "<re.Match object; span=(341, 342), match='r'>\n",
      "<re.Match object; span=(343, 344), match='M'>\n",
      "<re.Match object; span=(344, 345), match='r'>\n",
      "<re.Match object; span=(346, 347), match='S'>\n",
      "<re.Match object; span=(347, 348), match='m'>\n",
      "<re.Match object; span=(348, 349), match='i'>\n",
      "<re.Match object; span=(349, 350), match='t'>\n",
      "<re.Match object; span=(350, 351), match='h'>\n",
      "<re.Match object; span=(352, 353), match='M'>\n",
      "<re.Match object; span=(353, 354), match='s'>\n",
      "<re.Match object; span=(355, 356), match='D'>\n",
      "<re.Match object; span=(356, 357), match='a'>\n",
      "<re.Match object; span=(357, 358), match='v'>\n",
      "<re.Match object; span=(358, 359), match='i'>\n",
      "<re.Match object; span=(359, 360), match='s'>\n",
      "<re.Match object; span=(361, 362), match='M'>\n",
      "<re.Match object; span=(362, 363), match='r'>\n",
      "<re.Match object; span=(363, 364), match='s'>\n",
      "<re.Match object; span=(366, 367), match='R'>\n",
      "<re.Match object; span=(367, 368), match='o'>\n",
      "<re.Match object; span=(368, 369), match='b'>\n",
      "<re.Match object; span=(369, 370), match='i'>\n",
      "<re.Match object; span=(370, 371), match='n'>\n",
      "<re.Match object; span=(371, 372), match='s'>\n",
      "<re.Match object; span=(372, 373), match='o'>\n",
      "<re.Match object; span=(373, 374), match='n'>\n",
      "<re.Match object; span=(375, 376), match='M'>\n",
      "<re.Match object; span=(376, 377), match='r'>\n",
      "<re.Match object; span=(379, 380), match='T'>\n"
     ]
    }
   ],
   "source": [
    "# from A to z ( small ) including special characters ( ascii code ) link: https://www.asciitable.com\n",
    "pattern = re.compile(r\"[A-z]\")\n",
    "matches = pattern.finditer(text_to_search)\n",
    "for match in matches:\n",
    "    print(match)"
   ]
  },
  {
   "cell_type": "code",
   "execution_count": 45,
   "metadata": {
    "ExecuteTime": {
     "end_time": "2023-06-15T17:18:51.061807Z",
     "start_time": "2023-06-15T17:18:51.047588Z"
    }
   },
   "outputs": [
    {
     "name": "stdout",
     "output_type": "stream",
     "text": [
      "<re.Match object; span=(0, 1), match='a'>\n",
      "<re.Match object; span=(1, 2), match='b'>\n",
      "<re.Match object; span=(2, 3), match='c'>\n",
      "<re.Match object; span=(3, 4), match='d'>\n",
      "<re.Match object; span=(4, 5), match='e'>\n",
      "<re.Match object; span=(5, 6), match='f'>\n",
      "<re.Match object; span=(6, 7), match='g'>\n",
      "<re.Match object; span=(7, 8), match='h'>\n",
      "<re.Match object; span=(8, 9), match='i'>\n",
      "<re.Match object; span=(9, 10), match='j'>\n",
      "<re.Match object; span=(10, 11), match='k'>\n",
      "<re.Match object; span=(11, 12), match='l'>\n",
      "<re.Match object; span=(12, 13), match='m'>\n",
      "<re.Match object; span=(13, 14), match='n'>\n",
      "<re.Match object; span=(14, 15), match='o'>\n",
      "<re.Match object; span=(15, 16), match='p'>\n",
      "<re.Match object; span=(16, 17), match='q'>\n",
      "<re.Match object; span=(17, 18), match='u'>\n",
      "<re.Match object; span=(18, 19), match='r'>\n",
      "<re.Match object; span=(19, 20), match='t'>\n",
      "<re.Match object; span=(20, 21), match='u'>\n",
      "<re.Match object; span=(21, 22), match='v'>\n",
      "<re.Match object; span=(22, 23), match='w'>\n",
      "<re.Match object; span=(23, 24), match='x'>\n",
      "<re.Match object; span=(24, 25), match='y'>\n",
      "<re.Match object; span=(25, 26), match='z'>\n",
      "<re.Match object; span=(27, 28), match='A'>\n",
      "<re.Match object; span=(28, 29), match='B'>\n",
      "<re.Match object; span=(29, 30), match='C'>\n",
      "<re.Match object; span=(30, 31), match='D'>\n",
      "<re.Match object; span=(31, 32), match='E'>\n",
      "<re.Match object; span=(32, 33), match='F'>\n",
      "<re.Match object; span=(33, 34), match='G'>\n",
      "<re.Match object; span=(34, 35), match='H'>\n",
      "<re.Match object; span=(35, 36), match='I'>\n",
      "<re.Match object; span=(36, 37), match='J'>\n",
      "<re.Match object; span=(37, 38), match='K'>\n",
      "<re.Match object; span=(38, 39), match='L'>\n",
      "<re.Match object; span=(39, 40), match='M'>\n",
      "<re.Match object; span=(40, 41), match='N'>\n",
      "<re.Match object; span=(41, 42), match='O'>\n",
      "<re.Match object; span=(42, 43), match='P'>\n",
      "<re.Match object; span=(43, 44), match='Q'>\n",
      "<re.Match object; span=(44, 45), match='R'>\n",
      "<re.Match object; span=(45, 46), match='S'>\n",
      "<re.Match object; span=(46, 47), match='T'>\n",
      "<re.Match object; span=(47, 48), match='U'>\n",
      "<re.Match object; span=(48, 49), match='V'>\n",
      "<re.Match object; span=(49, 50), match='W'>\n",
      "<re.Match object; span=(50, 51), match='X'>\n",
      "<re.Match object; span=(51, 52), match='Y'>\n",
      "<re.Match object; span=(52, 53), match='Z'>\n",
      "<re.Match object; span=(67, 68), match='H'>\n",
      "<re.Match object; span=(68, 69), match='a'>\n",
      "<re.Match object; span=(70, 71), match='H'>\n",
      "<re.Match object; span=(71, 72), match='a'>\n",
      "<re.Match object; span=(72, 73), match='H'>\n",
      "<re.Match object; span=(73, 74), match='a'>\n",
      "<re.Match object; span=(75, 76), match='M'>\n",
      "<re.Match object; span=(76, 77), match='e'>\n",
      "<re.Match object; span=(77, 78), match='t'>\n",
      "<re.Match object; span=(78, 79), match='a'>\n",
      "<re.Match object; span=(79, 80), match='C'>\n",
      "<re.Match object; span=(80, 81), match='h'>\n",
      "<re.Match object; span=(81, 82), match='a'>\n",
      "<re.Match object; span=(82, 83), match='r'>\n",
      "<re.Match object; span=(83, 84), match='a'>\n",
      "<re.Match object; span=(84, 85), match='c'>\n",
      "<re.Match object; span=(85, 86), match='t'>\n",
      "<re.Match object; span=(86, 87), match='e'>\n",
      "<re.Match object; span=(87, 88), match='r'>\n",
      "<re.Match object; span=(88, 89), match='s'>\n",
      "<re.Match object; span=(91, 92), match='N'>\n",
      "<re.Match object; span=(92, 93), match='e'>\n",
      "<re.Match object; span=(93, 94), match='e'>\n",
      "<re.Match object; span=(94, 95), match='d'>\n",
      "<re.Match object; span=(96, 97), match='t'>\n",
      "<re.Match object; span=(97, 98), match='o'>\n",
      "<re.Match object; span=(99, 100), match='b'>\n",
      "<re.Match object; span=(100, 101), match='e'>\n",
      "<re.Match object; span=(102, 103), match='e'>\n",
      "<re.Match object; span=(103, 104), match='s'>\n",
      "<re.Match object; span=(104, 105), match='c'>\n",
      "<re.Match object; span=(105, 106), match='a'>\n",
      "<re.Match object; span=(106, 107), match='p'>\n",
      "<re.Match object; span=(107, 108), match='e'>\n",
      "<re.Match object; span=(108, 109), match='d'>\n",
      "<re.Match object; span=(140, 141), match='a'>\n",
      "<re.Match object; span=(141, 142), match='b'>\n",
      "<re.Match object; span=(142, 143), match='c'>\n",
      "<re.Match object; span=(144, 145), match='c'>\n",
      "<re.Match object; span=(145, 146), match='a'>\n",
      "<re.Match object; span=(146, 147), match='t'>\n",
      "<re.Match object; span=(148, 149), match='m'>\n",
      "<re.Match object; span=(149, 150), match='a'>\n",
      "<re.Match object; span=(150, 151), match='t'>\n",
      "<re.Match object; span=(153, 154), match='h'>\n",
      "<re.Match object; span=(154, 155), match='a'>\n",
      "<re.Match object; span=(155, 156), match='t'>\n",
      "<re.Match object; span=(157, 158), match='b'>\n",
      "<re.Match object; span=(158, 159), match='a'>\n",
      "<re.Match object; span=(159, 160), match='t'>\n",
      "<re.Match object; span=(161, 162), match='f'>\n",
      "<re.Match object; span=(162, 163), match='a'>\n",
      "<re.Match object; span=(163, 164), match='t'>\n",
      "<re.Match object; span=(165, 166), match='s'>\n",
      "<re.Match object; span=(166, 167), match='a'>\n",
      "<re.Match object; span=(167, 168), match='t'>\n",
      "<re.Match object; span=(241, 242), match='c'>\n",
      "<re.Match object; span=(242, 243), match='o'>\n",
      "<re.Match object; span=(243, 244), match='r'>\n",
      "<re.Match object; span=(244, 245), match='e'>\n",
      "<re.Match object; span=(245, 246), match='y'>\n",
      "<re.Match object; span=(246, 247), match='m'>\n",
      "<re.Match object; span=(247, 248), match='s'>\n",
      "<re.Match object; span=(249, 250), match='c'>\n",
      "<re.Match object; span=(250, 251), match='o'>\n",
      "<re.Match object; span=(251, 252), match='m'>\n",
      "<re.Match object; span=(321, 322), match='a'>\n",
      "<re.Match object; span=(325, 326), match='C'>\n",
      "<re.Match object; span=(331, 332), match='M'>\n",
      "<re.Match object; span=(332, 333), match='r'>\n",
      "<re.Match object; span=(335, 336), match='S'>\n",
      "<re.Match object; span=(336, 337), match='c'>\n",
      "<re.Match object; span=(337, 338), match='h'>\n",
      "<re.Match object; span=(338, 339), match='a'>\n",
      "<re.Match object; span=(339, 340), match='f'>\n",
      "<re.Match object; span=(340, 341), match='e'>\n",
      "<re.Match object; span=(341, 342), match='r'>\n",
      "<re.Match object; span=(343, 344), match='M'>\n",
      "<re.Match object; span=(344, 345), match='r'>\n",
      "<re.Match object; span=(346, 347), match='S'>\n",
      "<re.Match object; span=(347, 348), match='m'>\n",
      "<re.Match object; span=(348, 349), match='i'>\n",
      "<re.Match object; span=(349, 350), match='t'>\n",
      "<re.Match object; span=(350, 351), match='h'>\n",
      "<re.Match object; span=(352, 353), match='M'>\n",
      "<re.Match object; span=(353, 354), match='s'>\n",
      "<re.Match object; span=(355, 356), match='D'>\n",
      "<re.Match object; span=(356, 357), match='a'>\n",
      "<re.Match object; span=(357, 358), match='v'>\n",
      "<re.Match object; span=(358, 359), match='i'>\n",
      "<re.Match object; span=(359, 360), match='s'>\n",
      "<re.Match object; span=(361, 362), match='M'>\n",
      "<re.Match object; span=(362, 363), match='r'>\n",
      "<re.Match object; span=(363, 364), match='s'>\n",
      "<re.Match object; span=(366, 367), match='R'>\n",
      "<re.Match object; span=(367, 368), match='o'>\n",
      "<re.Match object; span=(368, 369), match='b'>\n",
      "<re.Match object; span=(369, 370), match='i'>\n",
      "<re.Match object; span=(370, 371), match='n'>\n",
      "<re.Match object; span=(371, 372), match='s'>\n",
      "<re.Match object; span=(372, 373), match='o'>\n",
      "<re.Match object; span=(373, 374), match='n'>\n",
      "<re.Match object; span=(375, 376), match='M'>\n",
      "<re.Match object; span=(376, 377), match='r'>\n",
      "<re.Match object; span=(379, 380), match='T'>\n"
     ]
    }
   ],
   "source": [
    "# From A-Z or a-z\n",
    "pattern = re.compile(r\"[a-zA-Z]\")\n",
    "matches = pattern.finditer(text_to_search)\n",
    "for match in matches:\n",
    "    print(match)"
   ]
  },
  {
   "cell_type": "code",
   "execution_count": 36,
   "metadata": {
    "ExecuteTime": {
     "end_time": "2023-05-19T11:00:34.197627Z",
     "start_time": "2023-05-19T11:00:34.187870Z"
    },
    "scrolled": false
   },
   "outputs": [
    {
     "name": "stdout",
     "output_type": "stream",
     "text": [
      "<re.Match object; span=(26, 27), match='\\n'>\n",
      "<re.Match object; span=(53, 54), match='\\n'>\n",
      "<re.Match object; span=(54, 55), match='1'>\n",
      "<re.Match object; span=(55, 56), match='2'>\n",
      "<re.Match object; span=(56, 57), match='3'>\n",
      "<re.Match object; span=(57, 58), match='4'>\n",
      "<re.Match object; span=(58, 59), match='5'>\n",
      "<re.Match object; span=(59, 60), match='6'>\n",
      "<re.Match object; span=(60, 61), match='7'>\n",
      "<re.Match object; span=(61, 62), match='8'>\n",
      "<re.Match object; span=(62, 63), match='9'>\n",
      "<re.Match object; span=(63, 64), match='0'>\n",
      "<re.Match object; span=(64, 65), match='1'>\n",
      "<re.Match object; span=(65, 66), match='0'>\n",
      "<re.Match object; span=(66, 67), match='\\n'>\n",
      "<re.Match object; span=(69, 70), match=' '>\n",
      "<re.Match object; span=(74, 75), match='\\n'>\n",
      "<re.Match object; span=(89, 90), match=' '>\n",
      "<re.Match object; span=(90, 91), match='('>\n",
      "<re.Match object; span=(95, 96), match=' '>\n",
      "<re.Match object; span=(98, 99), match=' '>\n",
      "<re.Match object; span=(101, 102), match=' '>\n",
      "<re.Match object; span=(109, 110), match=')'>\n",
      "<re.Match object; span=(110, 111), match=':'>\n",
      "<re.Match object; span=(111, 112), match='\\n'>\n",
      "<re.Match object; span=(112, 113), match='.'>\n",
      "<re.Match object; span=(113, 114), match=' '>\n",
      "<re.Match object; span=(114, 115), match='^'>\n",
      "<re.Match object; span=(115, 116), match=' '>\n",
      "<re.Match object; span=(116, 117), match='$'>\n",
      "<re.Match object; span=(117, 118), match=' '>\n",
      "<re.Match object; span=(118, 119), match='*'>\n",
      "<re.Match object; span=(119, 120), match=' '>\n",
      "<re.Match object; span=(120, 121), match='+'>\n",
      "<re.Match object; span=(121, 122), match=' '>\n",
      "<re.Match object; span=(122, 123), match='?'>\n",
      "<re.Match object; span=(123, 124), match=' '>\n",
      "<re.Match object; span=(124, 125), match='{'>\n",
      "<re.Match object; span=(125, 126), match=' '>\n",
      "<re.Match object; span=(126, 127), match='}'>\n",
      "<re.Match object; span=(127, 128), match=' '>\n",
      "<re.Match object; span=(128, 129), match='['>\n",
      "<re.Match object; span=(129, 130), match=' '>\n",
      "<re.Match object; span=(130, 131), match=']'>\n",
      "<re.Match object; span=(131, 132), match=' '>\n",
      "<re.Match object; span=(132, 133), match='\\\\'>\n",
      "<re.Match object; span=(133, 134), match=' '>\n",
      "<re.Match object; span=(134, 135), match='|'>\n",
      "<re.Match object; span=(135, 136), match=' '>\n",
      "<re.Match object; span=(136, 137), match='('>\n",
      "<re.Match object; span=(137, 138), match=' '>\n",
      "<re.Match object; span=(138, 139), match=')'>\n",
      "<re.Match object; span=(139, 140), match='\\n'>\n",
      "<re.Match object; span=(143, 144), match='\\n'>\n",
      "<re.Match object; span=(147, 148), match='\\n'>\n",
      "<re.Match object; span=(151, 152), match=' '>\n",
      "<re.Match object; span=(152, 153), match='\\n'>\n",
      "<re.Match object; span=(156, 157), match='\\n'>\n",
      "<re.Match object; span=(160, 161), match='\\n'>\n",
      "<re.Match object; span=(164, 165), match='\\n'>\n",
      "<re.Match object; span=(168, 169), match='\\n'>\n",
      "<re.Match object; span=(169, 170), match='0'>\n",
      "<re.Match object; span=(170, 171), match='1'>\n",
      "<re.Match object; span=(171, 172), match='0'>\n",
      "<re.Match object; span=(172, 173), match='9'>\n",
      "<re.Match object; span=(173, 174), match='2'>\n",
      "<re.Match object; span=(174, 175), match='3'>\n",
      "<re.Match object; span=(175, 176), match='2'>\n",
      "<re.Match object; span=(176, 177), match='9'>\n",
      "<re.Match object; span=(177, 178), match='3'>\n",
      "<re.Match object; span=(178, 179), match='4'>\n",
      "<re.Match object; span=(179, 180), match='0'>\n",
      "<re.Match object; span=(180, 181), match='\\n'>\n",
      "<re.Match object; span=(181, 182), match='0'>\n",
      "<re.Match object; span=(182, 183), match='1'>\n",
      "<re.Match object; span=(183, 184), match='1'>\n",
      "<re.Match object; span=(184, 185), match='2'>\n",
      "<re.Match object; span=(185, 186), match='3'>\n",
      "<re.Match object; span=(186, 187), match='2'>\n",
      "<re.Match object; span=(187, 188), match='3'>\n",
      "<re.Match object; span=(188, 189), match='4'>\n",
      "<re.Match object; span=(189, 190), match='3'>\n",
      "<re.Match object; span=(190, 191), match='5'>\n",
      "<re.Match object; span=(191, 192), match='5'>\n",
      "<re.Match object; span=(192, 193), match='\\n'>\n",
      "<re.Match object; span=(193, 194), match='0'>\n",
      "<re.Match object; span=(194, 195), match='1'>\n",
      "<re.Match object; span=(195, 196), match='0'>\n",
      "<re.Match object; span=(196, 197), match='2'>\n",
      "<re.Match object; span=(197, 198), match='3'>\n",
      "<re.Match object; span=(198, 199), match='4'>\n",
      "<re.Match object; span=(199, 200), match='5'>\n",
      "<re.Match object; span=(200, 201), match='5'>\n",
      "<re.Match object; span=(201, 202), match='4'>\n",
      "<re.Match object; span=(202, 203), match='1'>\n",
      "<re.Match object; span=(203, 204), match='1'>\n",
      "<re.Match object; span=(204, 205), match='\\n'>\n",
      "<re.Match object; span=(205, 206), match='0'>\n",
      "<re.Match object; span=(206, 207), match='1'>\n",
      "<re.Match object; span=(207, 208), match='2'>\n",
      "<re.Match object; span=(208, 209), match='3'>\n",
      "<re.Match object; span=(209, 210), match='4'>\n",
      "<re.Match object; span=(210, 211), match='5'>\n",
      "<re.Match object; span=(211, 212), match='6'>\n",
      "<re.Match object; span=(212, 213), match='7'>\n",
      "<re.Match object; span=(213, 214), match='8'>\n",
      "<re.Match object; span=(214, 215), match='7'>\n",
      "<re.Match object; span=(215, 216), match='5'>\n",
      "<re.Match object; span=(216, 217), match='\\n'>\n",
      "<re.Match object; span=(217, 218), match='0'>\n",
      "<re.Match object; span=(218, 219), match='1'>\n",
      "<re.Match object; span=(219, 220), match='5'>\n",
      "<re.Match object; span=(220, 221), match='3'>\n",
      "<re.Match object; span=(221, 222), match='4'>\n",
      "<re.Match object; span=(222, 223), match='5'>\n",
      "<re.Match object; span=(223, 224), match='6'>\n",
      "<re.Match object; span=(224, 225), match='7'>\n",
      "<re.Match object; span=(225, 226), match='4'>\n",
      "<re.Match object; span=(226, 227), match='5'>\n",
      "<re.Match object; span=(227, 228), match='6'>\n",
      "<re.Match object; span=(228, 229), match='\\n'>\n",
      "<re.Match object; span=(229, 230), match='0'>\n",
      "<re.Match object; span=(230, 231), match='1'>\n",
      "<re.Match object; span=(231, 232), match='1'>\n",
      "<re.Match object; span=(232, 233), match='3'>\n",
      "<re.Match object; span=(233, 234), match='4'>\n",
      "<re.Match object; span=(234, 235), match='5'>\n",
      "<re.Match object; span=(235, 236), match='6'>\n",
      "<re.Match object; span=(236, 237), match='7'>\n",
      "<re.Match object; span=(237, 238), match='8'>\n",
      "<re.Match object; span=(238, 239), match='5'>\n",
      "<re.Match object; span=(239, 240), match='6'>\n",
      "<re.Match object; span=(240, 241), match='\\n'>\n",
      "<re.Match object; span=(248, 249), match='-'>\n",
      "<re.Match object; span=(252, 253), match='\\n'>\n",
      "<re.Match object; span=(253, 254), match='3'>\n",
      "<re.Match object; span=(254, 255), match='2'>\n",
      "<re.Match object; span=(255, 256), match='1'>\n",
      "<re.Match object; span=(256, 257), match='-'>\n",
      "<re.Match object; span=(257, 258), match='5'>\n",
      "<re.Match object; span=(258, 259), match='5'>\n",
      "<re.Match object; span=(259, 260), match='5'>\n",
      "<re.Match object; span=(260, 261), match='-'>\n",
      "<re.Match object; span=(261, 262), match='4'>\n",
      "<re.Match object; span=(262, 263), match='3'>\n",
      "<re.Match object; span=(263, 264), match='2'>\n",
      "<re.Match object; span=(264, 265), match='1'>\n",
      "<re.Match object; span=(265, 266), match='\\n'>\n",
      "<re.Match object; span=(266, 267), match='1'>\n",
      "<re.Match object; span=(267, 268), match='2'>\n",
      "<re.Match object; span=(268, 269), match='3'>\n",
      "<re.Match object; span=(269, 270), match='.'>\n",
      "<re.Match object; span=(270, 271), match='5'>\n",
      "<re.Match object; span=(271, 272), match='5'>\n",
      "<re.Match object; span=(272, 273), match='5'>\n",
      "<re.Match object; span=(273, 274), match='.'>\n",
      "<re.Match object; span=(274, 275), match='1'>\n",
      "<re.Match object; span=(275, 276), match='2'>\n",
      "<re.Match object; span=(276, 277), match='3'>\n",
      "<re.Match object; span=(277, 278), match='4'>\n",
      "<re.Match object; span=(278, 279), match='\\n'>\n",
      "<re.Match object; span=(279, 280), match='1'>\n",
      "<re.Match object; span=(280, 281), match='2'>\n",
      "<re.Match object; span=(281, 282), match='3'>\n",
      "<re.Match object; span=(282, 283), match='*'>\n",
      "<re.Match object; span=(283, 284), match='5'>\n",
      "<re.Match object; span=(284, 285), match='5'>\n",
      "<re.Match object; span=(285, 286), match='5'>\n",
      "<re.Match object; span=(286, 287), match='*'>\n",
      "<re.Match object; span=(287, 288), match='1'>\n",
      "<re.Match object; span=(288, 289), match='2'>\n",
      "<re.Match object; span=(289, 290), match='3'>\n",
      "<re.Match object; span=(290, 291), match='4'>\n",
      "<re.Match object; span=(291, 292), match='\\n'>\n",
      "<re.Match object; span=(292, 293), match='8'>\n",
      "<re.Match object; span=(293, 294), match='0'>\n",
      "<re.Match object; span=(294, 295), match='0'>\n",
      "<re.Match object; span=(295, 296), match='-'>\n",
      "<re.Match object; span=(296, 297), match='5'>\n",
      "<re.Match object; span=(297, 298), match='5'>\n",
      "<re.Match object; span=(298, 299), match='5'>\n",
      "<re.Match object; span=(299, 300), match='-'>\n",
      "<re.Match object; span=(300, 301), match='1'>\n",
      "<re.Match object; span=(301, 302), match='2'>\n",
      "<re.Match object; span=(302, 303), match='3'>\n",
      "<re.Match object; span=(303, 304), match='4'>\n",
      "<re.Match object; span=(304, 305), match='\\n'>\n",
      "<re.Match object; span=(305, 306), match='9'>\n",
      "<re.Match object; span=(306, 307), match='0'>\n",
      "<re.Match object; span=(307, 308), match='0'>\n",
      "<re.Match object; span=(308, 309), match='-'>\n",
      "<re.Match object; span=(309, 310), match='5'>\n",
      "<re.Match object; span=(310, 311), match='5'>\n",
      "<re.Match object; span=(311, 312), match='5'>\n",
      "<re.Match object; span=(312, 313), match='-'>\n",
      "<re.Match object; span=(313, 314), match='1'>\n",
      "<re.Match object; span=(314, 315), match='2'>\n",
      "<re.Match object; span=(315, 316), match='3'>\n",
      "<re.Match object; span=(316, 317), match='4'>\n",
      "<re.Match object; span=(317, 318), match='\\n'>\n",
      "<re.Match object; span=(318, 319), match='1'>\n",
      "<re.Match object; span=(319, 320), match='0'>\n",
      "<re.Match object; span=(320, 321), match='0'>\n",
      "<re.Match object; span=(322, 323), match='1'>\n",
      "<re.Match object; span=(323, 324), match='2'>\n",
      "<re.Match object; span=(324, 325), match='1'>\n",
      "<re.Match object; span=(326, 327), match='4'>\n",
      "<re.Match object; span=(327, 328), match='5'>\n",
      "<re.Match object; span=(328, 329), match='4'>\n",
      "<re.Match object; span=(329, 330), match='3'>\n",
      "<re.Match object; span=(330, 331), match='\\n'>\n",
      "<re.Match object; span=(333, 334), match='.'>\n",
      "<re.Match object; span=(334, 335), match=' '>\n",
      "<re.Match object; span=(342, 343), match='\\n'>\n",
      "<re.Match object; span=(345, 346), match=' '>\n",
      "<re.Match object; span=(351, 352), match='\\n'>\n",
      "<re.Match object; span=(354, 355), match=' '>\n",
      "<re.Match object; span=(360, 361), match='\\n'>\n",
      "<re.Match object; span=(364, 365), match='.'>\n",
      "<re.Match object; span=(365, 366), match=' '>\n",
      "<re.Match object; span=(374, 375), match='\\n'>\n",
      "<re.Match object; span=(377, 378), match='.'>\n",
      "<re.Match object; span=(378, 379), match=' '>\n",
      "<re.Match object; span=(380, 381), match='\\n'>\n"
     ]
    }
   ],
   "source": [
    "#character set \n",
    "pattern = re.compile(r\"[^a-zA-Z]\") # not a in a character set\n",
    "matches = pattern.finditer(text_to_search)\n",
    "for match in matches:\n",
    "    print(match)"
   ]
  },
  {
   "cell_type": "code",
   "execution_count": 47,
   "metadata": {
    "ExecuteTime": {
     "end_time": "2023-06-15T17:19:41.565896Z",
     "start_time": "2023-06-15T17:19:41.551804Z"
    }
   },
   "outputs": [
    {
     "name": "stdout",
     "output_type": "stream",
     "text": [
      "<re.Match object; span=(148, 151), match='mat'>\n",
      "<re.Match object; span=(153, 156), match='hat'>\n",
      "<re.Match object; span=(157, 160), match='bat'>\n",
      "<re.Match object; span=(161, 164), match='fat'>\n",
      "<re.Match object; span=(165, 168), match='sat'>\n"
     ]
    }
   ],
   "source": [
    "# any thing but c , followed by at \n",
    "pattern = re.compile(r\"[^c]at\")\n",
    "matches = pattern.finditer(text_to_search)\n",
    "for match in matches:\n",
    "    print(match)\n"
   ]
  },
  {
   "cell_type": "code",
   "execution_count": 48,
   "metadata": {
    "ExecuteTime": {
     "end_time": "2023-06-15T17:20:15.318106Z",
     "start_time": "2023-06-15T17:20:15.306508Z"
    },
    "scrolled": true
   },
   "outputs": [
    {
     "name": "stdout",
     "output_type": "stream",
     "text": [
      "<re.Match object; span=(253, 265), match='321-555-4321'>\n",
      "<re.Match object; span=(292, 304), match='800-555-1234'>\n",
      "<re.Match object; span=(305, 317), match='900-555-1234'>\n"
     ]
    }
   ],
   "source": [
    "#character set ( Quantifier )\n",
    "pattern = re.compile(r\"\\d{3}-\\d{3}-\\d{4}\")\n",
    "matches = pattern.finditer(text_to_search)\n",
    "for match in matches:\n",
    "    print(match)"
   ]
  },
  {
   "cell_type": "code",
   "execution_count": 49,
   "metadata": {
    "ExecuteTime": {
     "end_time": "2023-06-15T17:20:29.265552Z",
     "start_time": "2023-06-15T17:20:29.257490Z"
    }
   },
   "outputs": [
    {
     "name": "stdout",
     "output_type": "stream",
     "text": [
      "<re.Match object; span=(169, 180), match='01092329340'>\n",
      "<re.Match object; span=(193, 204), match='01023455411'>\n"
     ]
    }
   ],
   "source": [
    "# vodafone numbers \n",
    "pattern = re.compile(r\"010\\d{8}\")\n",
    "matches = pattern.finditer(text_to_search)\n",
    "for match in matches:\n",
    "    print(match)"
   ]
  },
  {
   "cell_type": "code",
   "execution_count": 50,
   "metadata": {
    "ExecuteTime": {
     "end_time": "2023-06-15T17:20:45.907991Z",
     "start_time": "2023-06-15T17:20:45.897258Z"
    }
   },
   "outputs": [
    {
     "name": "stdout",
     "output_type": "stream",
     "text": [
      "<re.Match object; span=(253, 265), match='321-555-4321'>\n",
      "<re.Match object; span=(279, 291), match='123*555*1234'>\n",
      "<re.Match object; span=(292, 304), match='800-555-1234'>\n",
      "<re.Match object; span=(305, 317), match='900-555-1234'>\n"
     ]
    }
   ],
   "source": [
    "#character set ( Quantifier )\n",
    "pattern = re.compile(r\"\\d{3}[-*]\\d{3}[*-]\\d{4}\")\n",
    "matches = pattern.finditer(text_to_search)\n",
    "for match in matches:\n",
    "    print(match)"
   ]
  },
  {
   "cell_type": "code",
   "execution_count": 51,
   "metadata": {
    "ExecuteTime": {
     "end_time": "2023-06-15T17:26:37.810788Z",
     "start_time": "2023-06-15T17:26:37.796717Z"
    }
   },
   "outputs": [
    {
     "name": "stdout",
     "output_type": "stream",
     "text": [
      "<re.Match object; span=(331, 334), match='Mr.'>\n",
      "<re.Match object; span=(343, 346), match='Mr '>\n",
      "<re.Match object; span=(361, 364), match='Mrs'>\n",
      "<re.Match object; span=(375, 378), match='Mr.'>\n"
     ]
    }
   ],
   "source": [
    "#character set ( Quantifier )\n",
    "pattern = re.compile(\"Mr.\")\n",
    "matches = pattern.finditer(text_to_search)\n",
    "for match in matches:\n",
    "    print(match)"
   ]
  },
  {
   "cell_type": "code",
   "execution_count": 53,
   "metadata": {
    "ExecuteTime": {
     "end_time": "2023-06-15T17:27:12.065222Z",
     "start_time": "2023-06-15T17:27:12.049636Z"
    }
   },
   "outputs": [
    {
     "name": "stdout",
     "output_type": "stream",
     "text": [
      "<re.Match object; span=(331, 335), match='Mr. '>\n",
      "<re.Match object; span=(343, 347), match='Mr S'>\n",
      "<re.Match object; span=(361, 365), match='Mrs.'>\n",
      "<re.Match object; span=(375, 379), match='Mr. '>\n"
     ]
    }
   ],
   "source": [
    "pattern = re.compile(\"Mr..\")\n",
    "matches = pattern.finditer(text_to_search)\n",
    "for match in matches:\n",
    "    print(match)"
   ]
  },
  {
   "cell_type": "code",
   "execution_count": 54,
   "metadata": {
    "ExecuteTime": {
     "end_time": "2023-06-15T17:27:16.773048Z",
     "start_time": "2023-06-15T17:27:16.761333Z"
    }
   },
   "outputs": [
    {
     "name": "stdout",
     "output_type": "stream",
     "text": [
      "<re.Match object; span=(331, 334), match='Mr.'>\n",
      "<re.Match object; span=(375, 378), match='Mr.'>\n"
     ]
    }
   ],
   "source": [
    "#character set ( Quantifier )\n",
    "pattern = re.compile(r\"Mr\\.\")\n",
    "matches = pattern.finditer(text_to_search)\n",
    "for match in matches:\n",
    "    print(match)"
   ]
  },
  {
   "cell_type": "code",
   "execution_count": 55,
   "metadata": {
    "ExecuteTime": {
     "end_time": "2023-06-15T17:27:56.647818Z",
     "start_time": "2023-06-15T17:27:56.640883Z"
    }
   },
   "outputs": [
    {
     "name": "stdout",
     "output_type": "stream",
     "text": [
      "<re.Match object; span=(331, 334), match='Mr.'>\n",
      "<re.Match object; span=(343, 345), match='Mr'>\n",
      "<re.Match object; span=(361, 363), match='Mr'>\n",
      "<re.Match object; span=(375, 378), match='Mr.'>\n"
     ]
    }
   ],
   "source": [
    "#character set ( Quantifier )\n",
    "pattern = re.compile(r\"Mr\\.?\")  # one or zero \n",
    "matches = pattern.finditer(text_to_search)\n",
    "for match in matches:\n",
    "    print(match)\n",
    "\n",
    "# Eng Ahmed Hafez \n",
    "# Eng.Ahmed Hafez\n",
    "# Dr. Ahmed Hafez\n",
    "# Dr Ahmed Hafez"
   ]
  },
  {
   "cell_type": "code",
   "execution_count": 56,
   "metadata": {
    "ExecuteTime": {
     "end_time": "2023-06-15T17:29:24.654557Z",
     "start_time": "2023-06-15T17:29:24.644506Z"
    }
   },
   "outputs": [
    {
     "name": "stdout",
     "output_type": "stream",
     "text": [
      "<re.Match object; span=(331, 339), match='Mr. Scha'>\n",
      "<re.Match object; span=(343, 350), match='Mr Smit'>\n"
     ]
    }
   ],
   "source": [
    "#character set ( Quantifier )\n",
    "pattern = re.compile(r\"Mr\\.?\\s[A-Z]?\\w{3}\")\n",
    "matches = pattern.finditer(text_to_search)\n",
    "for match in matches:\n",
    "    print(match)\n",
    "# Mr[.]\" \"[A-Z]? (upper or lower or digits or underscore) (+ means : at least one )"
   ]
  },
  {
   "cell_type": "code",
   "execution_count": 58,
   "metadata": {
    "ExecuteTime": {
     "end_time": "2023-06-15T17:33:27.981774Z",
     "start_time": "2023-06-15T17:33:27.966405Z"
    },
    "scrolled": true
   },
   "outputs": [
    {
     "name": "stdout",
     "output_type": "stream",
     "text": [
      "<re.Match object; span=(331, 342), match='Mr. Schafer'>\n",
      "<re.Match object; span=(343, 351), match='Mr Smith'>\n",
      "<re.Match object; span=(375, 380), match='Mr. T'>\n"
     ]
    }
   ],
   "source": [
    "pattern = re.compile(r\"Mr\\.?\\s[A-Z]?\\w+\") # /w upper case or lower or digit or underscore\n",
    "matches = pattern.finditer(text_to_search)\n",
    "for match in matches:\n",
    "    print(match)\n",
    "# Mr[.]\" \"[A-Z]? (upper or lower or digits or underscore) (+ means : at least one (one or more) )"
   ]
  },
  {
   "cell_type": "code",
   "execution_count": 60,
   "metadata": {
    "ExecuteTime": {
     "end_time": "2023-06-15T17:34:51.591018Z",
     "start_time": "2023-06-15T17:34:51.582907Z"
    }
   },
   "outputs": [
    {
     "name": "stdout",
     "output_type": "stream",
     "text": [
      "<re.Match object; span=(331, 342), match='Mr. Schafer'>\n",
      "<re.Match object; span=(343, 351), match='Mr Smith'>\n",
      "<re.Match object; span=(352, 360), match='Ms Davis'>\n",
      "<re.Match object; span=(361, 374), match='Mrs. Robinson'>\n",
      "<re.Match object; span=(375, 380), match='Mr. T'>\n"
     ]
    }
   ],
   "source": [
    "#character set ( Quantifier )\n",
    "pattern = re.compile(r\"M(r|s|rs)\\.?\\s[A-Z]?\\w+\")\n",
    "matches = pattern.finditer(text_to_search)\n",
    "for match in matches:\n",
    "    print(match)\n"
   ]
  },
  {
   "cell_type": "code",
   "execution_count": 61,
   "metadata": {
    "ExecuteTime": {
     "end_time": "2023-06-15T17:35:20.543203Z",
     "start_time": "2023-06-15T17:35:20.530546Z"
    }
   },
   "outputs": [
    {
     "name": "stdout",
     "output_type": "stream",
     "text": [
      "<re.Match object; span=(58, 59), match='5'>\n",
      "<re.Match object; span=(190, 191), match='5'>\n",
      "<re.Match object; span=(191, 192), match='5'>\n",
      "<re.Match object; span=(199, 200), match='5'>\n",
      "<re.Match object; span=(200, 201), match='5'>\n",
      "<re.Match object; span=(210, 211), match='5'>\n",
      "<re.Match object; span=(215, 216), match='5'>\n",
      "<re.Match object; span=(219, 220), match='5'>\n",
      "<re.Match object; span=(222, 223), match='5'>\n",
      "<re.Match object; span=(226, 227), match='5'>\n",
      "<re.Match object; span=(234, 235), match='5'>\n",
      "<re.Match object; span=(238, 239), match='5'>\n",
      "<re.Match object; span=(257, 258), match='5'>\n",
      "<re.Match object; span=(258, 259), match='5'>\n",
      "<re.Match object; span=(259, 260), match='5'>\n",
      "<re.Match object; span=(270, 271), match='5'>\n",
      "<re.Match object; span=(271, 272), match='5'>\n",
      "<re.Match object; span=(272, 273), match='5'>\n",
      "<re.Match object; span=(283, 284), match='5'>\n",
      "<re.Match object; span=(284, 285), match='5'>\n",
      "<re.Match object; span=(285, 286), match='5'>\n",
      "<re.Match object; span=(296, 297), match='5'>\n",
      "<re.Match object; span=(297, 298), match='5'>\n",
      "<re.Match object; span=(298, 299), match='5'>\n",
      "<re.Match object; span=(299, 301), match='-1'>\n",
      "<re.Match object; span=(309, 310), match='5'>\n",
      "<re.Match object; span=(310, 311), match='5'>\n",
      "<re.Match object; span=(311, 312), match='5'>\n",
      "<re.Match object; span=(312, 314), match='-1'>\n",
      "<re.Match object; span=(327, 328), match='5'>\n"
     ]
    }
   ],
   "source": [
    "#character set ( Quantifier )\n",
    "pattern = re.compile(r\"(-1|5)\")\n",
    "matches = pattern.finditer(text_to_search)\n",
    "for match in matches:\n",
    "    print(match)"
   ]
  },
  {
   "cell_type": "code",
   "execution_count": 11,
   "metadata": {
    "ExecuteTime": {
     "end_time": "2023-07-18T20:48:50.084332Z",
     "start_time": "2023-07-18T20:48:50.073302Z"
    }
   },
   "outputs": [
    {
     "name": "stdout",
     "output_type": "stream",
     "text": [
      "<re.Match object; span=(0, 19), match='Ahmed Kamal Mohamed'>\n",
      "<re.Match object; span=(21, 38), match='Ahmed Ali Ebrahim'>\n"
     ]
    }
   ],
   "source": [
    "# /w lower case, upper case, digit, underscore\n",
    "s = \"Ahmed Kamal Mohamed, Ahmed Ali Ebrahim, Samy Ashraf \"\n",
    "pattern = re.compile(r\"\\w+\\s\\w+\\s\\w+\")\n",
    "matches = pattern.finditer(s)\n",
    "for match in matches:\n",
    "    print(match)"
   ]
  },
  {
   "cell_type": "code",
   "execution_count": 65,
   "metadata": {
    "ExecuteTime": {
     "end_time": "2023-06-15T17:37:41.191411Z",
     "start_time": "2023-06-15T17:37:41.177050Z"
    }
   },
   "outputs": [
    {
     "name": "stdout",
     "output_type": "stream",
     "text": [
      "<re.Match object; span=(1, 24), match='CoreyMSchafer@gmail.com'>\n"
     ]
    }
   ],
   "source": [
    "emails = '''\n",
    "CoreyMSchafer@gmail.com\n",
    "corey.schafer@university.edu\n",
    "corey-321-schafer@my-work.net\n",
    "'''\n",
    "\n",
    "pattern = re.compile(r'[a-zA-Z]+@[a-zA-Z]+\\.com')\n",
    "\n",
    "matches = pattern.finditer(emails)\n",
    "\n",
    "for match in matches:\n",
    "    print(match)"
   ]
  },
  {
   "cell_type": "code",
   "execution_count": 66,
   "metadata": {
    "ExecuteTime": {
     "end_time": "2023-06-15T17:37:59.334327Z",
     "start_time": "2023-06-15T17:37:59.322643Z"
    }
   },
   "outputs": [
    {
     "name": "stdout",
     "output_type": "stream",
     "text": [
      "<re.Match object; span=(1, 24), match='CoreyMSchafer@gmail.com'>\n",
      "<re.Match object; span=(25, 53), match='corey.schafer@university.edu'>\n",
      "<re.Match object; span=(63, 83), match='-schafer@my-work.net'>\n"
     ]
    }
   ],
   "source": [
    "emails = '''\n",
    "CoreyMSchafer@gmail.com\n",
    "corey.schafer@university.edu\n",
    "corey-321-schafer@my-work.net\n",
    "'''\n",
    "\n",
    "pattern = re.compile(r'[a-zA-Z.-]+@[a-zA-Z-]+\\.(com|edu|net)')\n",
    "\n",
    "matches = pattern.finditer(emails)\n",
    "\n",
    "for match in matches:\n",
    "    print(match)"
   ]
  },
  {
   "cell_type": "code",
   "execution_count": 67,
   "metadata": {
    "ExecuteTime": {
     "end_time": "2023-06-15T17:38:44.651959Z",
     "start_time": "2023-06-15T17:38:44.643209Z"
    }
   },
   "outputs": [
    {
     "name": "stdout",
     "output_type": "stream",
     "text": [
      "<re.Match object; span=(1, 24), match='CoreyMSchafer@gmail.com'>\n",
      "<re.Match object; span=(25, 53), match='corey.schafer@university.edu'>\n",
      "<re.Match object; span=(54, 83), match='corey-321-schafer@my-work.net'>\n",
      "<re.Match object; span=(84, 99), match='ahmed@gmail.myw'>\n"
     ]
    }
   ],
   "source": [
    "emails = '''\n",
    "CoreyMSchafer@gmail.com\n",
    "corey.schafer@university.edu\n",
    "corey-321-schafer@my-work.net\n",
    "ahmed@gmail.mywork\n",
    "'''\n",
    "\n",
    "pattern = re.compile(r'[a-zA-Z0-9-.]+@[a-zA-Z-]+\\.\\w{3}')\n",
    "\n",
    "matches = pattern.finditer(emails)\n",
    "for match in matches:\n",
    "    print(match)"
   ]
  },
  {
   "cell_type": "code",
   "execution_count": 13,
   "metadata": {
    "ExecuteTime": {
     "end_time": "2023-07-18T20:55:10.845765Z",
     "start_time": "2023-07-18T20:55:10.834019Z"
    }
   },
   "outputs": [
    {
     "name": "stdout",
     "output_type": "stream",
     "text": [
      "<re.Match object; span=(1, 24), match='CoreyMSchafer@gmail.com'>\n",
      "<re.Match object; span=(25, 53), match='corey.schafer@university.edu'>\n",
      "<re.Match object; span=(54, 83), match='corey-321-schafer@my-work.net'>\n",
      "<re.Match object; span=(84, 99), match='ahmed@gmail.myw'>\n"
     ]
    }
   ],
   "source": [
    "emails = '''\n",
    "CoreyMSchafer@gmail.com\n",
    "corey.schafer@university.edu\n",
    "corey-321-schafer@my-work.net\n",
    "ahmed@gmail.mywork\n",
    "'''\n",
    "\n",
    "pattern = re.compile(r'[a-zA-Z0-9-.]+@[a-zA-Z-]+\\.\\w{3}')\n",
    "\n",
    "matches = pattern.finditer(emails)\n",
    "for match in matches:\n",
    "    print(match)"
   ]
  },
  {
   "cell_type": "code",
   "execution_count": 68,
   "metadata": {
    "ExecuteTime": {
     "end_time": "2023-06-15T17:39:46.622308Z",
     "start_time": "2023-06-15T17:39:46.613099Z"
    }
   },
   "outputs": [
    {
     "name": "stdout",
     "output_type": "stream",
     "text": [
      "<re.Match object; span=(1, 24), match='CoreyMSchafer@gmail.com'>\n",
      "<re.Match object; span=(25, 53), match='corey.schafer@university.edu'>\n",
      "<re.Match object; span=(54, 83), match='corey-321-schafer@my-work.net'>\n"
     ]
    }
   ],
   "source": [
    "emails = '''\n",
    "CoreyMSchafer@gmail.com\n",
    "corey.schafer@university.edu\n",
    "corey-321-schafer@my-work.net\n",
    "'''\n",
    "\n",
    "pattern = re.compile(r'[a-zA-Z0-9_.+-]+@[a-zA-Z0-9-]+\\.[a-zA-Z0-9-.]+')\n",
    "matches = pattern.finditer(emails)\n",
    "\n",
    "for match in matches:\n",
    "    print(match)"
   ]
  },
  {
   "cell_type": "code",
   "execution_count": 69,
   "metadata": {
    "ExecuteTime": {
     "end_time": "2023-06-15T17:41:55.911333Z",
     "start_time": "2023-06-15T17:41:55.898942Z"
    }
   },
   "outputs": [
    {
     "name": "stdout",
     "output_type": "stream",
     "text": [
      "3\n"
     ]
    }
   ],
   "source": [
    "emails = '''\n",
    "CoreyMSchafer@gmaail.co)m\n",
    "corey.schafer@university.ed)u\n",
    "corey-321-schafer@my-work.ne)t\n",
    "'''\n",
    "\n",
    "pattern = re.compile(r'[a-zA-Z0-9_.+-]+@[a-zA-Z0-9-]+\\.[a-zA-Z0-9-.]{2,}')\n",
    "matches = pattern.finditer(emails)\n",
    "\n",
    "length  = sum(1 for  i in matches)\n",
    "print(length)\n",
    "if (length < 1):\n",
    "    print(\"sorry, invalid email :(\")"
   ]
  },
  {
   "cell_type": "code",
   "execution_count": 60,
   "metadata": {
    "ExecuteTime": {
     "end_time": "2021-12-11T18:13:57.151046Z",
     "start_time": "2021-12-11T18:13:57.141046Z"
    }
   },
   "outputs": [
    {
     "name": "stdout",
     "output_type": "stream",
     "text": [
      "<re.Match object; span=(0, 3), match='123'>\n"
     ]
    }
   ],
   "source": [
    "sentence = '1234'\n",
    "pattern = re.compile(r'\\d\\d\\d')\n",
    "\n",
    "matches = pattern.finditer(sentence)\n",
    "\n",
    "for match in matches:\n",
    "    print(match)"
   ]
  },
  {
   "cell_type": "code",
   "execution_count": null,
   "metadata": {},
   "outputs": [],
   "source": []
  },
  {
   "cell_type": "code",
   "execution_count": null,
   "metadata": {},
   "outputs": [],
   "source": []
  },
  {
   "cell_type": "code",
   "execution_count": null,
   "metadata": {},
   "outputs": [],
   "source": []
  },
  {
   "cell_type": "code",
   "execution_count": 168,
   "metadata": {
    "ExecuteTime": {
     "end_time": "2021-04-15T13:46:48.058137Z",
     "start_time": "2021-04-15T13:46:48.044138Z"
    }
   },
   "outputs": [],
   "source": [
    "class Human:\n",
    "    \n",
    "    def __init__(self):\n",
    "        self.__name = \"Ahmed\"\n",
    "    \n",
    "    def getname(self):\n",
    "        print (self.__name)\n",
    "    \n",
    "    def setname (self, newname ):\n",
    "        self.__name = newname"
   ]
  },
  {
   "cell_type": "code",
   "execution_count": 169,
   "metadata": {
    "ExecuteTime": {
     "end_time": "2021-04-15T13:47:10.157070Z",
     "start_time": "2021-04-15T13:47:10.139070Z"
    }
   },
   "outputs": [],
   "source": [
    "class Employee(Human):\n",
    "    def __init__(self):\n",
    "        Human.__init__(self)\n",
    "    \n",
    "    \n",
    "    def welcome(self):\n",
    "        print (\"Welcome emp \")\n",
    "    "
   ]
  },
  {
   "cell_type": "code",
   "execution_count": 170,
   "metadata": {
    "ExecuteTime": {
     "end_time": "2021-04-15T13:47:12.397882Z",
     "start_time": "2021-04-15T13:47:12.384854Z"
    }
   },
   "outputs": [],
   "source": [
    "e1 = Employee()\n"
   ]
  },
  {
   "cell_type": "code",
   "execution_count": 171,
   "metadata": {
    "ExecuteTime": {
     "end_time": "2021-04-15T13:47:16.794296Z",
     "start_time": "2021-04-15T13:47:16.777299Z"
    },
    "scrolled": true
   },
   "outputs": [
    {
     "data": {
      "text/plain": [
       "'Ahmed'"
      ]
     },
     "execution_count": 171,
     "metadata": {},
     "output_type": "execute_result"
    }
   ],
   "source": [
    "e1.name"
   ]
  },
  {
   "cell_type": "markdown",
   "metadata": {},
   "source": [
    "minimum requirments for AI Device: \n",
    "1. Graphics Card : Navidia\n",
    "2. RAM: 16GB\n",
    "3. processor :  >= 9th gen ( intel ) \n",
    "4. Nividia : RTX2060 ( 6GB ) or bigger "
   ]
  },
  {
   "cell_type": "markdown",
   "metadata": {},
   "source": [
    "Todays Tasks: \n",
    "\n",
    "1. make sure that we created : linkedin , colab , kaggle, github , twitter account \n",
    "2. send CV , if not create then send it\n",
    "\n",
    "sesstion related : \n",
    "1. answer notebook , upload it to github "
   ]
  },
  {
   "cell_type": "markdown",
   "metadata": {},
   "source": [
    "**Session Task**\n",
    "\n",
    "Create a text file:  \n",
    "\n",
    "Ahmed Hafez 0102345678 ahmed@gmail.com\n",
    "\n",
    "\n",
    "\n",
    "Steps: \n",
    "\n",
    "1. Read file \n",
    "2. Create 3 lists: \n",
    "    - list names \n",
    "    - list numbers \n",
    "    - list mails\n",
    "3. append each data into its suitable list\n",
    "\n",
    "**Advanced Task**\n",
    "\n",
    "- make file unordered ( ex : name, email, phone in line 1, phone , name , email in line 2, etc...)\n",
    "- make file sperated differently ( ex: name,email,phone in line 1, name-email-phone line 2, etc...)"
   ]
  }
 ],
 "metadata": {
  "kernelspec": {
   "display_name": "Python 3 (ipykernel)",
   "language": "python",
   "name": "python3"
  },
  "language_info": {
   "codemirror_mode": {
    "name": "ipython",
    "version": 3
   },
   "file_extension": ".py",
   "mimetype": "text/x-python",
   "name": "python",
   "nbconvert_exporter": "python",
   "pygments_lexer": "ipython3",
   "version": "3.9.13"
  },
  "toc": {
   "base_numbering": 1,
   "nav_menu": {},
   "number_sections": false,
   "sideBar": true,
   "skip_h1_title": false,
   "title_cell": "Table of Contents",
   "title_sidebar": "Contents",
   "toc_cell": false,
   "toc_position": {},
   "toc_section_display": true,
   "toc_window_display": false
  },
  "varInspector": {
   "cols": {
    "lenName": 16,
    "lenType": 16,
    "lenVar": 40
   },
   "kernels_config": {
    "python": {
     "delete_cmd_postfix": "",
     "delete_cmd_prefix": "del ",
     "library": "var_list.py",
     "varRefreshCmd": "print(var_dic_list())"
    },
    "r": {
     "delete_cmd_postfix": ") ",
     "delete_cmd_prefix": "rm(",
     "library": "var_list.r",
     "varRefreshCmd": "cat(var_dic_list()) "
    }
   },
   "types_to_exclude": [
    "module",
    "function",
    "builtin_function_or_method",
    "instance",
    "_Feature"
   ],
   "window_display": false
  }
 },
 "nbformat": 4,
 "nbformat_minor": 4
}
